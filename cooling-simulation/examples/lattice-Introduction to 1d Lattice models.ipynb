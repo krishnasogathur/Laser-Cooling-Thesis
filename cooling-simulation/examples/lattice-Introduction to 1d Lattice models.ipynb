{
 "cells": [
  {
   "cell_type": "markdown",
   "metadata": {},
   "source": [
    "# One Dimensional Lattice Models with QuTiP: Introduction"
   ]
  },
  {
   "cell_type": "markdown",
   "metadata": {},
   "source": [
    "Saumya Biswas (saumyab@uoregon.edu)\n",
    "\n",
    "For more information about QuTiP see [http://qutip.org](http://qutip.org)\n",
    "\n",
    "We introduce the basic functionality of QuTiPs Lattice1d class of the lattice module."
   ]
  },
  {
   "cell_type": "markdown",
   "metadata": {},
   "source": [
    "# About\n",
    "\n",
    "The qutip.lattice module enables defining tight binding/lattice models for bosons and fermions on lattices and calculating their fundamental properties specially features arising from the translational symmetry of the lattice. The lattice classes defined are compatible with the rest of the functionalities of QuTiP and can make use of them quite conveniently.\n",
    "\n",
    "The module can be used to perform the widely used quantum optics calculations involving unitary/nonunitary evolutions, steadystates, correlation functions for bosons and fermions on a lattice. It also facilitates the traditional condensed matter problem calculations about topology and ground state properties.\n",
    "\n",
    "The lattice1d class is well-suited for studying composite systems with multiple orbitals/excitations/spins per site of a crystal(with a unit cell possibly composed of multiple sites) with tensor structures of indices(cell number, site number, degrees of freedom) aligned with the spirit of QuTiP's tensor functionalities."
   ]
  },
  {
   "cell_type": "markdown",
   "metadata": {},
   "source": [
    "## Single-particle and Multiparticle physics"
   ]
  },
  {
   "cell_type": "markdown",
   "metadata": {},
   "source": [
    "All the functionalities of the Lattice1d class are for sigle particle physics. The multi-particle physics calculations can be performed with a subclass of the Lattice1d class which is initiated with an instance of the Lattice1d class and inherits all the information about the lattice and basis."
   ]
  },
  {
   "cell_type": "markdown",
   "metadata": {},
   "source": [
    "![title](images/latt_1.png)\n",
    "\n",
    "## Unitcell structure in the Second Quantized notation\n",
    "Defining an instance of the Lattice1d class requires formatting the second Quantized Hamiltonian in a unitcell based structure with nearest neighbor coupling only. Howewver, the functionality is limited to single particle physics only in Lattice1d class methods.\n",
    "\n",
    "\\begin{eqnarray}\n",
    "H = \\sum_i \\psi_i^{\\dagger} D \\psi_i + \\sum_{i} \\left( \\psi_i^{\\dagger} T \\psi_{i+1} +  \\psi_{i+1}^{\\dagger} T^{\\dagger} \\psi_i  \\right) \\label{eq:TB_block} \n",
    "\\end{eqnarray}\n",
    "\n",
    "where $\\psi_i$ is the annihilation operator for a unit cell at coordinate i,$D$ is the cell Hamiltonian of the unit cell, $T$ is the inter cell hopping. Any 1d lattice can be put in the form of the equation above by resolving it into unit cells with coupling limited to the nearest neighbors only."
   ]
  },
  {
   "cell_type": "markdown",
   "metadata": {},
   "source": [
    "The Lattice1d class is based on this unit cell and nearest neighbor hopping format. A unit cell can be comprised of one or more sites with one or more orbitals, spins, excitations or any other degrees of freedom. An 1d lattice with next nearest neighbor coupling can be equivalently represented as a 1d lattice with unit cells of larger size limiting the hopping terms to nearest neighbors only."
   ]
  },
  {
   "cell_type": "markdown",
   "metadata": {},
   "source": [
    "## How to Define a One Dimensional Lattice"
   ]
  },
  {
   "cell_type": "code",
   "execution_count": 1,
   "metadata": {},
   "outputs": [],
   "source": [
    "from qutip import *\n",
    "import matplotlib.pyplot as plt\n",
    "import numpy as np"
   ]
  },
  {
   "cell_type": "markdown",
   "metadata": {},
   "source": [
    "### Declaring a tight binding chain with a single site unit cell\n",
    "As a default the instance of Lattice1d class is initialized as an atomic chain with a unit\n",
    "cell with one atom only. The user need only define the number of cells and the boundary\n",
    "condition."
   ]
  },
  {
   "cell_type": "code",
   "execution_count": 2,
   "metadata": {},
   "outputs": [],
   "source": [
    "boundary_condition = \"periodic\"\n",
    "cells = 3\n",
    "Periodic_Atom_Chain = Lattice1d(num_cell=cells, boundary = boundary_condition)"
   ]
  },
  {
   "cell_type": "markdown",
   "metadata": {},
   "source": [
    "The user can call Periodic_Atom_Chain to print all its information."
   ]
  },
  {
   "cell_type": "code",
   "execution_count": 3,
   "metadata": {},
   "outputs": [
    {
     "data": {
      "text/plain": [
       "Lattice1d object: Number of cells = 3,\n",
       "Number of sites in the cell = 1,\n",
       "Degrees of freedom per site = [],\n",
       "Lattice tensor configuration = [3],\n",
       "basis_Hamiltonian = Quantum object: dims = [[1], [1]], shape = (1, 1), type = bra\n",
       "Qobj data =\n",
       "[[0.]],\n",
       "inter_hop = [Quantum object: dims = [[1], [1]], shape = (1, 1), type = bra\n",
       "Qobj data =\n",
       "[[-1.]]],\n",
       "cell_tensor_config = [1]\n",
       "Boundary Condition:  Periodic"
      ]
     },
     "execution_count": 3,
     "metadata": {},
     "output_type": "execute_result"
    }
   ],
   "source": [
    "Periodic_Atom_Chain"
   ]
  },
  {
   "cell_type": "markdown",
   "metadata": {},
   "source": [
    "To define a lattice with more than one site per unit cell and one or more degrees of freedom per site, the cell_num_site and cell_site_dof arguments must be used. In a case like this, specifying the intra and inter cell interactions would also be necessary (through the arguments cell_Hamiltonian and inter_hop) in most cases. However, Lattice1d() will initiate the instance with default cell_Hamiltonian and inter_hop\n",
    "if the user does not input it."
   ]
  },
  {
   "cell_type": "markdown",
   "metadata": {},
   "source": [
    "### The use of display_unit_cell() and display_lattice()"
   ]
  },
  {
   "cell_type": "markdown",
   "metadata": {},
   "source": [
    "The functions display_unit_cell() and display_lattice() can be used at any stage to produce visual symbolizations and elementwise information. "
   ]
  },
  {
   "cell_type": "code",
   "execution_count": 4,
   "metadata": {},
   "outputs": [
    {
     "data": {
      "image/png": "[encoded data removed]",
      "text/plain": [
       "<Figure size 144x180 with 1 Axes>"
      ]
     },
     "metadata": {
      "needs_background": "light"
     },
     "output_type": "display_data"
    },
    {
     "data": {
      "image/png": "[encoded data removed]",
      "text/plain": [
       "<Figure size 648x648 with 1 Axes>"
      ]
     },
     "metadata": {
      "needs_background": "light"
     },
     "output_type": "display_data"
    }
   ],
   "source": [
    "H = Periodic_Atom_Chain.display_unit_cell(label_on = True)\n",
    "T = Periodic_Atom_Chain.display_lattice()"
   ]
  },
  {
   "cell_type": "markdown",
   "metadata": {},
   "source": [
    "The user can review the attribute values of H and T from the retuned Qobjs."
   ]
  },
  {
   "cell_type": "code",
   "execution_count": 5,
   "metadata": {},
   "outputs": [
    {
     "name": "stdout",
     "output_type": "stream",
     "text": [
      "Quantum object: dims = [[1], [1]], shape = (1, 1), type = bra\n",
      "Qobj data =\n",
      "[[0.]]\n",
      "Quantum object: dims = [[1], [1]], shape = (1, 1), type = bra\n",
      "Qobj data =\n",
      "[[-1.]]\n"
     ]
    }
   ],
   "source": [
    "print(H[0][0])\n",
    "print(T)"
   ]
  },
  {
   "cell_type": "markdown",
   "metadata": {},
   "source": [
    "### Multiple site per unitcell and multiple degrees of freedom per site "
   ]
  },
  {
   "cell_type": "markdown",
   "metadata": {},
   "source": [
    "Specifying cell_num_site enables choosing multiple sites for a unit call and any combination of degrees of freedom can be chosen for each site with cell_site_dof."
   ]
  },
  {
   "cell_type": "code",
   "execution_count": 6,
   "metadata": {},
   "outputs": [],
   "source": [
    "boundary_condition = \"periodic\"\n",
    "cells = 3\n",
    "cell_num_site = 2\n",
    "cell_site_dof = [2,3]    # It could be 2 orbitals and 3 spins per sites or\n",
    "                         # any other combination of such degrees of freedom\n",
    "lattice_3223 = Lattice1d(num_cell=cells, boundary = boundary_condition,\n",
    "                           cell_num_site = cell_num_site, cell_site_dof = cell_site_dof)"
   ]
  },
  {
   "cell_type": "markdown",
   "metadata": {},
   "source": [
    "###  The use of cell_structures() "
   ]
  },
  {
   "cell_type": "markdown",
   "metadata": {},
   "source": [
    "There is an aide function that help the user form the cell_Hamiltonian and inter_hop\n",
    "arguments namely cell_structures()."
   ]
  },
  {
   "cell_type": "code",
   "execution_count": 7,
   "metadata": {},
   "outputs": [],
   "source": [
    "val_s = ['site0', 'site1', 'site2']\n",
    "val_t = [' orb0', ' orb1']\n",
    "(cell_H_form,inter_cell_T_form,cell_H,inter_cell_T) = cell_structures( val_s, val_t)"
   ]
  },
  {
   "cell_type": "markdown",
   "metadata": {},
   "source": [
    "The cell_structure() function returns two list of lists cell_H_form and inter_cell_T_form\n",
    "that prints str s that can guide the user enter the nonzero elements at cell_H \n",
    "and inter_cell_T which are np.zeros with the appropriate size. The procedure would\n",
    "be to check a certain element in cell_H_form and insert the value for cell_H and so on."
   ]
  },
  {
   "cell_type": "code",
   "execution_count": 8,
   "metadata": {},
   "outputs": [
    {
     "data": {
      "text/plain": [
       "'<site0 orb0 H site2 orb1>'"
      ]
     },
     "execution_count": 8,
     "metadata": {},
     "output_type": "execute_result"
    }
   ],
   "source": [
    "cell_H_form[0][5]"
   ]
  },
  {
   "cell_type": "code",
   "execution_count": 9,
   "metadata": {},
   "outputs": [],
   "source": [
    "cell_H[0][5] = -1-0.5j   # Calculated value from hand calculation\n",
    "cell_H[5][0] = -1+0.5j   # keeping it Hermitian"
   ]
  },
  {
   "cell_type": "markdown",
   "metadata": {},
   "source": [
    "Similarly, we set more elements to non-zero values."
   ]
  },
  {
   "cell_type": "code",
   "execution_count": 10,
   "metadata": {},
   "outputs": [
    {
     "data": {
      "text/plain": [
       "'<site1 orb0 H site2 orb1>'"
      ]
     },
     "execution_count": 10,
     "metadata": {},
     "output_type": "execute_result"
    }
   ],
   "source": [
    "cell_H_form[2][5]"
   ]
  },
  {
   "cell_type": "code",
   "execution_count": 11,
   "metadata": {},
   "outputs": [],
   "source": [
    "cell_H[2][5] = -1+0.25j   # Calculated value from hand calculation\n",
    "cell_H[5][2] = -1-0.25j   # keeping it Hermitian"
   ]
  },
  {
   "cell_type": "markdown",
   "metadata": {},
   "source": [
    "The user would have to enter all the nonzero elements in cell_H and inter_cell_T\n",
    "and then convert them into Qobjs and use them in declaring the instance of Lattice_1d."
   ]
  },
  {
   "cell_type": "code",
   "execution_count": 12,
   "metadata": {},
   "outputs": [
    {
     "data": {
      "text/plain": [
       "'<cell(i):site2 orb1 H site0 orb0:cell(i+1) >'"
      ]
     },
     "execution_count": 12,
     "metadata": {},
     "output_type": "execute_result"
    }
   ],
   "source": [
    "inter_cell_T_form[5][0]"
   ]
  },
  {
   "cell_type": "code",
   "execution_count": 13,
   "metadata": {},
   "outputs": [],
   "source": [
    "inter_cell_T[5][0] = -0.5\n",
    "inter_cell_T[0][5] = -0.5"
   ]
  },
  {
   "cell_type": "code",
   "execution_count": 14,
   "metadata": {},
   "outputs": [],
   "source": [
    "cell_H = Qobj(cell_H)\n",
    "inter_cell_T = Qobj(inter_cell_T)\n",
    "lattice_324 = Lattice1d(num_cell=3, boundary = \"periodic\", cell_num_site = 3, cell_site_dof = [2], Hamiltonian_of_cell = cell_H, inter_hop = inter_cell_T )"
   ]
  },
  {
   "cell_type": "markdown",
   "metadata": {},
   "source": [
    "cell_cite_dof can take care of composite degrees of freedom such as orbits, spins and/or excitations. For example, if each site has 4 orbitals and 2 spins, we set cell_site_dof = [4,2] defines that lattice. With the aid of the Lattice1d.basis() operator we can access particles localized at specific cell,site,orbitals and spin.\n",
    "Valid inputs for cell_site_dof are one int(e.g. 4) or a list of int's(e.g. [4,2]). A single dof can be entered either as an int or a list with that int. So cell_site_dof = [4] and cell_site_dof = 4 are the same. "
   ]
  },
  {
   "cell_type": "code",
   "execution_count": 15,
   "metadata": {},
   "outputs": [
    {
     "data": {
      "image/png": "[encoded data removed]",
      "text/plain": [
       "<Figure size 432x540 with 1 Axes>"
      ]
     },
     "metadata": {
      "needs_background": "light"
     },
     "output_type": "display_data"
    },
    {
     "data": {
      "image/png": "[encoded data removed]",
      "text/plain": [
       "<Figure size 648x648 with 1 Axes>"
      ]
     },
     "metadata": {
      "needs_background": "light"
     },
     "output_type": "display_data"
    }
   ],
   "source": [
    "H = lattice_324.display_unit_cell(label_on = True)\n",
    "T = lattice_324.display_lattice()"
   ]
  },
  {
   "cell_type": "markdown",
   "metadata": {},
   "source": [
    "The labels of the diagrams can be read off from the returned H and T Qobjs. For example, $H_{12}$ can be read off as follows."
   ]
  },
  {
   "cell_type": "code",
   "execution_count": 16,
   "metadata": {},
   "outputs": [
    {
     "data": {
      "text/latex": [
       "Quantum object: dims = [[2], [2]], shape = (2, 2), type = oper, isherm = False\\begin{equation*}\\left(\\begin{array}{*{11}c}0.0 & (-1.0+0.250j)\\\\0.0 & 0.0\\\\\\end{array}\\right)\\end{equation*}"
      ],
      "text/plain": [
       "Quantum object: dims = [[2], [2]], shape = (2, 2), type = oper, isherm = False\n",
       "Qobj data =\n",
       "[[ 0.+0.j   -1.+0.25j]\n",
       " [ 0.+0.j    0.+0.j  ]]"
      ]
     },
     "execution_count": 16,
     "metadata": {},
     "output_type": "execute_result"
    }
   ],
   "source": [
    "H[1][2]"
   ]
  },
  {
   "cell_type": "markdown",
   "metadata": {},
   "source": [
    "### Basis function: ket vector initialized at specific cell, site, dof:\n",
    "\n",
    "The basis() function enables the user to initialize a ket vector at a specific cell,\n",
    "site and dof."
   ]
  },
  {
   "cell_type": "code",
   "execution_count": 17,
   "metadata": {},
   "outputs": [
    {
     "name": "stdout",
     "output_type": "stream",
     "text": [
      "Quantum object: dims = [[1, 1, 1, 1], [3, 2, 4, 2]], shape = (1, 48), type = bra\n",
      "Qobj data =\n",
      "[[0. 0. 0. 0. 0. 0. 0. 0. 0. 0. 0. 0. 0. 0. 0. 0. 0. 0. 0. 0. 0. 1. 0. 0.\n",
      "  0. 0. 0. 0. 0. 0. 0. 0. 0. 0. 0. 0. 0. 0. 0. 0. 0. 0. 0. 0. 0. 0. 0. 0.]]\n"
     ]
    }
   ],
   "source": [
    "lattice_3224 = Lattice1d(num_cell=3, boundary = \"periodic\", \\\n",
    "                           cell_num_site = 2, cell_site_dof = [4,2])\n",
    "psi0 = lattice_3224.basis(1,0,[2,1])\n",
    "print( psi0.dag() )  # Because plotting the dag() takes up less space"
   ]
  },
  {
   "cell_type": "markdown",
   "metadata": {},
   "source": [
    "### Position Operator\n",
    "\n",
    "Calling the position operator, x() returns an operator in matrix form that gives the\n",
    "cell number for all the dofs present on the diagonal elements. The length of the unit\n",
    "cell is always considered 1."
   ]
  },
  {
   "cell_type": "code",
   "execution_count": 18,
   "metadata": {},
   "outputs": [
    {
     "data": {
      "text/latex": [
       "Quantum object: dims = [[4, 2], [4, 2]], shape = (8, 8), type = oper, isherm = True\\begin{equation*}\\left(\\begin{array}{*{11}c}0.0 & 0.0 & 0.0 & 0.0 & 0.0 & 0.0 & 0.0 & 0.0\\\\0.0 & 0.0 & 0.0 & 0.0 & 0.0 & 0.0 & 0.0 & 0.0\\\\0.0 & 0.0 & 1.0 & 0.0 & 0.0 & 0.0 & 0.0 & 0.0\\\\0.0 & 0.0 & 0.0 & 1.0 & 0.0 & 0.0 & 0.0 & 0.0\\\\0.0 & 0.0 & 0.0 & 0.0 & 2.0 & 0.0 & 0.0 & 0.0\\\\0.0 & 0.0 & 0.0 & 0.0 & 0.0 & 2.0 & 0.0 & 0.0\\\\0.0 & 0.0 & 0.0 & 0.0 & 0.0 & 0.0 & 3.0 & 0.0\\\\0.0 & 0.0 & 0.0 & 0.0 & 0.0 & 0.0 & 0.0 & 3.0\\\\\\end{array}\\right)\\end{equation*}"
      ],
      "text/plain": [
       "Quantum object: dims = [[4, 2], [4, 2]], shape = (8, 8), type = oper, isherm = True\n",
       "Qobj data =\n",
       "[[0. 0. 0. 0. 0. 0. 0. 0.]\n",
       " [0. 0. 0. 0. 0. 0. 0. 0.]\n",
       " [0. 0. 1. 0. 0. 0. 0. 0.]\n",
       " [0. 0. 0. 1. 0. 0. 0. 0.]\n",
       " [0. 0. 0. 0. 2. 0. 0. 0.]\n",
       " [0. 0. 0. 0. 0. 2. 0. 0.]\n",
       " [0. 0. 0. 0. 0. 0. 3. 0.]\n",
       " [0. 0. 0. 0. 0. 0. 0. 3.]]"
      ]
     },
     "execution_count": 18,
     "metadata": {},
     "output_type": "execute_result"
    }
   ],
   "source": [
    "lattice_412 = Lattice1d(num_cell=4, boundary = \"periodic\", cell_num_site = 1, cell_site_dof = [2])\n",
    "lattice_412.x()"
   ]
  },
  {
   "cell_type": "markdown",
   "metadata": {},
   "source": [
    "### The crystal momentum operator"
   ]
  },
  {
   "cell_type": "markdown",
   "metadata": {},
   "source": [
    "The crystal momentum operator can be produced with the k() method."
   ]
  },
  {
   "cell_type": "code",
   "execution_count": 19,
   "metadata": {},
   "outputs": [
    {
     "name": "stdout",
     "output_type": "stream",
     "text": [
      "Quantum object: dims = [[4], [4]], shape = (4, 4), type = oper, isherm = True\n",
      "Qobj data =\n",
      "[[ 0.78539816+0.j         -0.78539816-0.78539816j  0.78539816+0.j\n",
      "  -0.78539816+0.78539816j]\n",
      " [-0.78539816+0.78539816j  0.78539816+0.j         -0.78539816-0.78539816j\n",
      "   0.78539816+0.j        ]\n",
      " [ 0.78539816+0.j         -0.78539816+0.78539816j  0.78539816+0.j\n",
      "  -0.78539816-0.78539816j]\n",
      " [-0.78539816-0.78539816j  0.78539816+0.j         -0.78539816+0.78539816j\n",
      "   0.78539816+0.j        ]]\n"
     ]
    }
   ],
   "source": [
    "lattice_411 = Lattice1d(num_cell=4, boundary = \"periodic\", cell_num_site = 1, cell_site_dof = [1])\n",
    "k = lattice_411.k()\n",
    "print(k)"
   ]
  },
  {
   "cell_type": "markdown",
   "metadata": {},
   "source": [
    "### Distribute A Operator\n",
    "The operator_at_cells() function distributes a user input operator on cells specified \n",
    "in a list and identity operator on the rest.\n",
    "The operator distribute_operator() distributes it over all the cells indiscriinately."
   ]
  },
  {
   "cell_type": "code",
   "execution_count": 20,
   "metadata": {},
   "outputs": [
    {
     "name": "stdout",
     "output_type": "stream",
     "text": [
      "Quantum object: dims = [[4, 2], [4, 2]], shape = (8, 8), type = oper, isherm = True\n",
      "Qobj data =\n",
      "[[0. 0. 0. 0. 0. 0. 0. 0.]\n",
      " [0. 0. 0. 0. 0. 0. 0. 0.]\n",
      " [0. 0. 0. 1. 0. 0. 0. 0.]\n",
      " [0. 0. 1. 0. 0. 0. 0. 0.]\n",
      " [0. 0. 0. 0. 0. 1. 0. 0.]\n",
      " [0. 0. 0. 0. 1. 0. 0. 0.]\n",
      " [0. 0. 0. 0. 0. 0. 0. 0.]\n",
      " [0. 0. 0. 0. 0. 0. 0. 0.]]\n",
      "Quantum object: dims = [[4, 2], [4, 2]], shape = (8, 8), type = oper, isherm = True\n",
      "Qobj data =\n",
      "[[0. 1. 0. 0. 0. 0. 0. 0.]\n",
      " [1. 0. 0. 0. 0. 0. 0. 0.]\n",
      " [0. 0. 0. 1. 0. 0. 0. 0.]\n",
      " [0. 0. 1. 0. 0. 0. 0. 0.]\n",
      " [0. 0. 0. 0. 0. 1. 0. 0.]\n",
      " [0. 0. 0. 0. 1. 0. 0. 0.]\n",
      " [0. 0. 0. 0. 0. 0. 0. 1.]\n",
      " [0. 0. 0. 0. 0. 0. 1. 0.]]\n"
     ]
    }
   ],
   "source": [
    "lattice_412 = Lattice1d(num_cell=4, boundary = \"periodic\", cell_num_site = 1, cell_site_dof = [2])\n",
    "op = Qobj(np.array([[0,1],[1,0]]) )\n",
    "op_sp = lattice_412.operator_at_cells(op, cells = [1,2])\n",
    "op_all = lattice_412.distribute_operator(op)\n",
    "print(op_sp)\n",
    "print(op_all)"
   ]
  },
  {
   "cell_type": "markdown",
   "metadata": {},
   "source": [
    "### Hamiltonian:\n",
    "The Hamiltoian() function returns the Hamiltonian for the lattice.\n"
   ]
  },
  {
   "cell_type": "code",
   "execution_count": 21,
   "metadata": {},
   "outputs": [
    {
     "name": "stdout",
     "output_type": "stream",
     "text": [
      "Quantum object: dims = [[8], [8]], shape = (8, 8), type = oper, isherm = True\n",
      "Qobj data =\n",
      "[[ 0. -1.  0.  0.  0.  0.  0. -1.]\n",
      " [-1.  0. -1.  0.  0.  0.  0.  0.]\n",
      " [ 0. -1.  0. -1.  0.  0.  0.  0.]\n",
      " [ 0.  0. -1.  0. -1.  0.  0.  0.]\n",
      " [ 0.  0.  0. -1.  0. -1.  0.  0.]\n",
      " [ 0.  0.  0.  0. -1.  0. -1.  0.]\n",
      " [ 0.  0.  0.  0.  0. -1.  0. -1.]\n",
      " [-1.  0.  0.  0.  0.  0. -1.  0.]]\n"
     ]
    }
   ],
   "source": [
    "boundary_condition = \"periodic\"\n",
    "cells = 8\n",
    "Periodic_Atom_Chain = Lattice1d(num_cell=cells, boundary = boundary_condition)\n",
    "Hamt = Periodic_Atom_Chain.Hamiltonian()\n",
    "print(Hamt)"
   ]
  },
  {
   "cell_type": "markdown",
   "metadata": {},
   "source": [
    "### Dispersion Relation:\n",
    "plot_dispersion() plots the valid (same as the number of unit cells) points in k-space\n",
    "over the dispersion relation of an infinite crystal.\n",
    "\n",
    "get_dispersion() returns the tuple of two np.ndarrays (knxA,val_kns). knxA has the valid k-values in it and val_kns has the band energies at those k-values. The length of \n",
    "the unit cell is always set to 1."
   ]
  },
  {
   "cell_type": "code",
   "execution_count": 22,
   "metadata": {},
   "outputs": [
    {
     "data": {
      "image/png": "[encoded data removed]",
      "text/plain": [
       "<Figure size 432x288 with 1 Axes>"
      ]
     },
     "metadata": {
      "needs_background": "light"
     },
     "output_type": "display_data"
    },
    {
     "name": "stdout",
     "output_type": "stream",
     "text": [
      "[[-3.14159265]\n",
      " [-2.35619449]\n",
      " [-1.57079633]\n",
      " [-0.78539816]\n",
      " [ 0.        ]\n",
      " [ 0.78539816]\n",
      " [ 1.57079633]\n",
      " [ 2.35619449]]\n",
      "[[ 2.          1.41421356  0.         -1.41421356 -2.         -1.41421356\n",
      "   0.          1.41421356]]\n"
     ]
    }
   ],
   "source": [
    "Periodic_Atom_Chain.plot_dispersion()\n",
    "[knxA,val_kns] = Periodic_Atom_Chain.get_dispersion()\n",
    "print(knxA)\n",
    "print(val_kns)"
   ]
  },
  {
   "cell_type": "markdown",
   "metadata": {},
   "source": [
    "## Unitary evolution a Gaussian Wavepacket with mesolve"
   ]
  },
  {
   "cell_type": "markdown",
   "metadata": {},
   "source": [
    "### With no initial momentum"
   ]
  },
  {
   "cell_type": "code",
   "execution_count": 23,
   "metadata": {},
   "outputs": [],
   "source": [
    "num_cellN = 51\n",
    "discrete_space_periodic = Lattice1d(num_cell=num_cellN, boundary = \"periodic\", cell_num_site = 1,\n",
    "                                    cell_site_dof = [1])\n",
    "H0 = discrete_space_periodic.Hamiltonian()\n",
    "xs = np.linspace(0, num_cellN-1, num_cellN)"
   ]
  },
  {
   "cell_type": "code",
   "execution_count": 24,
   "metadata": {},
   "outputs": [],
   "source": [
    "sig = 3     # A standard deviation of 3\n",
    "xm = num_cellN //2 + 15\n",
    "psi0 = 1/np.sqrt(2*np.pi*sig**2) * np.exp(-(xs-xm)**2/2/sig/sig)\n",
    "psi0 = Qobj(np.sqrt(psi0))"
   ]
  },
  {
   "cell_type": "code",
   "execution_count": 25,
   "metadata": {},
   "outputs": [],
   "source": [
    "tlist = np.linspace(0,24,801)\n",
    "options = Options(atol=1e-12)\n",
    "options.store_states = True\n",
    "states_Gauss_0 = mesolve(H0, psi0, tlist, [], [], options=options)"
   ]
  },
  {
   "cell_type": "code",
   "execution_count": 26,
   "metadata": {},
   "outputs": [
    {
     "data": {
      "image/png": "[encoded data removed]",
      "text/plain": [
       "<Figure size 432x288 with 1 Axes>"
      ]
     },
     "metadata": {
      "needs_background": "light"
     },
     "output_type": "display_data"
    }
   ],
   "source": [
    "t0 = 0\n",
    "t1 = 180\n",
    "t2 = 360\n",
    "t3 = 540\n",
    "t4 = 720\n",
    "x_t0 = states_Gauss_0.states[t0]\n",
    "x_t1 = states_Gauss_0.states[t1]\n",
    "x_t2 = states_Gauss_0.states[t2]\n",
    "x_t3 = states_Gauss_0.states[t3]\n",
    "x_t4 = states_Gauss_0.states[t4]\n",
    "\n",
    "plt.plot(xs, np.abs(x_t0))\n",
    "plt.plot(xs, np.abs(x_t1))\n",
    "plt.plot(xs, np.abs(x_t2))\n",
    "plt.plot(xs, np.abs(x_t3))\n",
    "plt.plot(xs, np.abs(x_t4))\n",
    "plt.xlabel('space', fontsize=14)\n",
    "plt.ylabel('Wavepacket shape', fontsize=14)\n",
    "plt.legend(['t0', 't1', 't2', 't3', 't4'])\n",
    "plt.show()\n",
    "plt.close()"
   ]
  },
  {
   "cell_type": "markdown",
   "metadata": {},
   "source": [
    "The wavepacket disperses over time keeping the periodic nature in space, since we picked a periodic boundary cndition for space."
   ]
  },
  {
   "cell_type": "markdown",
   "metadata": {},
   "source": [
    "### With initial momentum"
   ]
  },
  {
   "cell_type": "markdown",
   "metadata": {},
   "source": [
    "We initialize a Gaussian state with initial crystal momentum $\\pi/3$ and plot the momentum expectation value with the unitary Schrodinger evolution."
   ]
  },
  {
   "cell_type": "code",
   "execution_count": 27,
   "metadata": {},
   "outputs": [],
   "source": [
    "sig = 3\n",
    "xm = num_cellN //2 + 15\n",
    "psi0 = 1/np.sqrt(2*np.pi*sig**2) * np.exp(-(xs-xm)**2/2/sig/sig)\n",
    "psi0 = Qobj(np.sqrt(psi0) * np.exp(np.pi*1j*xs/3) )"
   ]
  },
  {
   "cell_type": "code",
   "execution_count": 28,
   "metadata": {},
   "outputs": [],
   "source": [
    "k = discrete_space_periodic.k()\n",
    "tlist = np.linspace(0,24,801)\n",
    "options = Options(atol=1e-12)\n",
    "options.store_states = True\n",
    "states_Gauss_k = mesolve(H0, psi0, tlist, [], [k], options=options)"
   ]
  },
  {
   "cell_type": "code",
   "execution_count": 29,
   "metadata": {},
   "outputs": [
    {
     "data": {
      "image/png": "[encoded data removed]",
      "text/plain": [
       "<Figure size 432x288 with 1 Axes>"
      ]
     },
     "metadata": {
      "needs_background": "light"
     },
     "output_type": "display_data"
    }
   ],
   "source": [
    "plt.plot(tlist, states_Gauss_k.expect[0])\n",
    "plt.xlabel('Time', fontsize=14)\n",
    "plt.ylabel(r'$\\langle k \\rangle$', fontsize=14)\n",
    "plt.ylim([np.pi/3.01, np.pi/2.99])\n",
    "plt.show()\n",
    "plt.close()"
   ]
  },
  {
   "cell_type": "code",
   "execution_count": 30,
   "metadata": {},
   "outputs": [
    {
     "data": {
      "text/plain": [
       "1.0471975511965976"
      ]
     },
     "execution_count": 30,
     "metadata": {},
     "output_type": "execute_result"
    }
   ],
   "source": [
    "np.pi/3"
   ]
  },
  {
   "cell_type": "markdown",
   "metadata": {},
   "source": [
    "The crystal momentum operator commutes with the Hamiltonian, so it is conserved in a Hamiltonian evolution, as expected."
   ]
  },
  {
   "cell_type": "code",
   "execution_count": 31,
   "metadata": {},
   "outputs": [
    {
     "data": {
      "image/png": "[encoded data removed]",
      "text/plain": [
       "<Figure size 432x288 with 1 Axes>"
      ]
     },
     "metadata": {
      "needs_background": "light"
     },
     "output_type": "display_data"
    }
   ],
   "source": [
    "t0 = 0\n",
    "t1 = 40\n",
    "t2 = 80\n",
    "t3 = 120\n",
    "t4 = 160\n",
    "x_t0 = states_Gauss_k.states[t0]\n",
    "x_t1 = states_Gauss_k.states[t1]\n",
    "x_t2 = states_Gauss_k.states[t2]\n",
    "x_t3 = states_Gauss_k.states[t3]\n",
    "x_t4 = states_Gauss_k.states[t4]\n",
    "\n",
    "plt.plot(xs, np.abs(x_t0))\n",
    "plt.plot(xs, np.abs(x_t1))\n",
    "plt.plot(xs, np.abs(x_t2))\n",
    "plt.plot(xs, np.abs(x_t3))\n",
    "plt.plot(xs, np.abs(x_t4))\n",
    "plt.xlabel('space', fontsize=14)\n",
    "plt.ylabel('Wavepacket shape', fontsize=14)\n",
    "plt.legend(['t0', 't1', 't2', 't3', 't4'])\n",
    "plt.show()\n",
    "plt.close()"
   ]
  },
  {
   "cell_type": "markdown",
   "metadata": {},
   "source": [
    "Due to the initial momentum, the wave-packet moves to the right keeping the momentum as well as disperses."
   ]
  },
  {
   "cell_type": "markdown",
   "metadata": {},
   "source": [
    "### Simulating a hardwall"
   ]
  },
  {
   "cell_type": "markdown",
   "metadata": {},
   "source": [
    "We can simulate a hardwall by putting in a large potential on the first and last site of the lattice as well as change the boundary condition to \"aperiodic\"."
   ]
  },
  {
   "cell_type": "code",
   "execution_count": 32,
   "metadata": {},
   "outputs": [],
   "source": [
    "sig = 3\n",
    "xm = num_cellN //2 + 5\n",
    "psi0 = 1/np.sqrt(2*np.pi*sig**2) * np.exp(-(xs-xm)**2/2/sig/sig)\n",
    "psi0 = Qobj(np.sqrt(psi0) * np.exp(np.pi*1j*xs/3) )"
   ]
  },
  {
   "cell_type": "code",
   "execution_count": 33,
   "metadata": {},
   "outputs": [],
   "source": [
    "discrete_space_aperiodic = Lattice1d(num_cell=num_cellN, boundary = \"aperiodic\",\n",
    "                                     cell_num_site = 1, cell_site_dof = [1])\n",
    "\n",
    "psiL = discrete_space_aperiodic.basis(0,0,[0])\n",
    "psiR = discrete_space_aperiodic.basis(num_cellN-1,0,[0])\n",
    "Ha = discrete_space_aperiodic.Hamiltonian()\n",
    "H_p = 1e4*(psiL * psiL.dag() + psiR * psiR.dag() )\n",
    "tlist = np.linspace(0,30,5001)\n",
    "options = Options(atol=1e-12)\n",
    "options.store_states = True\n",
    "states_Gauss_k_HW = mesolve(Ha+H_p, psi0, tlist, [], [k], options=options)\n",
    "# Warning:  This calculation takes upto a minute"
   ]
  },
  {
   "cell_type": "code",
   "execution_count": 34,
   "metadata": {},
   "outputs": [
    {
     "data": {
      "image/png": "[encoded data removed]",
      "text/plain": [
       "<Figure size 432x288 with 1 Axes>"
      ]
     },
     "metadata": {
      "needs_background": "light"
     },
     "output_type": "display_data"
    }
   ],
   "source": [
    "t0 = 0\n",
    "t1 = 1000\n",
    "t2 = 2000\n",
    "t3 = 3000\n",
    "t4 = 4000\n",
    "t5 = 5000\n",
    "x_t0 = states_Gauss_k_HW.states[t0]\n",
    "x_t1 = states_Gauss_k_HW.states[t1]\n",
    "x_t2 = states_Gauss_k_HW.states[t2]\n",
    "x_t3 = states_Gauss_k_HW.states[t3]\n",
    "x_t4 = states_Gauss_k_HW.states[t4]\n",
    "x_t5 = states_Gauss_k_HW.states[t5]\n",
    "\n",
    "plt.plot(xs, np.abs(x_t0))\n",
    "plt.plot(xs, np.abs(x_t1))\n",
    "plt.plot(xs, np.abs(x_t2))\n",
    "plt.plot(xs, np.abs(x_t3))\n",
    "plt.plot(xs, np.abs(x_t4))\n",
    "plt.plot(xs, np.abs(x_t5))\n",
    "plt.xlabel('space', fontsize=14)\n",
    "plt.ylabel('Wavepacket shape', fontsize=14)\n",
    "plt.legend(['t0', 't1', 't2', 't3', 't4', 't5'])\n",
    "plt.show()\n",
    "plt.close()"
   ]
  },
  {
   "cell_type": "code",
   "execution_count": null,
   "metadata": {},
   "outputs": [],
   "source": [
    "plt.plot(tlist, states_Gauss_k_HW.expect[0])\n",
    "plt.xlabel('Time', fontsize=14)\n",
    "plt.ylabel(r'$\\langle k \\rangle$', fontsize=14)\n",
    "plt.show()\n",
    "plt.close()"
   ]
  },
  {
   "cell_type": "code",
   "execution_count": null,
   "metadata": {},
   "outputs": [],
   "source": [
    "kd = discrete_space_aperiodic.k()\n",
    "psi_f = states_Gauss_k_HW.states[3200]\n",
    "kex0 = psi0.dag() * kd * psi0\n",
    "kexf = psi_f.dag() * kd * psi_f\n",
    "print('Initital momentum: ', kex0)\n",
    "print('Final momentum: ', kexf)"
   ]
  },
  {
   "cell_type": "markdown",
   "metadata": {},
   "source": [
    "We confirm that, the final momentum is indeed exactly the opposite of the initial momentum."
   ]
  },
  {
   "cell_type": "markdown",
   "metadata": {},
   "source": [
    "### Dissipation induced translational motion "
   ]
  },
  {
   "cell_type": "markdown",
   "metadata": {},
   "source": [
    "We can initialize a Gaussian state with no initial momentum and devise a dissipation induced translational motion scheme with forming a collapse operator that translates the wavepacket by one lattice point periodically."
   ]
  },
  {
   "cell_type": "code",
   "execution_count": null,
   "metadata": {},
   "outputs": [],
   "source": [
    "num_cellN = 51\n",
    "discrete_space_periodic = Lattice1d(num_cell=num_cellN, boundary = \"periodic\", cell_num_site = 1,\n",
    "                                    cell_site_dof = [1])\n",
    "H0 = discrete_space_periodic.Hamiltonian()\n",
    "xp = discrete_space_periodic.x()\n",
    "kp = discrete_space_periodic.k()\n",
    "xs = np.linspace(0, num_cellN-1, num_cellN)"
   ]
  },
  {
   "cell_type": "code",
   "execution_count": null,
   "metadata": {},
   "outputs": [],
   "source": [
    "sig = 3     # A standard deviation of 3\n",
    "xm = num_cellN //2\n",
    "psi0 = 1/np.sqrt(2*np.pi*sig**2) * np.exp(-(xs-xm)**2/2/sig/sig)\n",
    "psi0 = Qobj(np.sqrt(psi0))"
   ]
  },
  {
   "cell_type": "code",
   "execution_count": null,
   "metadata": {},
   "outputs": [],
   "source": [
    "lat_trR = np.diag(np.zeros(num_cellN-1)+1, -1)\n",
    "lat_trR[0, num_cellN-1] = 1    # translate right\n",
    "lat_trL = np.diag(np.zeros(num_cellN-1)+1, 1)\n",
    "lat_trL[num_cellN-1, 0] = 1     #  translate left\n",
    "trR = Qobj(lat_trR)\n",
    "trL = Qobj(lat_trL)"
   ]
  },
  {
   "cell_type": "code",
   "execution_count": null,
   "metadata": {},
   "outputs": [],
   "source": [
    "gamma = 2\n",
    "col_op = [np.sqrt(gamma) * trR ]"
   ]
  },
  {
   "cell_type": "code",
   "execution_count": null,
   "metadata": {},
   "outputs": [],
   "source": [
    "tlistC = np.linspace(0,24,801)\n",
    "options = Options(atol=1e-12)\n",
    "options.store_states = True\n",
    "rho0 = psi0 * psi0.dag()\n",
    "states_Gauss_0 = mesolve(H0, rho0, tlistC, col_op, [kp], options=options)"
   ]
  },
  {
   "cell_type": "code",
   "execution_count": null,
   "metadata": {},
   "outputs": [],
   "source": [
    "plt.plot(tlistC, states_Gauss_0.expect[0])\n",
    "plt.xlabel('Time', fontsize=14)\n",
    "plt.ylabel(r'$\\langle k \\rangle$', fontsize=14)\n",
    "plt.ylim([-1e-8, 1e-8])\n",
    "plt.show()\n",
    "plt.close()"
   ]
  },
  {
   "cell_type": "code",
   "execution_count": null,
   "metadata": {},
   "outputs": [],
   "source": [
    "t0 = 0\n",
    "t1 = 140\n",
    "t2 = 280\n",
    "t3 = 420\n",
    "t4 = 560\n",
    "\n",
    "diag_x0 = np.diag(states_Gauss_0.states[t0])\n",
    "diag_x1 = np.diag(states_Gauss_0.states[t1])\n",
    "diag_x2 = np.diag(states_Gauss_0.states[t2])\n",
    "diag_x3 = np.diag(states_Gauss_0.states[t3])\n",
    "diag_x4 = np.diag(states_Gauss_0.states[t4])\n",
    "\n",
    "plt.plot(xs, np.abs(diag_x0))\n",
    "plt.plot(xs, np.abs(diag_x1))\n",
    "plt.plot(xs, np.abs(diag_x2))\n",
    "plt.plot(xs, np.abs(diag_x3))\n",
    "plt.plot(xs, np.abs(diag_x4))\n",
    "plt.xlabel('space', fontsize=14)\n",
    "plt.ylabel('Wavepacket shape', fontsize=14)\n",
    "plt.title('Nonunitary evolution')\n",
    "plt.show()\n",
    "plt.close()"
   ]
  },
  {
   "cell_type": "markdown",
   "metadata": {},
   "source": [
    "The wave-packet disperses and trannslates to the right, but the momentum expectation remains zero, since the translation is induced by the dissipation."
   ]
  },
  {
   "cell_type": "markdown",
   "metadata": {},
   "source": [
    "# Example: A Coupled Resonator Optical Waveguide¶"
   ]
  },
  {
   "cell_type": "markdown",
   "metadata": {},
   "source": [
    "We now demonstrate the basic functionality of QuTiPs Lattice1d class of the lattice module with the example of a Coupled Resonator Optical Waveguide(CROW)(ref. [2])."
   ]
  },
  {
   "cell_type": "markdown",
   "metadata": {},
   "source": [
    "![title](images/CROW.png)"
   ]
  },
  {
   "cell_type": "markdown",
   "metadata": {},
   "source": [
    "\\begin{eqnarray}\n",
    "H_0 = \\sum\\limits_{n} \\left(H_a + H_b + H_{ab} + H^{\\dagger}_{ab}   \\right) \\\\\n",
    "H_a = \\frac{J}{2} a_n^{\\dagger} \\left( e^{-i\\eta} a_{n-1} + e^{i\\eta} a_{n+1} \\right) \\\\\n",
    "H_b = \\frac{J}{2} b_n^{\\dagger} \\left( e^{i\\eta} b_{n-1} + e^{-i\\eta} b_{n+1} \\right) \\\\\n",
    "H_{ab} = J a_n^{\\dagger} \\left( sin (\\eta) b_n + \\frac{1}{2} \\left(b_{n-1} + b_{n+1}  \\right)  \\right)\n",
    "\\end{eqnarray}"
   ]
  },
  {
   "cell_type": "markdown",
   "metadata": {},
   "source": [
    "For implementation with Lattice1d class, we resolve the Hamiltonian into unitcells.\n",
    "\\begin{equation}\n",
    "H = \\sum\\limits_{n} H_n\n",
    "\\end{equation}"
   ]
  },
  {
   "cell_type": "markdown",
   "metadata": {},
   "source": [
    "\\begin{eqnarray}\n",
    "H_{n}= \\begin{bmatrix}\n",
    "    a_{n}^{\\dagger} & b_{n}^{\\dagger}       \n",
    "\\end{bmatrix} \n",
    "\\begin{bmatrix}\n",
    "      o     & J sin(\\eta) \\\\\n",
    "    J sin(\\eta)    & 0 \n",
    "\\end{bmatrix}\n",
    "\\begin{bmatrix}\n",
    "    a_{n}  \\\\\n",
    "    b_{n}  \n",
    "\\end{bmatrix} \n",
    "\\ \\ \\ \\ \\ \\ \\ \\ \\ \\ \\\\\n",
    "+ \\left( \\begin{bmatrix}\n",
    "    a_{n}^{\\dagger} & b_{n}^{\\dagger}       \n",
    "\\end{bmatrix} \n",
    "\\begin{bmatrix}\n",
    "      e^{i\\eta}     & 1 \\\\\n",
    "    1    & e^{-i\\eta} \n",
    "\\end{bmatrix}\n",
    "\\begin{bmatrix}\n",
    "    a_{n+1}  \\\\\n",
    "    b_{n+1}  \n",
    "\\end{bmatrix} + H.C. \\right)\n",
    "\\end{eqnarray}"
   ]
  },
  {
   "cell_type": "markdown",
   "metadata": {},
   "source": [
    "In the present case, we have 1 site in every unit cell and 2 dofs per site. And"
   ]
  },
  {
   "cell_type": "markdown",
   "metadata": {},
   "source": [
    "\\begin{equation}\n",
    "\\text{cell_Hamiltonian} = \\begin{bmatrix}\n",
    "      o     & J sin(\\eta) \\\\\n",
    "    J sin(\\eta)    & 0 \n",
    "\\end{bmatrix}\n",
    "\\end{equation}\n",
    "\\begin{equation}\n",
    "\\text{inter_hop} = \\begin{bmatrix}\n",
    "      e^{i\\eta}     & 1 \\\\\n",
    "    1    & e^{-i\\eta} \n",
    "\\end{bmatrix}\n",
    "\\end{equation}"
   ]
  },
  {
   "cell_type": "code",
   "execution_count": null,
   "metadata": {},
   "outputs": [],
   "source": [
    "cells = 4\n",
    "cell_num_site = 1\n",
    "cell_site_dof = [2]\n",
    "J = 2"
   ]
  },
  {
   "cell_type": "code",
   "execution_count": null,
   "metadata": {},
   "outputs": [],
   "source": [
    "### For eta = 0\n",
    "eta = 0\n",
    "H_cell = Qobj(np.array([[0, J * np.sin(eta)], [J * np.sin(eta), 0]]))\n",
    "inter_cell_T = (J/2) * Qobj(np.array([[np.exp(eta * 1j), 1], [1, np.exp(-eta*1j)]]))\n",
    "CROW_lattice = Lattice1d(num_cell=cells, boundary = \"periodic\", cell_num_site = 1,\n",
    "                         cell_site_dof = [2], Hamiltonian_of_cell = H_cell,\n",
    "                         inter_hop = inter_cell_T )\n",
    "CROW_lattice.plot_dispersion()"
   ]
  },
  {
   "cell_type": "code",
   "execution_count": null,
   "metadata": {},
   "outputs": [],
   "source": [
    "### For eta = pi/4\n",
    "eta = np.pi/4\n",
    "H_cell = Qobj(np.array([[0, J * np.sin(eta)], [J * np.sin(eta), 0]]))\n",
    "inter_cell_T = (J/2) * Qobj(np.array([[np.exp(eta * 1j), 1], [1, np.exp(-eta*1j)]]))\n",
    "CROW_lattice = Lattice1d(num_cell=cells, boundary = \"periodic\", cell_num_site = 1,\n",
    "                         cell_site_dof = [2], Hamiltonian_of_cell = H_cell,\n",
    "                         inter_hop = inter_cell_T )\n",
    "CROW_lattice.plot_dispersion()"
   ]
  },
  {
   "cell_type": "code",
   "execution_count": null,
   "metadata": {},
   "outputs": [],
   "source": [
    "### For eta = pi/2\n",
    "eta = np.pi/2\n",
    "H_cell = Qobj(np.array([[0, J * np.sin(eta)], [J * np.sin(eta), 0]]))\n",
    "inter_cell_T = (J/2) * Qobj(np.array([[np.exp(eta * 1j), 1], [1, np.exp(-eta*1j)]]))\n",
    "CROW_lattice = Lattice1d(num_cell=cells, boundary = \"periodic\", cell_num_site = 1,\n",
    "                         cell_site_dof = [2], Hamiltonian_of_cell = H_cell,\n",
    "                         inter_hop = inter_cell_T )\n",
    "CROW_lattice.plot_dispersion()"
   ]
  },
  {
   "cell_type": "markdown",
   "metadata": {},
   "source": [
    "The three dispersion relationships for the three values of $\\eta$ can be compared with the published results in Ref [2]."
   ]
  },
  {
   "cell_type": "markdown",
   "metadata": {},
   "source": [
    "## Unitary dynamics example"
   ]
  },
  {
   "cell_type": "markdown",
   "metadata": {},
   "source": [
    "### No initial momentum"
   ]
  },
  {
   "cell_type": "code",
   "execution_count": null,
   "metadata": {},
   "outputs": [],
   "source": [
    "num_cell = 100\n",
    "J = 2\n",
    "eta = np.pi/2\n",
    "H_cell = Qobj(np.array([[0, J * np.sin(eta)], [J * np.sin(eta), 0]]))\n",
    "inter_cell_T = (J/2) * Qobj(np.array([[np.exp(eta * 1j), 1], [1, np.exp(-eta*1j)]]))\n",
    "CROW_lattice = Lattice1d(num_cell=num_cell, boundary = \"periodic\", cell_num_site = 2,\n",
    "                         cell_site_dof = [1], Hamiltonian_of_cell = H_cell,\n",
    "                         inter_hop = inter_cell_T)"
   ]
  },
  {
   "cell_type": "code",
   "execution_count": null,
   "metadata": {},
   "outputs": [],
   "source": [
    "HCROW = CROW_lattice.Hamiltonian()\n",
    "kC = CROW_lattice.k()"
   ]
  },
  {
   "cell_type": "code",
   "execution_count": null,
   "metadata": {},
   "outputs": [],
   "source": [
    "nx = 1\n",
    "ne = 2\n",
    "positions = np.kron(range(nx), [1/nx for i in range(ne)])\n",
    "S = np.kron(np.ones(num_cell), positions)\n",
    "R = np.kron(range(0, num_cell), np.ones(nx*ne))\n",
    "xA = R+S\n",
    "sig = 3     # A standard deviation of 3\n",
    "xm = num_cell //2\n",
    "psi0 = 1/np.sqrt(2*np.pi*sig**2) * np.exp(-(xA-xm)**2/2/sig/sig)\n",
    "psi0 = Qobj(np.sqrt(psi0))\n",
    "tlistW = np.linspace(0,30,5001)\n",
    "options = Options(atol=1e-12)\n",
    "options.store_states = True\n",
    "states_CROW_u = mesolve(HCROW, psi0, tlistW, [], [kC], options=options)"
   ]
  },
  {
   "cell_type": "code",
   "execution_count": null,
   "metadata": {},
   "outputs": [],
   "source": [
    "plt.plot(tlistW, states_CROW_u.expect[0])\n",
    "plt.xlabel('Time', fontsize=14)\n",
    "plt.ylabel(r'$\\langle k \\rangle$', fontsize=14)\n",
    "plt.ylim([-1e-8, 1e-8])\n",
    "plt.show()\n",
    "plt.close()"
   ]
  },
  {
   "cell_type": "code",
   "execution_count": null,
   "metadata": {},
   "outputs": [],
   "source": [
    "t0 = 0\n",
    "t1 = 1000\n",
    "t2 = 2000\n",
    "t3 = 3000\n",
    "t4 = 4000\n",
    "t5 = 5000\n",
    "x_t0 = states_CROW_u.states[t0]\n",
    "x_t1 = states_CROW_u.states[t1]\n",
    "x_t2 = states_CROW_u.states[t2]\n",
    "x_t3 = states_CROW_u.states[t3]\n",
    "x_t4 = states_CROW_u.states[t4]\n",
    "x_t5 = states_CROW_u.states[t5]\n",
    "\n",
    "plt.plot(xA, np.abs(x_t0))\n",
    "plt.plot(xA, np.abs(x_t1))\n",
    "plt.plot(xA, np.abs(x_t2))\n",
    "plt.plot(xA, np.abs(x_t3))\n",
    "plt.plot(xA, np.abs(x_t4))\n",
    "plt.plot(xA, np.abs(x_t5))\n",
    "plt.xlabel('space', fontsize=14)\n",
    "plt.ylabel('Wavepacket shape', fontsize=14)\n",
    "plt.legend(['t0', 't1', 't2', 't3', 't4', 't5'])\n",
    "plt.show()\n",
    "plt.close()"
   ]
  },
  {
   "cell_type": "markdown",
   "metadata": {},
   "source": [
    "### With Initial momentum"
   ]
  },
  {
   "cell_type": "code",
   "execution_count": null,
   "metadata": {},
   "outputs": [],
   "source": [
    "sig = 3\n",
    "xm = num_cell //2 + 15\n",
    "psi0 = 1/np.sqrt(2*np.pi*sig**2) * np.exp(-(xA-xm)**2/2/sig/sig)\n",
    "psi0 = Qobj(np.sqrt(psi0) * np.exp(1*np.pi*1j*xA/3) )\n",
    "tlistCk = np.linspace(0,30,5001)\n",
    "options = Options(atol=1e-12)\n",
    "options.store_states = True\n",
    "states_CROW_uk = mesolve(HCROW, psi0, tlistCk, [], [kC], options=options)"
   ]
  },
  {
   "cell_type": "code",
   "execution_count": null,
   "metadata": {},
   "outputs": [],
   "source": [
    "plt.plot(tlistCk, states_CROW_uk.expect[0])\n",
    "plt.xlabel('Time', fontsize=14)\n",
    "plt.ylabel(r'$\\#langle k \\rangle$', fontsize=14)\n",
    "plt.ylim([1.046, 1.048])\n",
    "plt.show()\n",
    "plt.close()"
   ]
  },
  {
   "cell_type": "code",
   "execution_count": null,
   "metadata": {},
   "outputs": [],
   "source": [
    "t0 = 0\n",
    "t1 = 1000\n",
    "t2 = 2000\n",
    "t3 = 3000\n",
    "t4 = 4000\n",
    "t5 = 5000\n",
    "x_t0 = states_CROW_u.states[t0]\n",
    "x_t1 = states_CROW_u.states[t1]\n",
    "x_t2 = states_CROW_u.states[t2]\n",
    "x_t3 = states_CROW_u.states[t3]\n",
    "x_t4 = states_CROW_u.states[t4]\n",
    "x_t5 = states_CROW_u.states[t5]\n",
    "\n",
    "plt.plot(xA, np.abs(x_t0))\n",
    "plt.plot(xA, np.abs(x_t1))\n",
    "plt.plot(xA, np.abs(x_t2))\n",
    "plt.plot(xA, np.abs(x_t3))\n",
    "plt.plot(xA, np.abs(x_t4))\n",
    "plt.plot(xA, np.abs(x_t5))\n",
    "plt.xlabel('space', fontsize=14)\n",
    "plt.ylabel('Wavepacket shape', fontsize=14)\n",
    "plt.legend(['t0', 't1', 't2', 't3', 't4', 't5'])\n",
    "plt.show()\n",
    "plt.close()"
   ]
  },
  {
   "cell_type": "code",
   "execution_count": null,
   "metadata": {},
   "outputs": [],
   "source": [
    "t0 = 0\n",
    "t1 = 1000\n",
    "t2 = 2000\n",
    "t3 = 3000\n",
    "t4 = 4000\n",
    "t5 = 5000\n",
    "x_t0 = states_CROW_u.states[t0]\n",
    "x_t1 = states_CROW_u.states[t1]\n",
    "x_t2 = states_CROW_u.states[t2]\n",
    "x_t3 = states_CROW_u.states[t3]\n",
    "x_t4 = states_CROW_u.states[t4]\n",
    "x_t5 = states_CROW_u.states[t5]\n",
    "\n",
    "plt.plot(xA[range(0,200,2)], np.abs(x_t0.full()[range(0,200,2)]))\n",
    "plt.plot(xA[range(0,200,2)], np.abs(x_t1.full()[range(0,200,2)]))\n",
    "plt.plot(xA[range(0,200,2)], np.abs(x_t2.full()[range(0,200,2)]))\n",
    "plt.plot(xA[range(0,200,2)], np.abs(x_t3.full()[range(0,200,2)]))\n",
    "plt.plot(xA[range(0,200,2)], np.abs(x_t4.full()[range(0,200,2)]))\n",
    "plt.plot(xA[range(0,200,2)], np.abs(x_t5.full()[range(0,200,2)]))\n",
    "plt.xlabel('space(left sublattice)', fontsize=14)\n",
    "plt.ylabel('Wavepacket shape', fontsize=14)\n",
    "plt.legend(['t0', 't1', 't2', 't3', 't4', 't5'])\n",
    "plt.show()\n",
    "plt.close()"
   ]
  },
  {
   "cell_type": "code",
   "execution_count": null,
   "metadata": {},
   "outputs": [],
   "source": [
    "t0 = 0\n",
    "t1 = 1000\n",
    "t2 = 2000\n",
    "t3 = 3000\n",
    "t4 = 4000\n",
    "t5 = 5000\n",
    "x_t0 = states_CROW_u.states[t0]\n",
    "x_t1 = states_CROW_u.states[t1]\n",
    "x_t2 = states_CROW_u.states[t2]\n",
    "x_t3 = states_CROW_u.states[t3]\n",
    "x_t4 = states_CROW_u.states[t4]\n",
    "x_t5 = states_CROW_u.states[t5]\n",
    "\n",
    "plt.plot(xA[range(1,200,2)], np.abs(x_t0.full()[range(1,200,2)]))\n",
    "plt.plot(xA[range(1,200,2)], np.abs(x_t1.full()[range(1,200,2)]))\n",
    "plt.plot(xA[range(1,200,2)], np.abs(x_t2.full()[range(1,200,2)]))\n",
    "plt.plot(xA[range(1,200,2)], np.abs(x_t3.full()[range(1,200,2)]))\n",
    "plt.plot(xA[range(1,200,2)], np.abs(x_t4.full()[range(1,200,2)]))\n",
    "plt.plot(xA[range(1,200,2)], np.abs(x_t5.full()[range(1,200,2)]))\n",
    "plt.xlabel('space(right sublattice)', fontsize=14)\n",
    "plt.ylabel('Wavepacket shape', fontsize=14)\n",
    "plt.legend(['t0', 't1', 't2', 't3', 't4', 't5'])\n",
    "plt.show()\n",
    "plt.close()"
   ]
  },
  {
   "cell_type": "markdown",
   "metadata": {},
   "source": [
    "## translation by dissipation"
   ]
  },
  {
   "cell_type": "code",
   "execution_count": null,
   "metadata": {},
   "outputs": [],
   "source": [
    "cells = 100\n",
    "nx = 2\n",
    "ne = 1\n",
    "positions = np.kron(range(nx), [1/nx for i in range(ne)])\n",
    "S = np.kron(np.ones(cells), positions)\n",
    "R = np.kron(range(0, cells), np.ones(nx*ne))\n",
    "xA = R+S"
   ]
  },
  {
   "cell_type": "code",
   "execution_count": null,
   "metadata": {},
   "outputs": [],
   "source": [
    "eta = np.pi/2\n",
    "H_cell = Qobj(np.array([[0, J * np.sin(eta)], [J * np.sin(eta), 0]]))\n",
    "inter_cell_T = (J/2) * Qobj(np.array([[np.exp(eta * 1j), 1], [1, np.exp(-eta*1j)]]))\n",
    "CROW_lattice = Lattice1d(num_cell=cells, boundary = \"periodic\", cell_num_site = 2,\n",
    "                         cell_site_dof = [1], Hamiltonian_of_cell = H_cell,\n",
    "                         inter_hop = inter_cell_T)"
   ]
  },
  {
   "cell_type": "code",
   "execution_count": null,
   "metadata": {},
   "outputs": [],
   "source": [
    "HCROW = CROW_lattice.Hamiltonian()\n",
    "kC = CROW_lattice.k()"
   ]
  },
  {
   "cell_type": "code",
   "execution_count": null,
   "metadata": {},
   "outputs": [],
   "source": [
    "lat_trR = np.diag(np.zeros(cells-1)+1, -1)\n",
    "lat_trR[0, cells-1] = 1   # translate to the right\n",
    "\n",
    "lat_trL = np.diag(np.zeros(cells-1)+1, 1)\n",
    "lat_trL[cells-1, 0] = 1   # translate to the left\n",
    "\n",
    "trR = Qobj(lat_trR)\n",
    "trL = Qobj(lat_trL)"
   ]
  },
  {
   "cell_type": "code",
   "execution_count": null,
   "metadata": {},
   "outputs": [],
   "source": [
    "gamma = 0.5\n",
    "col_op = [np.sqrt(gamma) * tensor(trL, qeye(2)) ]  # We could have used trR for translation to the right"
   ]
  },
  {
   "cell_type": "code",
   "execution_count": null,
   "metadata": {},
   "outputs": [],
   "source": [
    "sig = 3\n",
    "xm = cells //2 + 15\n",
    "psi0 = 1/np.sqrt(2*np.pi*sig**2) * np.exp(-(xA-xm)**2/2/sig/sig)\n",
    "psi0 = Qobj(np.sqrt(psi0))\n",
    "tlistCN = np.linspace(0,30,601)\n",
    "options = Options(atol=1e-12)\n",
    "options.store_states = True\n",
    "states_CROW_nu = mesolve(HCROW, psi0, tlistCN, col_op, [kC], options=options)"
   ]
  },
  {
   "cell_type": "code",
   "execution_count": null,
   "metadata": {},
   "outputs": [],
   "source": [
    "plt.plot(tlistCN, states_CROW_nu.expect[0])\n",
    "plt.xlabel('Time', fontsize=14)\n",
    "plt.ylabel(r'$\\#langle k \\rangle$', fontsize=14)\n",
    "plt.ylim([-1e-8, 1e-8])\n",
    "plt.show()\n",
    "plt.close()"
   ]
  },
  {
   "cell_type": "code",
   "execution_count": null,
   "metadata": {},
   "outputs": [],
   "source": [
    "t0 = 0\n",
    "t1 = 100\n",
    "t2 = 200\n",
    "t3 = 300\n",
    "t4 = 400\n",
    "t5 = 500\n",
    "x_t0 = np.diag(states_CROW_nu.states[t0])\n",
    "x_t1 = np.diag(states_CROW_nu.states[t1])\n",
    "x_t2 = np.diag(states_CROW_nu.states[t2])\n",
    "x_t3 = np.diag(states_CROW_nu.states[t3])\n",
    "x_t4 = np.diag(states_CROW_nu.states[t4])\n",
    "x_t5 = np.diag(states_CROW_nu.states[t5])\n",
    "\n",
    "plt.plot(xA, np.abs(x_t0))\n",
    "plt.plot(xA, np.abs(x_t1))\n",
    "plt.plot(xA, np.abs(x_t2))\n",
    "plt.plot(xA, np.abs(x_t3))\n",
    "plt.plot(xA, np.abs(x_t4))\n",
    "plt.plot(xA, np.abs(x_t5))\n",
    "plt.xlabel('space', fontsize=14)\n",
    "plt.ylabel('Wavepacket shape', fontsize=14)\n",
    "plt.legend(['t0', 't1', 't2', 't3', 't4', 't5'])\n",
    "plt.show()\n",
    "plt.close()"
   ]
  },
  {
   "cell_type": "markdown",
   "metadata": {},
   "source": [
    "### References\n",
    "[1] J. R. Johansson, P. D. Nation, and F. Nori, Comp. Phys. Comm. 183, 1760 (2012). http://qutip.org \n",
    "\n",
    "[2] Han, JungYun, Clemens Gneiting, and Daniel Leykam. \"Helical transport in coupled resonator waveguides.\" Physical Review B 99.22 (2019): 224201.\n",
    "https://journals.aps.org/prb/abstract/10.1103/PhysRevB.99.224201#"
   ]
  },
  {
   "cell_type": "code",
   "execution_count": null,
   "metadata": {},
   "outputs": [],
   "source": [
    "qutip.about()"
   ]
  },
  {
   "cell_type": "code",
   "execution_count": null,
   "metadata": {},
   "outputs": [],
   "source": [
    "qutip.cite()"
   ]
  }
 ],
 "metadata": {
  "kernelspec": {
   "display_name": "Python 3",
   "language": "python",
   "name": "python3"
  },
  "language_info": {
   "codemirror_mode": {
    "name": "ipython",
    "version": 3
   },
   "file_extension": ".py",
   "mimetype": "text/x-python",
   "name": "python",
   "nbconvert_exporter": "python",
   "pygments_lexer": "ipython3",
   "version": "3.5.4"
  }
 },
 "nbformat": 4,
 "nbformat_minor": 2
}
