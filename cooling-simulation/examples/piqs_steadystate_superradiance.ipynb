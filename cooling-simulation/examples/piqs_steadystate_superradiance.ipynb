{
 "cells": [
  {
   "cell_type": "markdown",
   "metadata": {},
   "source": [
    "## Steady-state superradiance\n",
    "\n",
    "Author: Nathan Shammah (nathan.shammah@gmail.com)\n",
    "\n",
    "We consider a system of $N$ two-level systems (TLSs) with identical frequency $\\omega_{0}$, incoherently pumped at a rate $\\gamma_\\text{P}$ and de-excitating at a collective emission rate $\\gamma_\\text{CE}$,\n",
    "\n",
    "\\begin{eqnarray}\n",
    "\\dot{\\rho} &=& \n",
    "-i\\lbrack \\omega_{0}J_z,\\rho \\rbrack\n",
    "+\\frac{\\gamma_\\text {CE}}{2}\\mathcal{L}_{J_{-}}[\\rho]\n",
    "+\\frac{\\gamma_\\text{P}}{2}\\sum_{n=1}^{N}\\mathcal{L}_{J_{+,n}}[\\rho]\n",
    "\\end{eqnarray}\n",
    "This system can sustain superradiant light emission and line narrowing [1-3],  whose peak intensity scales proportionally to $N^2$."
   ]
  },
  {
   "cell_type": "code",
   "execution_count": 1,
   "metadata": {},
   "outputs": [],
   "source": [
    "import matplotlib.pyplot as plt\n",
    "from qutip import *\n",
    "from qutip.piqs import *"
   ]
  },
  {
   "cell_type": "markdown",
   "metadata": {},
   "source": [
    "## 1) Time evolution\n",
    "\n",
    "We study the system of Eq. (1) (above) by using the *Permutational Invariant Quantum Solver (PIQS)* to build the Liouvillian of the system. Using QuTiP's $\\texttt{mesolve}()$ we can calculate operators expectation values in time as well as higher order correlation functions [4,5]. "
   ]
  },
  {
   "cell_type": "markdown",
   "metadata": {},
   "source": [
    "### System properties"
   ]
  },
  {
   "cell_type": "code",
   "execution_count": 2,
   "metadata": {},
   "outputs": [],
   "source": [
    "N = 10\n",
    "system = Dicke(N = N)\n",
    "[jx, jy, jz] = jspin(N)\n",
    "jp = jspin(N,\"+\")\n",
    "jm = jp.dag()\n",
    "w0 = 1\n",
    "h0 = w0 * jz\n",
    "gCE = 1\n",
    "gP = N * gCE\n",
    "system.hamiltonian = h0\n",
    "system.collective_emission = gCE\n",
    "system.pumping = gP"
   ]
  },
  {
   "cell_type": "markdown",
   "metadata": {},
   "source": [
    "### Liouvillian and steady state $\\rho_\\text{ss}$"
   ]
  },
  {
   "cell_type": "code",
   "execution_count": 3,
   "metadata": {},
   "outputs": [],
   "source": [
    "L = system.liouvillian()\n",
    "rhoss = steadystate(L, method=\"direct\")\n",
    "jpjm_ss = expect(jp*jm, rhoss)"
   ]
  },
  {
   "cell_type": "markdown",
   "metadata": {},
   "source": [
    "### Time integration for $g^{(2)}(\\tau)$ and $\\langle J_{+}J_{-}\\rangle (t)$\n",
    "We define the $g^{(2)}(\\tau)$ of the system as the two-time correlation function mapping the photonic degrees of freedom onto the TLS collective operators\n",
    "\n",
    "\\begin{eqnarray*}\n",
    "g^{(2)}(\\tau) = \\frac{\\langle: J^\\dagger(\\tau) a^\\dagger(0) a(\\tau) a(0) :\\rangle}{|\\langle: a^\\dagger(0) a(0) :\\rangle|^2}= \\frac{\\langle: J_{+}(\\tau) J_{+}(0) J_{-}(\\tau) J_{-}(0) :\\rangle}{|\\langle J_{+}(0) J_{-}(0) \\rangle|^2}\n",
    "\\end{eqnarray*}"
   ]
  },
  {
   "cell_type": "code",
   "execution_count": 4,
   "metadata": {},
   "outputs": [],
   "source": [
    "# time evolution parameters\n",
    "nt = 1000\n",
    "td = np.log(N)/(N*gCE)\n",
    "tmax = 5 * td\n",
    "t = np.linspace(0, tmax, nt)\n",
    "# initial state\n",
    "rho0= dicke(N, N/2, -N/2)\n",
    "# calculate g2(tau)\n",
    "A = jp*jm\n",
    "rhoA = jm*rhoss*jp\n",
    "#g2(tau)\n",
    "result1 = mesolve(L, rhoA, t, [], e_ops = [A], options = Options(store_states=True))\n",
    "g2t = result1.expect[0]\n",
    "#rho(t)\n",
    "result2 = mesolve(L, rho0, t, [], e_ops = A, options = Options(store_states=True))\n",
    "rhot = result2.states\n",
    "jpjmt = result2.expect[0]"
   ]
  },
  {
   "cell_type": "markdown",
   "metadata": {},
   "source": [
    "### Visualization"
   ]
  },
  {
   "cell_type": "code",
   "execution_count": 5,
   "metadata": {},
   "outputs": [
    {
     "data": {
      "image/png": "[encoded data removed]",
      "text/plain": [
       "<Figure size 432x288 with 1 Axes>"
      ]
     },
     "metadata": {
      "needs_background": "light"
     },
     "output_type": "display_data"
    },
    {
     "data": {
      "image/png": "[encoded data removed]",
      "text/plain": [
       "<Figure size 432x288 with 1 Axes>"
      ]
     },
     "metadata": {
      "needs_background": "light"
     },
     "output_type": "display_data"
    }
   ],
   "source": [
    "j2max = (0.5 * N + 1) * (0.5 * N)\n",
    "\n",
    "plt.rc('text', usetex = True)\n",
    "label_size = 20\n",
    "plt.rc('xtick', labelsize=label_size) \n",
    "plt.rc('ytick', labelsize=label_size)\n",
    "\n",
    "fig1 = plt.figure()\n",
    "plt.plot(t/td, g2t/jpjm_ss**2, '-')\n",
    "plt.plot(t/td, 1+0*g2t, '--')\n",
    "plt.xlabel(r'$\\tau/t_\\mathrm{D}$', fontsize = label_size)\n",
    "plt.ylabel(r'$g^{(2)}(\\tau)$', fontsize = label_size)\n",
    "plt.xticks([0,(tmax/2)/td,tmax/td])\n",
    "plt.show()\n",
    "plt.close()\n",
    "\n",
    "\n",
    "fig2 = plt.figure()\n",
    "plt.plot(t/td, jpjmt/j2max, '-')\n",
    "plt.xlabel(r'$t/t_\\mathrm{D}$', fontsize = label_size)\n",
    "plt.ylabel(r'$\\langle J_{+}J_{-}\\rangle (t)$', fontsize = label_size)\n",
    "plt.xticks([0,(tmax/2)/td,tmax/td])\n",
    "plt.title(r'Light emission', fontsize = label_size)\n",
    "plt.show()\n",
    "plt.close()"
   ]
  },
  {
   "cell_type": "markdown",
   "metadata": {},
   "source": [
    "## 2) Maximum of light emission as a function of  $\\frac{\\gamma_\\text{P}}{N\\gamma_\\text{CE}}$\n",
    "\n",
    "We perform a study of the scaling of the steady state light emission of the system as a function of the pumping rate, normalized by the number of TLSs and the collective emission rate. The results show an optimal point for $\\frac{\\gamma_\\text{P}}{N\\gamma_\\text{CE}}\\simeq 1$. "
   ]
  },
  {
   "cell_type": "code",
   "execution_count": 6,
   "metadata": {},
   "outputs": [],
   "source": [
    "# Cycle on Coefficients\n",
    "gCE = 1\n",
    "gP0 = 1\n",
    "gP_min_exp = -20\n",
    "gP_max_exp = 20\n",
    "gP_stepsize = 0.5\n",
    "gP_list = np.arange(gP_min_exp, gP_max_exp+1, gP_stepsize)*0.1\n",
    "gP_list_log = 10**(gP_list)\n",
    "\n",
    "jpjmss_max_list = []\n",
    "for i in gP_list_log:\n",
    "    gP = i*gP0\n",
    "    system = Dicke(hamiltonian = jz, N = N, pumping = gP, collective_emission = gCE)\n",
    "    liouv = system.liouvillian()\n",
    "    #steadystate\n",
    "    rho_ss = steadystate(liouv,method=\"direct\")\n",
    "    jpjm_ss = expect(jp*jm, rho_ss)\n",
    "    jpjmss_max_list.append(jpjm_ss)"
   ]
  },
  {
   "cell_type": "markdown",
   "metadata": {},
   "source": [
    "#### Visualization"
   ]
  },
  {
   "cell_type": "code",
   "execution_count": 7,
   "metadata": {},
   "outputs": [
    {
     "data": {
      "image/png": "[encoded data removed]",
      "text/plain": [
       "<Figure size 432x288 with 1 Axes>"
      ]
     },
     "metadata": {
      "needs_background": "light"
     },
     "output_type": "display_data"
    }
   ],
   "source": [
    "intensity_max = float(N)*gCE/2*(float(N)*gCE/2+1)\n",
    "normalized_intensity = np.array(jpjmss_max_list)/intensity_max\n",
    "plt.semilogx(gP_list_log/(gCE*N), normalized_intensity, '-')\n",
    "label_size = 20\n",
    "plt.xlabel(r'${\\gamma_\\mathrm{P}}/\\left({N\\gamma_\\mathrm{CE}}\\right)$', fontsize = label_size)\n",
    "plt.ylabel(r'$\\langle J_{+}J_{-}\\rangle_\\mathrm{ss}$', fontsize = label_size)\n",
    "plt.title(r'Steady-state light emission', fontsize = label_size)\n",
    "plt.show()\n",
    "plt.close()"
   ]
  },
  {
   "cell_type": "markdown",
   "metadata": {},
   "source": [
    "#### References\n",
    "\n",
    "[1] D. Meiser and M.J. Holland, *Phys. Rev. A* **81**, 033847 (2010)\n",
    "\n",
    "[2] D. Meiser and M.J. Holland, *Phys. Rev. A* **81**, 063827 (2010)\n",
    "\n",
    "[3] J.G. Bohnet *et al.* *Nature* **484**, 78 (2012)\n",
    "\n",
    "[4] J.R. Johansson, P.D. Nation, and F. Nori, *Comp. Phys. Comm.* **183**, 1760 (2012) http://qutip.org"
   ]
  },
  {
   "cell_type": "code",
   "execution_count": 8,
   "metadata": {
    "scrolled": true
   },
   "outputs": [
    {
     "name": "stdout",
     "output_type": "stream",
     "text": [
      "\n",
      "QuTiP: Quantum Toolbox in Python\n",
      "Copyright (c) 2011 and later.\n",
      "A. J. Pitchford, P. D. Nation, R. J. Johansson, A. Grimsmo, and C. Granade\n",
      "\n",
      "QuTiP Version:      4.3.1\n",
      "Numpy Version:      1.14.2\n",
      "Scipy Version:      1.1.0\n",
      "Cython Version:     0.28.5\n",
      "Matplotlib Version: 2.2.3\n",
      "Python Version:     3.6.7\n",
      "Number of CPUs:     2\n",
      "BLAS Info:          INTEL MKL\n",
      "OPENMP Installed:   False\n",
      "INTEL MKL Ext:      True\n",
      "Platform Info:      Darwin (x86_64)\n",
      "Installation path:  /Users/nathanshammah/miniconda3/lib/python3.6/site-packages/qutip\n",
      "==============================================================================\n",
      "Please cite QuTiP in your publication.\n",
      "==============================================================================\n",
      "For your convenience a bibtex file can be easily generated using `qutip.cite()`\n"
     ]
    }
   ],
   "source": [
    "qutip.about()"
   ]
  }
 ],
 "metadata": {
  "kernelspec": {
   "display_name": "Python 3",
   "language": "python",
   "name": "python3"
  },
  "language_info": {
   "codemirror_mode": {
    "name": "ipython",
    "version": 3
   },
   "file_extension": ".py",
   "mimetype": "text/x-python",
   "name": "python",
   "nbconvert_exporter": "python",
   "pygments_lexer": "ipython3",
   "version": "3.6.7"
  }
 },
 "nbformat": 4,
 "nbformat_minor": 2
}
