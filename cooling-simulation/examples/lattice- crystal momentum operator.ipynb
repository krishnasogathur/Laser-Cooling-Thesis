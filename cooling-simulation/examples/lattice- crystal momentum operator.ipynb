{
 "cells": [
  {
   "cell_type": "markdown",
   "metadata": {},
   "source": [
    "# Crystal Momentum Operator in Lattice Models"
   ]
  },
  {
   "cell_type": "markdown",
   "metadata": {},
   "source": [
    "Saumya Biswas (saumyab@uoregon.edu)"
   ]
  },
  {
   "cell_type": "markdown",
   "metadata": {},
   "source": [
    "## Bloch's theorem, Born von Karmen Boundary Condition\n",
    "In a periodic crystal with periodic boundary condition, the wave function of a particle assummes the bloch form resolvable into the product of a plain wave($|k \\rangle$) and a cell periodic part($| u_{n}(k) \\rangle$).\n",
    "\\begin{eqnarray}\n",
    "|\\psi_n(k) \\rangle = |k \\rangle \\otimes | u_{n}(k) \\rangle \n",
    "\\end{eqnarray}"
   ]
  },
  {
   "cell_type": "markdown",
   "metadata": {},
   "source": [
    "The periodicity of the crystal limits the crystal momenta, k to a set of discrete values(as many as the number of cells(L) in the crystal).\n",
    "We name this set $k_{lat}$ and enumerate the crystal momenta of the $k_{lat}$ with the wave-vector associated with them.\n"
   ]
  },
  {
   "cell_type": "markdown",
   "metadata": {},
   "source": [
    "In a 1d crystal of L cells, for $k \\in k_{lat}$, k is one of the values,\n",
    "\\begin{eqnarray}\n",
    "k = \\frac{2\\pi}{La}\\times n, \\ \\ \\ \\ \\ \\text{where} \\ \\ \\ n = 0,1,2,...., L-1 \\ \\ \\text{and a is the length of the unit cell}\n",
    "\\end{eqnarray}\n",
    "\n"
   ]
  },
  {
   "cell_type": "markdown",
   "metadata": {},
   "source": [
    "## The Crystal Momentum Operator\n",
    "Like any operator with a discrete momentum, the crystal momentum operator can be formed as a sum of its projections into all the individual eigen-kets.\n",
    "\\begin{eqnarray}\n",
    "\\hat{\\bf{k}} = \\sum\\limits_{k \\in k_{lat}} k| k \\rangle \\langle k |\n",
    "\\end{eqnarray}\n"
   ]
  },
  {
   "cell_type": "markdown",
   "metadata": {},
   "source": [
    "We enumerate the position operator with the index, j. So a complete set of position eigenkets have corresponding position eigenvalues labeled as, \n",
    "\\begin{eqnarray}\n",
    "x = ja ,\\ \\ \\ \\ \\ \\ \\ \\text{where} j = 0, 1, 2, ..., L-1\n",
    "\\end{eqnarray}\n",
    "Each position eigenket defined as such simply refer to a particle localized at a certain cell, j. We label these position eigenkets as $|j\\rangle$"
   ]
  },
  {
   "cell_type": "markdown",
   "metadata": {},
   "source": [
    "The momentum eigenfunctions in the position basis are the properly normalized plane waves(continuum state normalization).\n",
    "\\begin{eqnarray}\n",
    "\\langle j|k \\rangle = \\sqrt{\\frac{a}{h}} e^{i \\frac{2\\pi x}{L}j } \\\\\n",
    "\\langle k'| k \\rangle = \\delta(k-k')\n",
    "\\end{eqnarray}\n",
    "The $\\langle j|k \\rangle$ have the dimension of $[\\text{momentum dimension}]^{-\\frac{1}{2}}$\n",
    "\n",
    "The matrix elements of the crystal momentum operator($\\hat{\\bf{k}}$) in the basis of ${|j \\rangle}$ are formed as follows\n",
    "\\begin{eqnarray}\n",
    "\\langle j|k|j' \\rangle = \\sum\\limits_{k \\in k_{lat}} \\langle j | k \\rangle \\langle k |j' \\rangle \\ \\ \\ \\ \\ \\ \\ \\ \\ \\ \\ \\ \\ \\ \\ \\ \\ \\ \\ \\ \\ \\ \\ \\ \\ \\\\\n",
    "=\\frac{1}{h} \\frac{2\\pi}{L}\\sum\\limits_{n=0}^{L-1} n e^{-i \\frac{2\\pi n}{L}(j'-j) } \\ \\ \\ \\ \\ \\ \\ \\ \\ \\ \\ \\ \\ \\ \\ \\\\\n",
    "=\\frac{2\\pi}{h}\\left\\{\n",
    "                \\begin{array}{ll}\n",
    "                  (L-1)/2, \\ \\ \\text{when} \\ \\ \\ j=j'\\\\\n",
    "                  \\frac{1}{e^{i\\frac{2\\pi}{L}(j-j')}-1}, \\ \\text{otherwise}\n",
    "                \\end{array}\n",
    "              \\right.\n",
    "\\end{eqnarray}\n"
   ]
  },
  {
   "cell_type": "code",
   "execution_count": 48,
   "metadata": {},
   "outputs": [],
   "source": [
    "from qutip import *\n",
    "import matplotlib.pyplot as plt\n",
    "import numpy as np"
   ]
  },
  {
   "cell_type": "code",
   "execution_count": 49,
   "metadata": {},
   "outputs": [],
   "source": [
    "periodic_atom_chain8 = Lattice1d(num_cell=8, boundary = \"periodic\")\n",
    "k8 = periodic_atom_chain8.k()"
   ]
  },
  {
   "cell_type": "code",
   "execution_count": 50,
   "metadata": {},
   "outputs": [],
   "source": [
    "[ks8, pw8] = k8.eigenstates()"
   ]
  },
  {
   "cell_type": "code",
   "execution_count": 51,
   "metadata": {},
   "outputs": [
    {
     "data": {
      "text/plain": [
       "array([4.4408921e-15, 1.0000000e+00, 2.0000000e+00, 3.0000000e+00,\n",
       "       4.0000000e+00, 5.0000000e+00, 6.0000000e+00, 7.0000000e+00])"
      ]
     },
     "execution_count": 51,
     "metadata": {},
     "output_type": "execute_result"
    }
   ],
   "source": [
    "ks8 # In units of 2*pi/(L*a),  if ks[1] = 1, the wavevector/crystal-momentum of the\n",
    "    # corresponding eigen-vector of k is a plane wave with wavelength of L*a, the length\n",
    "    # of the crystal. ks[2] = 2 has a corresponding plane wave eigenvector with\n",
    "    # wavelength of 2*L*a, twice the length of the crystal."
   ]
  },
  {
   "cell_type": "code",
   "execution_count": 70,
   "metadata": {},
   "outputs": [
    {
     "data": {
      "text/latex": [
       "Quantum object: dims = [[8], [1]], shape = (8, 1), type = ket\\begin{equation*}\\left(\\begin{array}{*{11}c}0.354\\\\0.354\\\\0.354\\\\0.354\\\\0.354\\\\0.354\\\\0.354\\\\0.354\\\\\\end{array}\\right)\\end{equation*}"
      ],
      "text/plain": [
       "Quantum object: dims = [[8], [1]], shape = (8, 1), type = ket\n",
       "Qobj data =\n",
       "[[0.35355339]\n",
       " [0.35355339]\n",
       " [0.35355339]\n",
       " [0.35355339]\n",
       " [0.35355339]\n",
       " [0.35355339]\n",
       " [0.35355339]\n",
       " [0.35355339]]"
      ]
     },
     "execution_count": 70,
     "metadata": {},
     "output_type": "execute_result"
    }
   ],
   "source": [
    "pw8[0] # ks[0] = 0 has an eigenvector that has a frequency of 0 and wavelength of\n",
    "       # infinity, the eigen-vector is normalized to unity, meaning the sum of all\n",
    "       # the elements sqared is 1"
   ]
  },
  {
   "cell_type": "code",
   "execution_count": 53,
   "metadata": {},
   "outputs": [
    {
     "data": {
      "image/png": "[encoded data removed]",
      "text/plain": [
       "<Figure size 432x288 with 1 Axes>"
      ]
     },
     "metadata": {
      "needs_background": "light"
     },
     "output_type": "display_data"
    }
   ],
   "source": [
    "# The eigenvectors are better demonstrated with a latice of longer length\n",
    "# Here we plot the second and third eigen-vectors(real and imaginary parts) of the first\n",
    "# 3 eigenvectors of the crystal momentum operator for a 1d lattice with 64 cells\n",
    "periodic_atom_chain64 = Lattice1d(num_cell=64, boundary = \"periodic\")\n",
    "k64 = periodic_atom_chain64.k()\n",
    "[ks64, pw64] = k64.eigenstates()\n",
    "plt.plot(np.real(pw64[1]),'r')\n",
    "plt.plot(np.imag(pw64[1]),'b')\n",
    "plt.plot(np.abs(pw64[1]),'g')\n",
    "plt.xlabel('position')\n",
    "plt.ylabel('crystal momentum eigen vector')\n",
    "plt.show()\n",
    "plt.close()"
   ]
  },
  {
   "cell_type": "code",
   "execution_count": 54,
   "metadata": {},
   "outputs": [
    {
     "data": {
      "image/png": "[encoded data removed]",
      "text/plain": [
       "<Figure size 432x288 with 1 Axes>"
      ]
     },
     "metadata": {
      "needs_background": "light"
     },
     "output_type": "display_data"
    }
   ],
   "source": [
    "k64 = periodic_atom_chain64.k()\n",
    "[ks64, pw64] = k64.eigenstates()\n",
    "plt.plot(np.real(pw64[2]),'r')\n",
    "plt.plot(np.imag(pw64[2]),'b')\n",
    "plt.plot(np.abs(pw64[2]),'g')\n",
    "plt.xlabel('position')\n",
    "plt.ylabel('crystal momentum eigen vector')\n",
    "plt.show()\n",
    "plt.close()"
   ]
  },
  {
   "cell_type": "markdown",
   "metadata": {},
   "source": [
    "## Relationship of crystal momentum eigen-vectors with the Hamiltonian"
   ]
  },
  {
   "cell_type": "code",
   "execution_count": 55,
   "metadata": {},
   "outputs": [],
   "source": [
    "Hamt8 = periodic_atom_chain8.Hamiltonian()"
   ]
  },
  {
   "cell_type": "code",
   "execution_count": 56,
   "metadata": {},
   "outputs": [],
   "source": [
    "pw8_M = np.array([pw8[0].full(),pw8[1].full(),pw8[2].full(),pw8[3].full(),\n",
    "       pw8[4].full(),pw8[5].full(),pw8[6].full(),pw8[7].full()])\n",
    "pw8_M = np.squeeze(pw8_M, axis=2)  # changing shape from (8,8,1) to (8,8)\n",
    "     # pw8_M is a matrix of 8 columns, each of which are the eigenvectors\n",
    "     # of the crystal momentum operator\n",
    "pw8_M = Qobj(pw8_M)"
   ]
  },
  {
   "cell_type": "code",
   "execution_count": 57,
   "metadata": {},
   "outputs": [
    {
     "data": {
      "text/latex": [
       "Quantum object: dims = [[8], [8]], shape = (8, 8), type = oper, isherm = True\\begin{equation*}\\left(\\begin{array}{*{11}c}-2.0 & 0.0 & 0.0 & 0.0 & 0.0 & 0.0 & 0.0 & 0.0\\\\0.0 & -1.414 & 0.0 & 0.0 & 0.0 & 0.0 & 0.0 & 0.0\\\\0.0 & 0.0 & 0.0 & 0.0 & 0.0 & 0.0 & 0.0 & 0.0\\\\0.0 & 0.0 & 0.0 & 1.414 & 0.0 & 0.0 & 0.0 & 0.0\\\\0.0 & 0.0 & 0.0 & 0.0 & 2.0 & 0.0 & 0.0 & 0.0\\\\0.0 & 0.0 & 0.0 & 0.0 & 0.0 & 1.414 & 0.0 & 0.0\\\\0.0 & 0.0 & 0.0 & 0.0 & 0.0 & 0.0 & 0.0 & 0.0\\\\0.0 & 0.0 & 0.0 & 0.0 & 0.0 & 0.0 & 0.0 & -1.414\\\\\\end{array}\\right)\\end{equation*}"
      ],
      "text/plain": [
       "Quantum object: dims = [[8], [8]], shape = (8, 8), type = oper, isherm = True\n",
       "Qobj data =\n",
       "[[-2.          0.          0.          0.          0.          0.\n",
       "   0.          0.        ]\n",
       " [ 0.         -1.41421356  0.          0.          0.          0.\n",
       "   0.          0.        ]\n",
       " [ 0.          0.          0.          0.          0.          0.\n",
       "   0.          0.        ]\n",
       " [ 0.          0.          0.          1.41421356  0.          0.\n",
       "   0.          0.        ]\n",
       " [ 0.          0.          0.          0.          2.          0.\n",
       "   0.          0.        ]\n",
       " [ 0.          0.          0.          0.          0.          1.41421356\n",
       "   0.          0.        ]\n",
       " [ 0.          0.          0.          0.          0.          0.\n",
       "   0.          0.        ]\n",
       " [ 0.          0.          0.          0.          0.          0.\n",
       "   0.         -1.41421356]]"
      ]
     },
     "execution_count": 57,
     "metadata": {},
     "output_type": "execute_result"
    }
   ],
   "source": [
    "pw8_M * Hamt8 * pw8_M.dag()"
   ]
  },
  {
   "cell_type": "markdown",
   "metadata": {},
   "source": [
    "So, eigenvectors of the crystal momentum are eigenvectors of the Hamiltonian as \n",
    "well. This is a consequence of the translational symmetry of the lattice. The generator of the lattice translational operator is the crystal momentum operator. Due to the translational symmetry, the lattice translational operator, the crystal momentum and the Hamiltonian all commute with each other. So they can have simultaneous eigenstates."
   ]
  },
  {
   "cell_type": "code",
   "execution_count": 58,
   "metadata": {},
   "outputs": [
    {
     "data": {
      "text/latex": [
       "Quantum object: dims = [[8], [8]], shape = (8, 8), type = oper, isherm = True\\begin{equation*}\\left(\\begin{array}{*{11}c}0.0 & 0.0 & 0.0 & 0.0 & 0.0 & 0.0 & 0.0 & 0.0\\\\0.0 & 0.0 & 0.0 & 0.0 & 0.0 & 0.0 & 0.0 & 0.0\\\\0.0 & 0.0 & 0.0 & 0.0 & 0.0 & 0.0 & 0.0 & 0.0\\\\0.0 & 0.0 & 0.0 & 0.0 & 0.0 & 0.0 & 0.0 & 0.0\\\\0.0 & 0.0 & 0.0 & 0.0 & 0.0 & 0.0 & 0.0 & 0.0\\\\0.0 & 0.0 & 0.0 & 0.0 & 0.0 & 0.0 & 0.0 & 0.0\\\\0.0 & 0.0 & 0.0 & 0.0 & 0.0 & 0.0 & 0.0 & 0.0\\\\0.0 & 0.0 & 0.0 & 0.0 & 0.0 & 0.0 & 0.0 & 0.0\\\\\\end{array}\\right)\\end{equation*}"
      ],
      "text/plain": [
       "Quantum object: dims = [[8], [8]], shape = (8, 8), type = oper, isherm = True\n",
       "Qobj data =\n",
       "[[0. 0. 0. 0. 0. 0. 0. 0.]\n",
       " [0. 0. 0. 0. 0. 0. 0. 0.]\n",
       " [0. 0. 0. 0. 0. 0. 0. 0.]\n",
       " [0. 0. 0. 0. 0. 0. 0. 0.]\n",
       " [0. 0. 0. 0. 0. 0. 0. 0.]\n",
       " [0. 0. 0. 0. 0. 0. 0. 0.]\n",
       " [0. 0. 0. 0. 0. 0. 0. 0.]\n",
       " [0. 0. 0. 0. 0. 0. 0. 0.]]"
      ]
     },
     "execution_count": 58,
     "metadata": {},
     "output_type": "execute_result"
    }
   ],
   "source": [
    "# A check that the Hamiltonian and the crystal momentum operator do indeed commute\n",
    "Hamt8 * k8 - k8 * Hamt8"
   ]
  },
  {
   "cell_type": "markdown",
   "metadata": {},
   "source": [
    "## Relationship of Expansion in momentum eigenkets to fft"
   ]
  },
  {
   "cell_type": "markdown",
   "metadata": {},
   "source": [
    "We form a Gaussian state in the position basis and evaluate its Discrete Fourier Transform(DFT) for evaluating its frequency components."
   ]
  },
  {
   "cell_type": "code",
   "execution_count": 112,
   "metadata": {},
   "outputs": [],
   "source": [
    "xs8 = np.arange(0,8)\n",
    "Gaussian8_sum_to_1 = 1/np.sqrt(2*np.pi* 0.5 **2) * np.exp(-(xs8 - 3)**2/2/0.5**2)\n",
    "Gaussian_state8 = np.sqrt(Gaussian8_sum_to_1) # A normalized Gaussian state"
   ]
  },
  {
   "cell_type": "code",
   "execution_count": 113,
   "metadata": {},
   "outputs": [
    {
     "data": {
      "image/png": "[encoded data removed]",
      "text/plain": [
       "<Figure size 432x288 with 1 Axes>"
      ]
     },
     "metadata": {
      "needs_background": "light"
     },
     "output_type": "display_data"
    }
   ],
   "source": [
    "plt.plot(Gaussian_state8,'r')\n",
    "plt.xlabel('position')\n",
    "plt.ylabel('Probability Amplitude')\n",
    "plt.show()\n",
    "plt.close()"
   ]
  },
  {
   "cell_type": "markdown",
   "metadata": {},
   "source": [
    "### Inner Product of crystal momentum eigenket and a state"
   ]
  },
  {
   "cell_type": "code",
   "execution_count": 115,
   "metadata": {},
   "outputs": [],
   "source": [
    "k_exps = pw8_M.dag() * Gaussian_state  # ket vector of inner products with crystal\n",
    "                                       # momentum eigenkets\n",
    "k_exps = k_exps/ np.sqrt( np.sum(np.multiply(k_exps, np.conj(k_exps)))) # normalization"
   ]
  },
  {
   "cell_type": "markdown",
   "metadata": {},
   "source": [
    "### fft spectrum"
   ]
  },
  {
   "cell_type": "code",
   "execution_count": 116,
   "metadata": {},
   "outputs": [
    {
     "data": {
      "image/png": "[encoded data removed]",
      "text/plain": [
       "<Figure size 432x288 with 1 Axes>"
      ]
     },
     "metadata": {
      "needs_background": "light"
     },
     "output_type": "display_data"
    }
   ],
   "source": [
    "dft_Gaussian_state = np.fft.fft(Gaussian_state)\n",
    "shf_dft_Gaussian_state = np.roll(dft_Gaussian_state,4)\n",
    "sq_dft_Gaussian_state = np.multiply(shf_dft_Gaussian_state, np.conj(shf_dft_Gaussian_state))\n",
    "norml_dft_Gaussian_state = shf_dft_Gaussian_state / np.sqrt(np.sum(sq_dft_Gaussian_state))"
   ]
  },
  {
   "cell_type": "markdown",
   "metadata": {},
   "source": [
    "#### Comparison"
   ]
  },
  {
   "cell_type": "code",
   "execution_count": 118,
   "metadata": {},
   "outputs": [
    {
     "data": {
      "image/png": "[encoded data removed]",
      "text/plain": [
       "<Figure size 432x288 with 1 Axes>"
      ]
     },
     "metadata": {
      "needs_background": "light"
     },
     "output_type": "display_data"
    }
   ],
   "source": [
    "plt.plot(np.abs(norml_dft_Gaussian_state),'b')\n",
    "plt.plot(np.abs(k_exps),'ro')\n",
    "plt.xlabel('frequency number')\n",
    "plt.ylabel('frequency Amplitude')\n",
    "plt.show()\n",
    "plt.close()"
   ]
  },
  {
   "cell_type": "markdown",
   "metadata": {},
   "source": [
    "Therefore, expanding a state in momentum eigenkets is equivalent of a DFT for a periodic lattice."
   ]
  },
  {
   "cell_type": "code",
   "execution_count": 119,
   "metadata": {},
   "outputs": [
    {
     "name": "stdout",
     "output_type": "stream",
     "text": [
      "\n",
      "QuTiP: Quantum Toolbox in Python\n",
      "================================\n",
      "Copyright (c) QuTiP team 2011 and later.\n",
      "Original developers: R. J. Johansson & P. D. Nation.\n",
      "Current admin team: Alexander Pitchford, Paul D. Nation, Nathan Shammah, Shahnawaz Ahmed, Neill Lambert, and Eric Giguère.\n",
      "Project Manager: Franco Nori.\n",
      "Currently developed through wide collaboration. See https://github.com/qutip for details.\n",
      "\n",
      "QuTiP Version:      4.5.0.dev0+c8074e5\n",
      "Numpy Version:      1.15.2\n",
      "Scipy Version:      1.1.0\n",
      "Cython Version:     0.28.5\n",
      "Matplotlib Version: 3.0.0\n",
      "Python Version:     3.5.4\n",
      "Number of CPUs:     2\n",
      "BLAS Info:          INTEL MKL\n",
      "OPENMP Installed:   True\n",
      "INTEL MKL Ext:      True\n",
      "Platform Info:      Linux (x86_64)\n",
      "Installation path:  /home/ssaumya7/Desktop/GSOC/Aug5/qutip/qutip\n",
      "==============================================================================\n",
      "Please cite QuTiP in your publication.\n",
      "==============================================================================\n",
      "For your convenience a bibtex reference can be easily generated using `qutip.cite()`\n"
     ]
    }
   ],
   "source": [
    "qutip.about()"
   ]
  },
  {
   "cell_type": "code",
   "execution_count": 120,
   "metadata": {},
   "outputs": [
    {
     "name": "stdout",
     "output_type": "stream",
     "text": [
      "@article{qutip2,\n",
      "doi = {10.1016/j.cpc.2012.11.019},\n",
      "url = {https://doi.org/10.1016/j.cpc.2012.11.019},\n",
      "year  = {2013},\n",
      "month = {apr},\n",
      "publisher = {Elsevier {BV}},\n",
      "volume = {184},\n",
      "number = {4},\n",
      "pages = {1234--1240},\n",
      "author = {J.R. Johansson and P.D. Nation and F. Nori},\n",
      "title = {{QuTiP} 2: A {P}ython framework for the dynamics of open quantum systems},\n",
      "journal = {Computer Physics Communications}\n",
      "}\n",
      "@article{qutip1,\n",
      "doi = {10.1016/j.cpc.2012.02.021},\n",
      "url = {https://doi.org/10.1016/j.cpc.2012.02.021},\n",
      "year  = {2012},\n",
      "month = {aug},\n",
      "publisher = {Elsevier {BV}},\n",
      "volume = {183},\n",
      "number = {8},\n",
      "pages = {1760--1772},\n",
      "author = {J.R. Johansson and P.D. Nation and F. Nori},\n",
      "title = {{QuTiP}: An open-source {P}ython framework for the dynamics of open quantum systems},\n",
      "journal = {Computer Physics Communications}\n",
      "}\n"
     ]
    }
   ],
   "source": [
    "qutip.cite()"
   ]
  }
 ],
 "metadata": {
  "kernelspec": {
   "display_name": "Python 3",
   "language": "python",
   "name": "python3"
  },
  "language_info": {
   "codemirror_mode": {
    "name": "ipython",
    "version": 3
   },
   "file_extension": ".py",
   "mimetype": "text/x-python",
   "name": "python",
   "nbconvert_exporter": "python",
   "pygments_lexer": "ipython3",
   "version": "3.5.4"
  }
 },
 "nbformat": 4,
 "nbformat_minor": 2
}
