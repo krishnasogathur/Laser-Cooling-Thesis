{
 "metadata": {
  "kernelspec": {
   "display_name": "Python 3",
   "language": "python",
   "name": "python3"
  },
  "language_info": {
   "codemirror_mode": {
    "name": "ipython",
    "version": 3
   },
   "file_extension": ".py",
   "mimetype": "text/x-python",
   "name": "python",
   "nbconvert_exporter": "python",
   "pygments_lexer": "ipython3",
   "version": "3.4.3"
  },
  "name": ""
 },
 "nbformat": 3,
 "nbformat_minor": 0,
 "worksheets": [
  {
   "cells": [
    {
     "cell_type": "heading",
     "level": 1,
     "metadata": {},
     "source": [
      "Calculation of control fields for state-to-state transfer of a 2 qubit system using CRAB algorithm"
     ]
    },
    {
     "cell_type": "markdown",
     "metadata": {},
     "source": [
      "Jonathan Zoller (jonathan.zoller@uni-ulm.de)"
     ]
    },
    {
     "cell_type": "markdown",
     "metadata": {},
     "source": [
      "Example to demonstrate using the control library to determine control\n",
      "pulses using the ctrlpulseoptim.optimize_pulse_unitary function.\n",
      "The CRAB algorithm is used to optimize pulse shapes to minimize the fidelity\n",
      "error, which is equivalent maximising the fidelity to an optimal value of 1.\n",
      "\n",
      "The system in this example are two qubits, where the interaction can be\n",
      "controlled. The target is to perform a pure state transfer from a down-down\n",
      "state to an up-up state.\n",
      "\n",
      "The user can experiment with the timeslicing, by means of changing the\n",
      "number of timeslots and/or total time for the evolution.\n",
      "Different initial (starting) pulse types can be tried as well as\n",
      "boundaries on the control and a smooth ramping of the pulse when\n",
      "switching the control on and off (at the beginning and close to the end).\n",
      "The initial and final pulses are displayed in a plot\n",
      "\n",
      "An in depth discussion of using methods of this type can be found in [1,2]"
     ]
    },
    {
     "cell_type": "code",
     "collapsed": false,
     "input": [
      "%matplotlib inline\n",
      "import numpy as np\n",
      "import matplotlib.pyplot as plt\n",
      "import datetime"
     ],
     "language": "python",
     "metadata": {},
     "outputs": [],
     "prompt_number": 1
    },
    {
     "cell_type": "code",
     "collapsed": false,
     "input": [
      "from qutip import Qobj, identity, sigmax, sigmaz, tensor\n",
      "import random\n",
      "import qutip.logging_utils as logging\n",
      "logger = logging.get_logger()\n",
      "#Set this to None or logging.WARN for 'quiet' execution\n",
      "log_level = logging.INFO\n",
      "#QuTiP control modules\n",
      "import qutip.control.pulseoptim as cpo\n",
      "\n",
      "example_name = '2qubitInteract'"
     ],
     "language": "python",
     "metadata": {},
     "outputs": [],
     "prompt_number": 2
    },
    {
     "cell_type": "heading",
     "level": 3,
     "metadata": {},
     "source": [
      "Defining the physics"
     ]
    },
    {
     "cell_type": "markdown",
     "metadata": {},
     "source": [
      "The dynamics of the system are governed by the combined Hamiltonian:\n",
      "H(t) = H_d + sum(u1(t)*Hc1 + u2(t)*Hc2 + ....)\n",
      "That is the time-dependent Hamiltonian has a constant part (called here the drift) and time vary parts, which are the control Hamiltonians scaled by some functions u_j(t) known as control amplitudes\n",
      "In this example we describe an Ising like Hamiltonian, encompassing random coefficients in the drift part and controlling the interaction of the qubits:\n",
      "\n",
      "$ \\hat{H} = \\sum_{i=1}^2 \\alpha_i \\sigma_x^i + \\beta_i \\sigma_z^i + u(t) \\cdot \\sigma_z \\otimes \\sigma_z $\n",
      "\n",
      "Initial $\\newcommand{\\ket}[1]{\\left|{#1}\\right\\rangle} \\ket{\\psi_0} = \\text{U_0}$ and target state $\\ket{\\psi_t} = \\text{U_targ}$ are chosen to be:\n",
      "\n",
      "$ \\ket{\\psi_0} = \\begin{pmatrix} 1 \\\\ 0 \\\\ 0 \\\\ 0 \\end{pmatrix}$\n",
      "\n",
      "$ \\ket{\\psi_t} = \\begin{pmatrix} 0 \\\\ 0 \\\\ 0 \\\\ 1 \\end{pmatrix}$"
     ]
    },
    {
     "cell_type": "code",
     "collapsed": false,
     "input": [
      "random.seed(20)\n",
      "alpha = [random.random(),random.random()]\n",
      "beta  = [random.random(),random.random()]\n",
      "\n",
      "Sx = sigmax()\n",
      "Sz = sigmaz()\n",
      "\n",
      "H_d = (alpha[0]*tensor(Sx,identity(2)) + \n",
      "      alpha[1]*tensor(identity(2),Sx) +\n",
      "      beta[0]*tensor(Sz,identity(2)) +\n",
      "      beta[1]*tensor(identity(2),Sz))\n",
      "H_c = [tensor(Sz,Sz)]\n",
      "# Number of ctrls\n",
      "n_ctrls = len(H_c)\n",
      "\n",
      "q1_0 = q2_0 = Qobj([[1], [0]])\n",
      "q1_targ = q2_targ = Qobj([[0], [1]])\n",
      "\n",
      "psi_0 = tensor(q1_0, q2_0)\n",
      "psi_targ = tensor(q1_targ, q2_targ)"
     ],
     "language": "python",
     "metadata": {},
     "outputs": [],
     "prompt_number": 3
    },
    {
     "cell_type": "heading",
     "level": 3,
     "metadata": {},
     "source": [
      "Defining the time evolution parameters"
     ]
    },
    {
     "cell_type": "markdown",
     "metadata": {},
     "source": [
      "To solve the evolution the control amplitudes are considered constant within piecewise timeslots, hence the evolution during the timeslot can be calculated using U(t_k) = expm(-i*H(t_k)*dt). Combining these for all the timeslots gives the approximation to the evolution from an initial state $\\psi_0$ at t=0 to U(T) at the t=evo_time.\n",
      "The number of timeslots and evo_time have to be chosen such that the timeslot durations (dt) are small compared with the dynamics of the system."
     ]
    },
    {
     "cell_type": "code",
     "collapsed": false,
     "input": [
      "# Number of time slots\n",
      "n_ts = 100\n",
      "# Time allowed for the evolution\n",
      "evo_time = 18"
     ],
     "language": "python",
     "metadata": {},
     "outputs": [],
     "prompt_number": 4
    },
    {
     "cell_type": "heading",
     "level": 3,
     "metadata": {},
     "source": [
      "Set the conditions which will cause the pulse optimisation to terminate"
     ]
    },
    {
     "cell_type": "markdown",
     "metadata": {},
     "source": [
      "At each iteration the fidelity of the evolution is tested by comparaing the calculated evolution U(T) with the target U_targ. For unitary systems such as this one this is typically:\n",
      "f = normalise(overlap(U(T), U_targ)). The maximum fidelity (for a unitary system) calculated this way would be 1, and hence the error is calculated as fid_err = 1 - fidelity. As such the optimisation is considered completed when the fid_err falls below such a target value.\n",
      "\n",
      "In some cases the optimisation either gets stuck in some local minima, or the fid_err_targ is just not achievable, therefore some limits are set to the time/effort allowed to find a solution.\n",
      "\n",
      "The algorithm uses the CRAB algorithm to determine optimized coefficients that lead to a minimal fidelity error. The underlying optimization procedure is set to be the Nelder-Mead downhill simplex. Therefore, when all vertices shrink together, the algorithm will terminate."
     ]
    },
    {
     "cell_type": "code",
     "collapsed": false,
     "input": [
      "# Fidelity error target\n",
      "fid_err_targ = 1e-3\n",
      "# Maximum iterations for the optisation algorithm\n",
      "max_iter = 500\n",
      "# Maximum (elapsed) time allowed in seconds\n",
      "max_wall_time = 120"
     ],
     "language": "python",
     "metadata": {},
     "outputs": [],
     "prompt_number": 5
    },
    {
     "cell_type": "heading",
     "level": 3,
     "metadata": {},
     "source": [
      "Set the initial pulse type"
     ]
    },
    {
     "cell_type": "markdown",
     "metadata": {},
     "source": [
      "The control amplitudes must be set to some initial values. Typically these are just random values for each control in each timeslot. These do however result in erratic optimised pulses. For this example, a solution will be found for any initial pulse, and so it can be interesting to look at the other initial pulse alternatives."
     ]
    },
    {
     "cell_type": "code",
     "collapsed": false,
     "input": [
      "# pulse type alternatives: RND|ZERO|LIN|SINE|SQUARE|SAW|TRIANGLE|\n",
      "p_type = 'DEF'"
     ],
     "language": "python",
     "metadata": {},
     "outputs": [],
     "prompt_number": 6
    },
    {
     "cell_type": "heading",
     "level": 3,
     "metadata": {},
     "source": [
      "Give an extension for output files"
     ]
    },
    {
     "cell_type": "code",
     "collapsed": false,
     "input": [
      "#Set to None to suppress output files\n",
      "f_ext = \"{}_n_ts{}_ptype{}.txt\".format(example_name, n_ts, p_type)"
     ],
     "language": "python",
     "metadata": {},
     "outputs": [],
     "prompt_number": 7
    },
    {
     "cell_type": "heading",
     "level": 3,
     "metadata": {},
     "source": [
      "Run the optimisation"
     ]
    },
    {
     "cell_type": "markdown",
     "metadata": {},
     "source": [
      "In this step, the actual optimization is performed. At each iteration the Nelder-Mead algorithm calculates a new set of coefficients that improves the currently worst set among all set of coefficients. For details see [1,2] and a textbook about static search methods. The algorithm continues until one of the termination conditions defined above has been reached. If undesired results are achieved, rerun the algorithm and/or try to change the number of coefficients to be optimized for, as this is a very crucial parameter."
     ]
    },
    {
     "cell_type": "code",
     "collapsed": false,
     "input": [
      "result = cpo.opt_pulse_crab_unitary(H_d, H_c, psi_0, psi_targ, n_ts, evo_time, \n",
      "                fid_err_targ=fid_err_targ, \n",
      "                max_iter=max_iter, max_wall_time=max_wall_time, \n",
      "                init_coeff_scaling=5.0, num_coeffs=5, \n",
      "                method_params={'xtol':1e-3},\n",
      "                guess_pulse_type=None, guess_pulse_action='modulate',\n",
      "                out_file_ext=f_ext,\n",
      "                log_level=log_level, gen_stats=True)"
     ],
     "language": "python",
     "metadata": {},
     "outputs": [
      {
       "output_type": "stream",
       "stream": "stderr",
       "text": [
        "INFO:qutip.control.pulseoptim:System configuration:\n",
        "Drift Hamiltonian:\n",
        "Quantum object: dims = [[2, 2], [2, 2]], shape = [4, 4], type = oper, isherm = True\n",
        "Qobj data =\n",
        "[[ 1.67112549  0.68625416  0.90563968  0.        ]\n",
        " [ 0.68625416 -0.13810698  0.          0.90563968]\n",
        " [ 0.90563968  0.          0.13810698  0.68625416]\n",
        " [ 0.          0.90563968  0.68625416 -1.67112549]]\n",
        "Control 1 Hamiltonian:\n",
        "Quantum object: dims = [[2, 2], [2, 2]], shape = [4, 4], type = oper, isherm = True\n",
        "Qobj data =\n",
        "[[ 1.  0.  0.  0.]\n",
        " [ 0. -1.  0.  0.]\n",
        " [ 0.  0. -1.  0.]\n",
        " [ 0.  0.  0.  1.]]\n",
        "Initial state / operator:\n",
        "Quantum object: dims = [[2, 2], [1, 1]], shape = [4, 1], type = ket\n",
        "Qobj data =\n",
        "[[ 1.]\n",
        " [ 0.]\n",
        " [ 0.]\n",
        " [ 0.]]\n",
        "Target state / operator:\n",
        "Quantum object: dims = [[2, 2], [1, 1]], shape = [4, 1], type = ket\n",
        "Qobj data =\n",
        "[[ 0.]\n",
        " [ 0.]\n",
        " [ 0.]\n",
        " [ 1.]]\n",
        "INFO:qutip.control.dynamics:Internal operator data type choosen to be <class 'numpy.ndarray'>\n",
        "INFO:qutip.control.pulseoptim:Initial amplitudes output to file: ctrl_amps_initial_2qubitInteract_n_ts100_ptypeDEF.txt\n",
        "INFO:qutip.control.optimizer:Optimising pulse(s) using CRAB with 'fmin' (Nelder-Mead) method\n",
        "INFO:qutip.control.pulseoptim:Final amplitudes output to file: ctrl_amps_final_2qubitInteract_n_ts100_ptypeDEF.txt\n"
       ]
      }
     ],
     "prompt_number": 8
    },
    {
     "cell_type": "heading",
     "level": 3,
     "metadata": {},
     "source": [
      "Report the results"
     ]
    },
    {
     "cell_type": "markdown",
     "metadata": {},
     "source": [
      "Firstly the performace statistics are reported, which gives a breakdown of the processing times. In this example it can be seen that the majority of time is spent calculating the propagators, i.e. exponentiating the combined Hamiltonian.\n",
      "\n",
      "The optimised U(T) is reported as the 'final evolution', which is essentially the string representation of the Qobj that holds the full time evolution at the point when the optimisation is terminated.\n",
      "\n",
      "The key information is in the summary (given last). Here the final fidelity is reported and the reason for termination of the algorithm."
     ]
    },
    {
     "cell_type": "code",
     "collapsed": false,
     "input": [
      "result.stats.report()\n",
      "print(\"Final evolution\\n{}\\n\".format(result.evo_full_final))\n",
      "print(\"********* Summary *****************\")\n",
      "print(\"Final fidelity error {}\".format(result.fid_err))\n",
      "print(\"Final gradient normal {}\".format(result.grad_norm_final))\n",
      "print(\"Terminated due to {}\".format(result.termination_reason))\n",
      "print(\"Number of iterations {}\".format(result.num_iter))\n",
      "print(\"Completed in {} HH:MM:SS.US\".format(\n",
      "        datetime.timedelta(seconds=result.wall_time)))"
     ],
     "language": "python",
     "metadata": {},
     "outputs": [
      {
       "output_type": "stream",
       "stream": "stdout",
       "text": [
        "\n",
        "------------------------------------\n",
        "---- Control optimisation stats ----\n",
        "**** Timings (HH:MM:SS.US) ****\n",
        "Total wall time elapsed during optimisation: 0:00:02.721282\n",
        "Wall time computing Hamiltonians: 0:00:00.036711 (1.35%)\n",
        "Wall time computing propagators: 0:00:02.646153 (97.24%)\n",
        "Wall time computing forward propagation: 0:00:00.010539 (0.39%)\n",
        "Wall time computing onward propagation: 0:00:00.010063 (0.37%)\n",
        "Wall time computing gradient: 0:00:00 (0.00%)\n",
        "\n",
        "**** Iterations and function calls ****\n",
        "Number of iterations: 72\n",
        "Number of fidelity function calls: 122\n",
        "Number of times fidelity is computed: 122\n",
        "Number of gradient function calls: 0\n",
        "Number of times gradients are computed: 0\n",
        "Number of times timeslot evolution is recomputed: 122\n",
        "\n",
        "**** Control amplitudes ****\n",
        "Number of control amplitude updates: 121\n",
        "Mean number of updates per iteration: 1.6805555555555556\n",
        "Number of timeslot values changed: 12099\n",
        "Mean number of timeslot changes per update: 99.99173553719008\n",
        "Number of amplitude values changed: 12099\n",
        "Mean number of amplitude changes per update: 99.99173553719008\n",
        "------------------------------------\n",
        "Final evolution\n",
        "Quantum object: dims = [[2, 2], [1, 1]], shape = [4, 1], type = ket\n",
        "Qobj data =\n",
        "[[ 0.00468134-0.01777426j]\n",
        " [-0.00138275+0.02703409j]\n",
        " [-0.02178077+0.02051661j]\n",
        " [-0.79897098+0.59973281j]]\n",
        "\n",
        "********* Summary *****************\n",
        "Final fidelity error 0.0009834469658033251\n",
        "Final gradient normal 0.0\n",
        "Terminated due to Goal achieved\n",
        "Number of iterations 72\n",
        "Completed in 0:00:02.721282 HH:MM:SS.US\n"
       ]
      }
     ],
     "prompt_number": 9
    },
    {
     "cell_type": "heading",
     "level": 3,
     "metadata": {},
     "source": [
      "Plot the initial and final amplitudes"
     ]
    },
    {
     "cell_type": "markdown",
     "metadata": {},
     "source": [
      "Here the (random) starting pulse is plotted along with the pulse (control amplitudes) that was found to produce the target gate evolution to within the specified error."
     ]
    },
    {
     "cell_type": "code",
     "collapsed": false,
     "input": [
      "fig1 = plt.figure()\n",
      "ax1 = fig1.add_subplot(2, 1, 1)\n",
      "ax1.set_title(\"Initial Control amps\")\n",
      "ax1.set_ylabel(\"Control amplitude\")\n",
      "ax1.step(result.time, \n",
      "         np.hstack((result.initial_amps[:, 0], result.initial_amps[-1, 0])), \n",
      "         where='post')\n",
      "\n",
      "ax2 = fig1.add_subplot(2, 1, 2)\n",
      "ax2.set_title(\"Optimised Control Amplitudes\")\n",
      "ax2.set_xlabel(\"Time\")\n",
      "ax2.set_ylabel(\"Control amplitude\")\n",
      "ax2.step(result.time, \n",
      "         np.hstack((result.final_amps[:, 0], result.final_amps[-1, 0])), \n",
      "         where='post')\n",
      "plt.show()"
     ],
     "language": "python",
     "metadata": {},
     "outputs": [
      {
       "metadata": {},
       "output_type": "display_data",
       "png": "[encoded data removed]",
       "text": [
        "<matplotlib.figure.Figure at 0x7fc7b2134390>"
       ]
      }
     ],
     "prompt_number": 11
    },
    {
     "cell_type": "heading",
     "level": 3,
     "metadata": {},
     "source": [
      "Versions"
     ]
    },
    {
     "cell_type": "code",
     "collapsed": false,
     "input": [
      "from qutip.ipynbtools import version_table\n",
      "\n",
      "version_table()"
     ],
     "language": "python",
     "metadata": {},
     "outputs": [
      {
       "html": [
        "<table><tr><th>Software</th><th>Version</th></tr><tr><td>QuTiP</td><td>3.2.0.dev-66bfaac</td></tr><tr><td>Numpy</td><td>1.10.1</td></tr><tr><td>SciPy</td><td>0.16.0</td></tr><tr><td>matplotlib</td><td>1.4.3</td></tr><tr><td>Cython</td><td>0.23.1</td></tr><tr><td>IPython</td><td>4.0.1</td></tr><tr><td>Python</td><td>3.4.3 |Continuum Analytics, Inc.| (default, Oct 19 2015, 21:52:17) \n",
        "[GCC 4.4.7 20120313 (Red Hat 4.4.7-1)]</td></tr><tr><td>Number of CPUs</td><td>4</td></tr><tr><td>OS</td><td>posix [linux]</td></tr><tr><td colspan='2'>Thu Dec 17 14:04:49 2015 GMT</td></tr></table>"
       ],
       "metadata": {},
       "output_type": "pyout",
       "prompt_number": 12,
       "text": [
        "<IPython.core.display.HTML object>"
       ]
      }
     ],
     "prompt_number": 12
    },
    {
     "cell_type": "heading",
     "level": 3,
     "metadata": {},
     "source": [
      "References"
     ]
    },
    {
     "cell_type": "markdown",
     "metadata": {},
     "source": [
      "[1] Doria, P., Calarco, T. & Montangero, S.: Optimal Control Technique for Many-Body Quantum Dynamics. Phys. Rev. Lett. 106, 1\u20134 (2011).\n",
      "\n",
      "[2] Caneva, T., Calarco, T. & Montangero, S.: Chopped random-basis quantum optimization. Phys. Rev. A - At. Mol. Opt. Phys. 84, (2011)."
     ]
    },
    {
     "cell_type": "code",
     "collapsed": false,
     "input": [],
     "language": "python",
     "metadata": {},
     "outputs": [],
     "prompt_number": null
    }
   ],
   "metadata": {}
  }
 ]
}