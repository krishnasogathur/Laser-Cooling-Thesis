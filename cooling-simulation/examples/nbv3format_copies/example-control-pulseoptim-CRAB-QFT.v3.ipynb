{
 "metadata": {
  "kernelspec": {
   "display_name": "Python 3",
   "language": "python",
   "name": "python3"
  },
  "language_info": {
   "codemirror_mode": {
    "name": "ipython",
    "version": 3
   },
   "file_extension": ".py",
   "mimetype": "text/x-python",
   "name": "python",
   "nbconvert_exporter": "python",
   "pygments_lexer": "ipython3",
   "version": "3.4.3"
  },
  "name": ""
 },
 "nbformat": 3,
 "nbformat_minor": 0,
 "worksheets": [
  {
   "cells": [
    {
     "cell_type": "heading",
     "level": 1,
     "metadata": {},
     "source": [
      "Calculation of control fields for QFT gate on two qubits using the CRAB algorithm"
     ]
    },
    {
     "cell_type": "markdown",
     "metadata": {},
     "source": [
      "Alexander Pitchford (agp1@aber.ac.uk)"
     ]
    },
    {
     "cell_type": "raw",
     "metadata": {},
     "source": [
      "Example to demonstrate using the CRAB [1][2] algorithm in the control library \n",
      "to determine control pulses using the ctrlpulseoptim.create_pulse_optimizer function to \n",
      "generate an Optimizer object, through which the configuration can be\n",
      "manipulated before running the optmisation algorithm. In this case it is\n",
      "demonstrated by modifying the CRAB pulse parameters to show how pulse constraints\n",
      "for controls can be applied.\n",
      "\n",
      "The system in this example is two qubits in constant fields in x, y and z\n",
      "with a variable independant controls fields in x and y acting on each qubit\n",
      "The target evolution is the QFT gate. The user can experiment with the\n",
      "different:\n",
      "    phase options - phase_option = SU or PSU\n",
      "    propagtor computer type prop_type = DIAG or FRECHET\n",
      "    fidelity measures - fid_type = UNIT or TRACEDIFF\n",
      "\n",
      "The user can experiment with the timeslicing, by means of changing the\n",
      "number of timeslots and/or total time for the evolution.\n",
      "Different guess and ramping pulse parameters can be tried.\n",
      "The initial and final pulses are displayed in a plot"
     ]
    },
    {
     "cell_type": "code",
     "collapsed": false,
     "input": [
      "%matplotlib inline\n",
      "import numpy as np\n",
      "import matplotlib.pyplot as plt\n",
      "import datetime"
     ],
     "language": "python",
     "metadata": {},
     "outputs": [],
     "prompt_number": 1
    },
    {
     "cell_type": "code",
     "collapsed": false,
     "input": [
      "from qutip import Qobj, identity, sigmax, sigmay, sigmaz, tensor\n",
      "from qutip.qip.algorithms import qft\n",
      "import qutip.logging_utils as logging\n",
      "logger = logging.get_logger()\n",
      "#Set this to None or logging.WARN for 'quiet' execution\n",
      "log_level = logging.INFO\n",
      "#QuTiP control modules\n",
      "import qutip.control.pulseoptim as cpo\n",
      "import qutip.control.pulsegen as pulsegen\n",
      "\n",
      "example_name = 'QFT'\n"
     ],
     "language": "python",
     "metadata": {},
     "outputs": [],
     "prompt_number": 2
    },
    {
     "cell_type": "heading",
     "level": 3,
     "metadata": {},
     "source": [
      "Defining the physics"
     ]
    },
    {
     "cell_type": "code",
     "collapsed": false,
     "input": [
      "Sx = sigmax()\n",
      "Sy = sigmay()\n",
      "Sz = sigmaz()\n",
      "Si = 0.5*identity(2)\n",
      "\n",
      "# Drift Hamiltonian\n",
      "H_d = 0.5*(tensor(Sx, Sx) + tensor(Sy, Sy) + tensor(Sz, Sz))\n",
      "# The (four) control Hamiltonians\n",
      "H_c = [tensor(Sx, Si), tensor(Sy, Si), tensor(Si, Sx), tensor(Si, Sy)]\n",
      "n_ctrls = len(H_c)\n",
      "# start point for the gate evolution\n",
      "U_0 = identity(4)\n",
      "# Target for the gate evolution - Quantum Fourier Transform gate\n",
      "U_targ = qft.qft(2)"
     ],
     "language": "python",
     "metadata": {},
     "outputs": [],
     "prompt_number": 3
    },
    {
     "cell_type": "heading",
     "level": 3,
     "metadata": {},
     "source": [
      "Defining the time evolution parameters"
     ]
    },
    {
     "cell_type": "code",
     "collapsed": false,
     "input": [
      "# Number of time slots\n",
      "n_ts = 200\n",
      "# Time allowed for the evolution\n",
      "evo_time = 10"
     ],
     "language": "python",
     "metadata": {},
     "outputs": [],
     "prompt_number": 4
    },
    {
     "cell_type": "heading",
     "level": 3,
     "metadata": {},
     "source": [
      "Set the conditions which will cause the pulse optimisation to terminate"
     ]
    },
    {
     "cell_type": "code",
     "collapsed": false,
     "input": [
      "# Fidelity error target\n",
      "fid_err_targ = 1e-3\n",
      "# Maximum iterations for the optisation algorithm\n",
      "max_iter = 20000\n",
      "# Maximum (elapsed) time allowed in seconds\n",
      "max_wall_time = 300"
     ],
     "language": "python",
     "metadata": {},
     "outputs": [],
     "prompt_number": 5
    },
    {
     "cell_type": "heading",
     "level": 3,
     "metadata": {},
     "source": [
      "Give an extension for output files"
     ]
    },
    {
     "cell_type": "code",
     "collapsed": false,
     "input": [
      "#Set to None to suppress output files\n",
      "f_ext = \"{}_n_ts{}.txt\".format(example_name, n_ts)"
     ],
     "language": "python",
     "metadata": {},
     "outputs": [],
     "prompt_number": 6
    },
    {
     "cell_type": "heading",
     "level": 3,
     "metadata": {},
     "source": [
      "Create the optimiser objects"
     ]
    },
    {
     "cell_type": "code",
     "collapsed": false,
     "input": [
      "optim = cpo.create_pulse_optimizer(H_d, H_c, U_0, U_targ, n_ts, evo_time, \n",
      "                fid_err_targ=fid_err_targ, \n",
      "                max_iter=max_iter, max_wall_time=max_wall_time,\n",
      "                alg='CRAB', \n",
      "                dyn_type='UNIT', \n",
      "                prop_type='DIAG', \n",
      "                fid_type='UNIT', fid_params={'phase_option':'PSU'}, \n",
      "                log_level=log_level, gen_stats=True)\n",
      "                "
     ],
     "language": "python",
     "metadata": {},
     "outputs": [],
     "prompt_number": 7
    },
    {
     "cell_type": "heading",
     "level": 3,
     "metadata": {},
     "source": [
      "Configure the pulses for each of the controls"
     ]
    },
    {
     "cell_type": "code",
     "collapsed": false,
     "input": [
      "dyn = optim.dynamics\n",
      "\n",
      "# Control 1\n",
      "crab_pgen = optim.pulse_generator[0]\n",
      "# Start from a ramped pulse\n",
      "guess_pgen = pulsegen.create_pulse_gen('LIN', dyn=dyn, \n",
      "                                           pulse_params={'scaling':3.0})\n",
      "crab_pgen.guess_pulse = guess_pgen.gen_pulse()\n",
      "crab_pgen.scaling = 0.0\n",
      "# Add some higher frequency components\n",
      "crab_pgen.num_coeffs = 5\n",
      "\n",
      "# Control 2\n",
      "crab_pgen = optim.pulse_generator[1]\n",
      "# Apply a ramping pulse that will force the start and end to zero\n",
      "ramp_pgen = pulsegen.create_pulse_gen('GAUSSIAN_EDGE', dyn=dyn, \n",
      "                                    pulse_params={'decay_time':evo_time/50.0})\n",
      "crab_pgen.ramping_pulse = ramp_pgen.gen_pulse()\n",
      "\n",
      "# Control 3\n",
      "crab_pgen = optim.pulse_generator[2]\n",
      "# Add bounds\n",
      "crab_pgen.scaling = 0.5\n",
      "crab_pgen.lbound = -2.0\n",
      "crab_pgen.ubound = 2.0\n",
      "\n",
      "\n",
      "# Control 4\n",
      "crab_pgen = optim.pulse_generator[3]\n",
      "# Start from a triangular pulse with small signal\n",
      "guess_pgen = pulsegen.PulseGenTriangle(dyn=dyn)\n",
      "guess_pgen.num_waves = 1\n",
      "guess_pgen.scaling = 2.0\n",
      "guess_pgen.offset = 2.0\n",
      "crab_pgen.guess_pulse = guess_pgen.gen_pulse()\n",
      "crab_pgen.scaling = 0.1\n",
      "\n",
      "init_amps = np.zeros([n_ts, n_ctrls])\n",
      "for j in range(dyn.num_ctrls):\n",
      "    pgen = optim.pulse_generator[j]\n",
      "    pgen.init_pulse()\n",
      "    init_amps[:, j] = pgen.gen_pulse()\n",
      "\n",
      "dyn.initialize_controls(init_amps)"
     ],
     "language": "python",
     "metadata": {},
     "outputs": [
      {
       "output_type": "stream",
       "stream": "stderr",
       "text": [
        "INFO:qutip.control.pulsegen:The number of CRAB coefficients per basis function has been estimated as 3, which means a total of 6 optimisation variables for this pulse. Based on the dimension (4) of the system\n",
        "INFO:qutip.control.pulsegen:The number of CRAB coefficients per basis function has been estimated as 3, which means a total of 6 optimisation variables for this pulse. Based on the dimension (4) of the system\n",
        "INFO:qutip.control.pulsegen:The number of CRAB coefficients per basis function has been estimated as 3, which means a total of 6 optimisation variables for this pulse. Based on the dimension (4) of the system\n",
        "INFO:qutip.control.dynamics:Internal operator data type choosen to be <class 'numpy.ndarray'>\n"
       ]
      }
     ],
     "prompt_number": 8
    },
    {
     "cell_type": "heading",
     "level": 3,
     "metadata": {},
     "source": [
      "Run the pulse optimisation"
     ]
    },
    {
     "cell_type": "code",
     "collapsed": false,
     "input": [
      "# Save initial amplitudes to a text file\n",
      "if f_ext is not None:\n",
      "    pulsefile = \"ctrl_amps_initial_\" + f_ext\n",
      "    dyn.save_amps(pulsefile)\n",
      "    print(\"Initial amplitudes output to file: \" + pulsefile)\n",
      "\n",
      "print(\"***********************************\")\n",
      "print(\"Starting pulse optimisation\")\n",
      "result = optim.run_optimization()\n",
      "\n",
      "# Save final amplitudes to a text file\n",
      "if f_ext is not None:\n",
      "    pulsefile = \"ctrl_amps_final_\" + f_ext\n",
      "    dyn.save_amps(pulsefile)\n",
      "    print(\"Final amplitudes output to file: \" + pulsefile)"
     ],
     "language": "python",
     "metadata": {},
     "outputs": [
      {
       "output_type": "stream",
       "stream": "stderr",
       "text": [
        "INFO:qutip.control.optimizer:Optimising pulse(s) using CRAB with 'fmin' (Nelder-Mead) method\n"
       ]
      },
      {
       "output_type": "stream",
       "stream": "stdout",
       "text": [
        "Initial amplitudes output to file: ctrl_amps_initial_QFT_n_ts200.txt\n",
        "***********************************\n",
        "Starting pulse optimisation\n",
        "Final amplitudes output to file: ctrl_amps_final_QFT_n_ts200.txt\n"
       ]
      }
     ],
     "prompt_number": 9
    },
    {
     "cell_type": "heading",
     "level": 3,
     "metadata": {},
     "source": [
      "Report the results"
     ]
    },
    {
     "cell_type": "code",
     "collapsed": false,
     "input": [
      "result.stats.report()\n",
      "print(\"Final evolution\\n{}\\n\".format(result.evo_full_final))\n",
      "print(\"********* Summary *****************\")\n",
      "print(\"Initial fidelity error {}\".format(result.initial_fid_err))\n",
      "print(\"Final fidelity error {}\".format(result.fid_err))\n",
      "print(\"Terminated due to {}\".format(result.termination_reason))\n",
      "print(\"Number of iterations {}\".format(result.num_iter))\n",
      "print(\"Completed in {} HH:MM:SS.US\".format(\n",
      "        datetime.timedelta(seconds=result.wall_time)))"
     ],
     "language": "python",
     "metadata": {},
     "outputs": [
      {
       "output_type": "stream",
       "stream": "stdout",
       "text": [
        "\n",
        "------------------------------------\n",
        "---- Control optimisation stats ----\n",
        "**** Timings (HH:MM:SS.US) ****\n",
        "Total wall time elapsed during optimisation: 0:02:38.874389\n",
        "Wall time computing Hamiltonians: 0:00:10.319926 (6.50%)\n",
        "Wall time computing propagators: 0:02:23.410507 (90.27%)\n",
        "Wall time computing forward propagation: 0:00:01.334937 (0.84%)\n",
        "Wall time computing onward propagation: 0:00:01.315355 (0.83%)\n",
        "Wall time computing gradient: 0:00:00 (0.00%)\n",
        "\n",
        "**** Iterations and function calls ****\n",
        "Number of iterations: 5762\n",
        "Number of fidelity function calls: 6891\n",
        "Number of times fidelity is computed: 6891\n",
        "Number of gradient function calls: 0\n",
        "Number of times gradients are computed: 0\n",
        "Number of times timeslot evolution is recomputed: 6891\n",
        "\n",
        "**** Control amplitudes ****\n",
        "Number of control amplitude updates: 6890\n",
        "Mean number of updates per iteration: 1.1957653592502604\n",
        "Number of timeslot values changed: 1377994\n",
        "Mean number of timeslot changes per update: 199.99912917271408\n",
        "Number of amplitude values changed: 5488929\n",
        "Mean number of amplitude changes per update: 796.6515239477503\n",
        "------------------------------------\n",
        "Final evolution\n",
        "Quantum object: dims = [[4], [4]], shape = [4, 4], type = oper, isherm = False\n",
        "Qobj data =\n",
        "[[ 0.46727002+0.1910191j   0.47109818+0.20664124j  0.44784997+0.17140814j\n",
        "   0.45285987+0.21331649j]\n",
        " [ 0.47686815+0.20306013j -0.18512050+0.44645624j -0.46669064-0.1950084j\n",
        "   0.16480398-0.46344557j]\n",
        " [ 0.45798935+0.19069035j -0.43552764-0.19766295j  0.49229439+0.16374036j\n",
        "  -0.46781698-0.19264106j]\n",
        " [ 0.42857894+0.21618699j  0.18799972-0.48751847j -0.46115896-0.17996936j\n",
        "  -0.19915109+0.46026884j]]\n",
        "\n",
        "********* Summary *****************\n",
        "Initial fidelity error 0.5697873244556095\n",
        "Final fidelity error 0.0009939092163465668\n",
        "Terminated due to Goal achieved\n",
        "Number of iterations 5762\n",
        "Completed in 0:02:38.874389 HH:MM:SS.US\n"
       ]
      }
     ],
     "prompt_number": 10
    },
    {
     "cell_type": "heading",
     "level": 3,
     "metadata": {},
     "source": [
      "Plot the initial and final amplitudes"
     ]
    },
    {
     "cell_type": "code",
     "collapsed": false,
     "input": [
      "fig1 = plt.figure()\n",
      "ax1 = fig1.add_subplot(2, 1, 1)\n",
      "ax1.set_title(\"Initial Control amps\")\n",
      "ax1.set_xlabel(\"Time\")\n",
      "ax1.set_ylabel(\"Control amplitude\")\n",
      "for j in range(n_ctrls):\n",
      "    ax1.step(result.time, \n",
      "             np.hstack((result.initial_amps[:, j], result.initial_amps[-1, j])), \n",
      "             where='post')\n",
      "ax2 = fig1.add_subplot(2, 1, 2)\n",
      "ax2.set_title(\"Optimised Control Amplitudes\")\n",
      "ax2.set_xlabel(\"Time\")\n",
      "ax2.set_ylabel(\"Control amplitude\")\n",
      "for j in range(n_ctrls):\n",
      "    ax2.step(result.time, \n",
      "             np.hstack((result.final_amps[:, j], result.final_amps[-1, j])), \n",
      "             where='post', label='u{}'.format(j))\n",
      "ax2.legend(loc=8, ncol=n_ctrls)\n",
      "\n",
      "plt.show()"
     ],
     "language": "python",
     "metadata": {},
     "outputs": [
      {
       "metadata": {},
       "output_type": "display_data",
       "png": "[encoded data removed]",
       "text": [
        "<matplotlib.figure.Figure at 0x7fa1a4d71668>"
       ]
      }
     ],
     "prompt_number": 11
    },
    {
     "cell_type": "heading",
     "level": 3,
     "metadata": {},
     "source": [
      "Versions"
     ]
    },
    {
     "cell_type": "code",
     "collapsed": false,
     "input": [
      "from qutip.ipynbtools import version_table\n",
      "\n",
      "version_table()"
     ],
     "language": "python",
     "metadata": {},
     "outputs": [
      {
       "html": [
        "<table><tr><th>Software</th><th>Version</th></tr><tr><td>QuTiP</td><td>3.2.0.dev-66bfaac</td></tr><tr><td>Numpy</td><td>1.10.1</td></tr><tr><td>SciPy</td><td>0.16.0</td></tr><tr><td>matplotlib</td><td>1.4.3</td></tr><tr><td>Cython</td><td>0.23.1</td></tr><tr><td>IPython</td><td>4.0.1</td></tr><tr><td>Python</td><td>3.4.3 |Continuum Analytics, Inc.| (default, Oct 19 2015, 21:52:17) \n",
        "[GCC 4.4.7 20120313 (Red Hat 4.4.7-1)]</td></tr><tr><td>Number of CPUs</td><td>4</td></tr><tr><td>OS</td><td>posix [linux]</td></tr><tr><td colspan='2'>Thu Dec 17 14:15:06 2015 GMT</td></tr></table>"
       ],
       "metadata": {},
       "output_type": "pyout",
       "prompt_number": 12,
       "text": [
        "<IPython.core.display.HTML object>"
       ]
      }
     ],
     "prompt_number": 12
    },
    {
     "cell_type": "raw",
     "metadata": {},
     "source": [
      "References:\n",
      "\n",
      "3.  Doria, P., Calarco, T. & Montangero, S. \n",
      "    Optimal Control Technique for Many-Body Quantum Dynamics. \n",
      "    Phys. Rev. Lett. 106, 1\u20134 (2011).\n",
      "\n",
      "4.  Caneva, T., Calarco, T. & Montangero, S. \n",
      "    Chopped random-basis quantum optimization. \n",
      "    Phys. Rev. A - At. Mol. Opt. Phys. 84, (2011)."
     ]
    }
   ],
   "metadata": {}
  }
 ]
}