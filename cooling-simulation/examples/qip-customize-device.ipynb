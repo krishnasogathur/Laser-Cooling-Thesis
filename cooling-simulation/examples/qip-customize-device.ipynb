{
 "cells": [
  {
   "cell_type": "markdown",
   "metadata": {},
   "source": [
    "# Custimize the pulse-level simulation\n",
    "Author: Boxi Li (etamin1201@gmail.com)\n",
    "\n",
    "In this note, we demonstrate examples of customizing  the pulse-level simulator in qutip-qip.The notebook is divided into three parts:\n",
    "1. Customizing the Hamiltonian model\n",
    "2. Customizing the compiler\n",
    "3. Customizing the noise"
   ]
  },
  {
   "cell_type": "code",
   "execution_count": 1,
   "metadata": {},
   "outputs": [],
   "source": [
    "# imports\n",
    "import numpy as np\n",
    "\n",
    "from qutip import sigmax, sigmay, sigmaz, tensor, fidelity\n",
    "from qutip import basis\n",
    "\n",
    "from qutip_qip.pulse import Pulse\n",
    "from qutip_qip.device import ModelProcessor, Model\n",
    "from qutip_qip.circuit import QubitCircuit\n",
    "from qutip_qip.compiler import GateCompiler, Instruction, SpinChainCompiler\n",
    "from qutip_qip.noise import Noise\n",
    "\n",
    "import matplotlib.pyplot as plt"
   ]
  },
  {
   "cell_type": "markdown",
   "metadata": {},
   "source": [
    "## Customizing the Hamiltonian model"
   ]
  },
  {
   "cell_type": "markdown",
   "metadata": {},
   "source": [
    "We start from the customization of the Hamiltonian model, which is represented by a class instance of `Model`.A minimal requirement for a processor model is specifying the hardware parameters and the control Hamiltonians of the physical system. The former will be provided to the compiler for computing the pulse strength. The latter will be accessed by the `Processor` class via the method `get_control`."
   ]
  },
  {
   "cell_type": "code",
   "execution_count": 2,
   "metadata": {},
   "outputs": [],
   "source": [
    "class MyModel(Model):\n",
    "    def __init__(self, num_qubits, dims=None, h_x=1., h_z=1., g=0.1, t1=None, t2=None):\n",
    "        super().__init__(num_qubits, dims=dims)\n",
    "        self.params = {\n",
    "            \"sz\": [h_z] * num_qubits,\n",
    "            \"sx\": [h_x] * num_qubits,\n",
    "            \"g\": [g] * num_qubits,\n",
    "            \"t1\": t1, #  Will be accessed by the noise module.\n",
    "            \"t2\": t2,\n",
    "        }\n",
    "        # Control Hamiltonians\n",
    "        _two_qubit_operator = tensor([sigmax(), sigmax()]) + tensor([sigmay(), sigmay()])\n",
    "        self.controls = {}\n",
    "        self.controls.update(\n",
    "            {f\"sx{n}\": (2 * np.pi * sigmax(), n) for n in range(num_qubits)})\n",
    "        self.controls.update(\n",
    "            {f\"sz{n}\": (2 * np.pi * sigmaz(), n) for n in range(num_qubits)}),\n",
    "        self.controls.update(\n",
    "            {f\"g{n}\": (2 * np.pi * _two_qubit_operator, [n, n+1]) for n in range(num_qubits - 1)}),\n",
    "        \n",
    "    def get_control(self, label):\n",
    "        \"\"\"\n",
    "        The mandatory method. It Returns a pair of Qobj and int representing the control Hamiltonian and the target qubit.\n",
    "        \"\"\"\n",
    "        return self.controls[label]\n",
    "\n",
    "    def get_control_labels(self):\n",
    "        \"\"\"\n",
    "        It returns all the labels of availble controls.\n",
    "        \"\"\"\n",
    "        return self.controls.keys()\n",
    "\n",
    "    def get_control_latex(self):\n",
    "        \"\"\"\n",
    "        The function returns a list of dictionaries, corresponding to the latex representation of each control.\n",
    "        This is used in the plotting. Controls in each dictionary will be plotted in a different colour.\n",
    "        See examples later in this notebook.\n",
    "        \"\"\"\n",
    "        return ([\n",
    "            {f\"sx{n}\": r\"$\\sigma_x^%d$\" % n for n in range(num_qubits)},\n",
    "            {f\"sy{n}\": r\"$\\sigma_z^%d$\" % n for n in range(num_qubits)},\n",
    "            {f\"g{n}\": r\"$g_{%d}$\" % (n) for n in range(num_qubits - 1)}])\n"
   ]
  },
  {
   "cell_type": "markdown",
   "metadata": {},
   "source": [
    "This is a quantum system of $n$ qubits arranged in a chain (same as the [spin chain model](https://qutip-qip.readthedocs.io/en/stable/apidoc/qutip_qip.device.html?highlight=spinchain#qutip_qip.device.SpinChainModel)), where we have control over three Hamiltonian: $\\sigma_x$, $\\sigma_z$ on each qubit, and neighbouring-qubits interaction $\\sigma_x\\sigma_x+\\sigma_y\\sigma_y$:\n",
    "\n",
    "$$\n",
    "H = \\sum_{j=0}^{n-1} c_{1,j}(t) \\cdot h_x^{j}\\sigma_x^{j} + \\sum_{j=0}^{n-1} c_{2,j}(t) \\cdot h_z^{j}\\sigma_z^{j}\n",
    "+ \\sum_{j=0}^{n-2} c_{3,j}(t)\\cdot g^{j}(\\sigma_x^{j}\\sigma_x^{j+1}+\\sigma_y^{j}\\sigma_y^{j+1})\n",
    "$$\n",
    "\n",
    "where $h_x$, $h_z$, $g$ are the hardware parameters and $c_{i,j}(t)$ are the time-dependent control pulse coefficients. This Hamiltonian is the same as the one for the linear spin chain model in QuTiP. In general, the hardware parameters will not be identical for each qubit, but here, for simplicity, we represent them by three numbers: $h_x$, $h_z$ and $g$.\n",
    "\n",
    "To simulate a custom quantum device, we provide the model to `ModelProcessor`, which is used for simulators based on a concrete physics model (in contrast to optimal control for arbitrary Hamiltonians). In this way, we inherit the necessary methods from `ModelProcessor` used in the simulation. "
   ]
  },
  {
   "cell_type": "code",
   "execution_count": 3,
   "metadata": {},
   "outputs": [],
   "source": [
    "num_qubits = 2\n",
    "processor = ModelProcessor(model=MyModel(num_qubits, h_x=1.0, h_z=1.0, g=0.1))"
   ]
  },
  {
   "cell_type": "markdown",
   "metadata": {},
   "source": [
    "In `set_up_ops`, we define the control Hamiltonians of the quantum system and use them to initialize the control pulses. We can get the map between the pulse labels and the pulse location with"
   ]
  },
  {
   "cell_type": "code",
   "execution_count": 4,
   "metadata": {},
   "outputs": [
    {
     "data": {
      "text/plain": [
       "dict_keys(['sx0', 'sx1', 'sz0', 'sz1', 'g0'])"
      ]
     },
     "execution_count": 4,
     "metadata": {},
     "output_type": "execute_result"
    }
   ],
   "source": [
    "processor.get_control_labels()"
   ]
  },
  {
   "cell_type": "markdown",
   "metadata": {},
   "source": [
    "Or access a control Hamiltonian by its label:"
   ]
  },
  {
   "cell_type": "code",
   "execution_count": 5,
   "metadata": {},
   "outputs": [
    {
     "data": {
      "text/plain": [
       "(Quantum object: dims = [[2], [2]], shape = (2, 2), type = oper, isherm = True\n",
       " Qobj data =\n",
       " [[0.         6.28318531]\n",
       "  [6.28318531 0.        ]],\n",
       " 0)"
      ]
     },
     "execution_count": 5,
     "metadata": {},
     "output_type": "execute_result"
    }
   ],
   "source": [
    "sx0 = processor.get_control(\"sx0\")\n",
    "sx0"
   ]
  },
  {
   "cell_type": "markdown",
   "metadata": {},
   "source": [
    "In qutip-qip 0.1 version, the model is directly defined in the `Processor`. This can still be achieved in version 0.2 as shown in the following cell. This is equivalent to the definition above. An instance of `Model` is automatically created and saved in the processor."
   ]
  },
  {
   "cell_type": "code",
   "execution_count": 6,
   "metadata": {},
   "outputs": [],
   "source": [
    "class MyProcessor(ModelProcessor):\n",
    "    \"\"\"\n",
    "    Custom processor built using ModelProcessor as the base class.\n",
    "    This custom processor will inherit all the methods of the base class\n",
    "    such as setting up of the T1 and T2 decoherence rates in the simulations.\n",
    "\n",
    "    In addition, it is possible to write your own functions to add control pulses.\n",
    "\n",
    "    Args:\n",
    "        num_qubits (int): Number of qubits in the processor.\n",
    "        t1, t2 (float or list): The T1 and T2 decoherence rates for the\n",
    "    \"\"\"\n",
    "    def __init__(self, num_qubits, h_x, h_z, g, t1=None, t2=None):\n",
    "        super(MyProcessor, self).__init__(num_qubits, t1=t1, t2=t2)  # call the parent class initializer\n",
    "        self.pulse_mode = \"discrete\"  # The control pulse is discrete or continous.\n",
    "        self.model.params.update({\"sz\": [h_z] * num_qubits,  # can also be different for each qubit\n",
    "                       \"sx\": [h_x] * num_qubits,\n",
    "                       \"g\": [g] * num_qubits})\n",
    "        self.model.dims = [2] * num_qubits  # The dimension of each controllable quantum system, here num_qubits qubits.\n",
    "        self.num_qubits = num_qubits\n",
    "        self.set_up_ops()  # set up the available Hamiltonians\n",
    "\n",
    "    def set_up_ops(self):\n",
    "        \"\"\"\n",
    "        Sets up the control operators.\n",
    "        \"\"\"\n",
    "        for m in range(self.num_qubits):\n",
    "            # sigmax pulse on m-th qubit with the corresponding pulse \n",
    "            self.add_control(2 * np.pi * sigmax(), m, label=\"sx\" + str(m))\n",
    "        # sz\n",
    "        for m in range(self.num_qubits):\n",
    "            self.add_control(2 * np.pi * sigmaz(), m, label=\"sz\" + str(m))\n",
    "        # interaction operator\n",
    "        operator = tensor([sigmax(), sigmax()]) + tensor([sigmay(), sigmay()])\n",
    "        for m in range(self.num_qubits - 1):\n",
    "            self.add_control(2 * np.pi * operator, [m, m+1], label=\"g\" + str(m))"
   ]
  },
  {
   "cell_type": "markdown",
   "metadata": {},
   "source": [
    "### Load and compile the circuit"
   ]
  },
  {
   "cell_type": "markdown",
   "metadata": {},
   "source": [
    "\n",
    "We first define a quantum circuit. Here we use a two-qubit circuit with two X  gates. Acting on a $|00\\rangle$ state, this results in a $|11\\rangle$ state."
   ]
  },
  {
   "cell_type": "code",
   "execution_count": 7,
   "metadata": {},
   "outputs": [
    {
     "data": {
      "image/png": "[encoded data removed]",
      "text/plain": [
       "<qutip_qip.circuit.QubitCircuit at 0x22d94eaab20>"
      ]
     },
     "execution_count": 7,
     "metadata": {},
     "output_type": "execute_result"
    }
   ],
   "source": [
    "circuit = QubitCircuit(num_qubits)\n",
    "circuit.add_gate(\"X\", targets=1)\n",
    "circuit.add_gate(\"X\", targets=0)\n",
    "circuit"
   ]
  },
  {
   "cell_type": "markdown",
   "metadata": {},
   "source": [
    "For circuit plotting, see [this notebook](quantum-gates.ipynb)."
   ]
  },
  {
   "cell_type": "markdown",
   "metadata": {},
   "source": [
    "To convert a quantum circuit into the Hamiltonian model, we need a compiler. The custom definition of a compiler will be discussed in details in the next section. Because we used the Hamiltonian model of the spin chain, we here simply \"borrow\" the compiler of the spin chain model."
   ]
  },
  {
   "cell_type": "code",
   "execution_count": 8,
   "metadata": {},
   "outputs": [
    {
     "data": {
      "text/latex": [
       "Quantum object: dims = [[2, 2], [1, 1]], shape = (4, 1), type = ket\\begin{equation*}\\left(\\begin{array}{*{11}c}3.450\\times10^{-07}\\\\1.624\\times10^{-08}j\\\\1.624\\times10^{-08}j\\\\-1.000\\\\\\end{array}\\right)\\end{equation*}"
      ],
      "text/plain": [
       "Quantum object: dims = [[2, 2], [1, 1]], shape = (4, 1), type = ket\n",
       "Qobj data =\n",
       "[[ 3.44966416e-07+0.00000000e+00j]\n",
       " [ 0.00000000e+00+1.62381269e-08j]\n",
       " [ 0.00000000e+00+1.62381269e-08j]\n",
       " [-1.00000000e+00+0.00000000e+00j]]"
      ]
     },
     "execution_count": 8,
     "metadata": {},
     "output_type": "execute_result"
    }
   ],
   "source": [
    "processor = ModelProcessor(model=MyModel(num_qubits, h_x=1.0, h_z=1.0, g=0.1))\n",
    "processor.native_gates = [\"ISWAP\", \"RX\", \"RZ\"]\n",
    "\n",
    "# processor.num_qubits, processor.params access directly the information in the model.\n",
    "compiler = SpinChainCompiler(processor.num_qubits, processor.params)\n",
    "\n",
    "processor.load_circuit(circuit, compiler=compiler)\n",
    "result = processor.run_state(init_state = basis([2,2], [0,0]))\n",
    "result.states[-1]"
   ]
  },
  {
   "cell_type": "markdown",
   "metadata": {},
   "source": [
    "The compiled pulse coefficients are now saved in the processor and can be accessed by:"
   ]
  },
  {
   "cell_type": "code",
   "execution_count": 9,
   "metadata": {},
   "outputs": [
    {
     "name": "stdout",
     "output_type": "stream",
     "text": [
      "[1.]\n",
      "[0.   0.25]\n"
     ]
    }
   ],
   "source": [
    "sx1_pulse = processor.find_pulse(\"sx1\")\n",
    "print(sx1_pulse.coeff)\n",
    "print(sx1_pulse.tlist)"
   ]
  },
  {
   "cell_type": "markdown",
   "metadata": {},
   "source": [
    "This is a rectangular pulse that starts from time 0 and ends at time 0.25.\n",
    "\n",
    "#### Note\n",
    "\n",
    "For discrete pulse, the time sequence is one element shorter than the pulse coefficient because we need to specify the start and the end of the pulse. If two sequences are of the same length, the last element of `coeff` will be neglected. Later, we will see continuous pulse where `coeff` and `tlist` have the same length.\n",
    "\n",
    "To give an intuitive illustration of the control pulses, we give each pulse a latex label by defining a method `get_operators_labels` and then plot the compiled pulses."
   ]
  },
  {
   "cell_type": "code",
   "execution_count": 10,
   "metadata": {},
   "outputs": [
    {
     "data": {
      "image/png": "[encoded data removed]",
      "text/plain": [
       "<Figure size 864x432 with 5 Axes>"
      ]
     },
     "metadata": {},
     "output_type": "display_data"
    }
   ],
   "source": [
    "processor.plot_pulses()\n",
    "plt.show()"
   ]
  },
  {
   "cell_type": "markdown",
   "metadata": {},
   "source": [
    "## Customizing the compiler\n",
    "\n",
    "How the quantum gates are implemented on hardware varies on different quantum systems. Even on the same physical platform, different implementation will yield different performance. The simplest way of implementation is to define a rectangular pulse like the one above. However, in reality, the control signal will have a continuous shape. In the following, we show how to customize the compiler with a gaussian pulse.\n",
    "\n",
    "A typical gate compiler function looks like the one in the following cell, with the form ``XX_compiler(self, gate, args)``. It takes two arguments, `gate` and `args`: `gate` is the quantum gate to be compiled and `args` is a dictionary for additional parameters, for instance, parameters we defined in `Processor.params`.\n",
    "\n",
    "For each gate, the function returns the input gate, the time sequence and the pulse coefficients in an `Instruction` object.\n",
    "\n",
    "Below is an example of a rectangular pulse."
   ]
  },
  {
   "cell_type": "code",
   "execution_count": 11,
   "metadata": {},
   "outputs": [],
   "source": [
    "def rz_compiler(gate, args):\n",
    "    \"\"\"\n",
    "    Compiles the RZ gate to an instruction for a pulse.\n",
    "\n",
    "    Args:\n",
    "        gate (qutip_qip.circuit.Gate): A qutip Gate object.\n",
    "        args:(dict): A dictionary for compilation arguments e.g. hardware parameters.\n",
    "\n",
    "    Returns:\n",
    "        Instruction (qutip_qip.compiler.instruction.Instruction): An instruction to implement\n",
    "                                                                  a gate containing the control\n",
    "                                                                  pulses.\n",
    "    \"\"\"\n",
    "    tlist = np.array([1.])\n",
    "    coeff = np.array([0., 0.25])\n",
    "    # instruction is an object that includes the pulse coefficient and time sequence\n",
    "    pulse_info = [(\"sz0\", coeff)]\n",
    "    return [Instruction(gate, tlist, pulse_info)]"
   ]
  },
  {
   "cell_type": "markdown",
   "metadata": {},
   "source": [
    "Now we replace it with a continuous pulse. In particular, we define a `single_qubit_compiler` method. For RX and RY gate, it reads the maximal driving strength from the parameters and computes the corresponding time sequence and pulse amplitude.\n",
    "\n",
    "For simplicity, we make use of the [`generate_pulse_shape` method](https://qutip-qip.readthedocs.io/en/stable/apidoc/qutip_qip.compiler.html?highlight=generate_pulse_shape#qutip_qip.compiler.GateCompiler.generate_pulse_shape), which is defined in the parent class `GateCompiler` and is available  in all subclasses."
   ]
  },
  {
   "cell_type": "code",
   "execution_count": 12,
   "metadata": {},
   "outputs": [],
   "source": [
    "class MyCompiler(GateCompiler):  # compiler class\n",
    "    def __init__(self, num_qubits, params):\n",
    "        super(MyCompiler, self).__init__(num_qubits, params=params)\n",
    "        # pass our compiler function as a compiler for X gate.\n",
    "        self.gate_compiler[\"X\"] = self.single_qubit_compiler\n",
    "        self.gate_compiler[\"Y\"] = self.single_qubit_compiler\n",
    "        self.args.update({\"params\": params})\n",
    "\n",
    "    def single_qubit_compiler(self, gate, args):\n",
    "        \"\"\"\n",
    "        Compiler for the X and Y gate.\n",
    "        \"\"\"\n",
    "        targets = gate.targets\n",
    "        if gate.name == \"Z\":\n",
    "            pulse_prefix = \"sz\"\n",
    "            pulse_strength = args[\"params\"][\"sz\"][targets[0]]\n",
    "        elif gate.name == \"X\":\n",
    "            pulse_prefix = \"sx\"\n",
    "            pulse_strength = args[\"params\"][\"sx\"][targets[0]]\n",
    "        coeff, tlist= self.generate_pulse_shape(\n",
    "                \"hann\",  # Scipy Hann window\n",
    "                100,  # 100 sampling point\n",
    "                maximum=pulse_strength,\n",
    "                area= (np.pi/2) / (2*np.pi),  # 1/2 becuase we use sigmax as the operator instead of sigmax/2\n",
    "            )\n",
    "        sign = np.sign(pulse_strength)\n",
    "        pulse_info = [(pulse_prefix + str(targets[0]), coeff)]\n",
    "        return [Instruction(gate, tlist, pulse_info)]"
   ]
  },
  {
   "cell_type": "markdown",
   "metadata": {},
   "source": [
    "The attribute `pulse_mode` can be set to `\"discrete\"` or `\"continuous\"`. For continuous pulse, QuTiP solvers will use cubic spline interpolation. To minimize the boundary effect, it is recommended that the continuous pulse goes smoothly to 0 at the beginning and the end. We can see the advantage of the scheduling when we introduce a T1 decoherence and compare the fidelity of the final state."
   ]
  },
  {
   "cell_type": "code",
   "execution_count": 13,
   "metadata": {},
   "outputs": [
    {
     "name": "stdout",
     "output_type": "stream",
     "text": [
      "fidelity without scheduling: 0.9982136886930341\n"
     ]
    }
   ],
   "source": [
    "gauss_compiler = MyCompiler(processor.num_qubits, processor.params)\n",
    "processor = ModelProcessor(model=MyModel(num_qubits, h_x=1.0, h_z=1.0, g=0.1, t1=300))\n",
    "processor.pulse_mode = \"continuous\"\n",
    "tlist, coeff = processor.load_circuit(circuit, compiler=gauss_compiler, schedule_mode = False);\n",
    "print\n",
    "result = processor.run_state(init_state = basis([2,2], [0,0]))\n",
    "print(\"fidelity without scheduling:\", fidelity(result.states[-1], basis([2,2],[1,1])))"
   ]
  },
  {
   "cell_type": "code",
   "execution_count": 14,
   "metadata": {},
   "outputs": [
    {
     "data": {
      "image/png": "[encoded data removed]",
      "text/plain": [
       "<Figure size 864x432 with 2 Axes>"
      ]
     },
     "metadata": {},
     "output_type": "display_data"
    }
   ],
   "source": [
    "processor.plot_pulses(use_control_latex=False)\n",
    "plt.show()"
   ]
  },
  {
   "cell_type": "markdown",
   "metadata": {},
   "source": [
    "We can also turn on the scheduler to schedule the circuit for a shorter execution time."
   ]
  },
  {
   "cell_type": "code",
   "execution_count": 15,
   "metadata": {},
   "outputs": [
    {
     "name": "stdout",
     "output_type": "stream",
     "text": [
      "fidelity with scheduling: 0.9990450021201522\n"
     ]
    }
   ],
   "source": [
    "processor = ModelProcessor(model=MyModel(num_qubits, h_x=1.0, h_z=1.0, g=0.1, t1=300))\n",
    "tlist, coeffs = processor.load_circuit(circuit, schedule_mode = \"ASAP\", compiler=gauss_compiler);\n",
    "processor.pulse_mode = \"continuous\"\n",
    "result = processor.run_state(init_state = basis([2,2], [0,0]))\n",
    "print(\"fidelity with scheduling:\", fidelity(result.states[-1], basis([2,2],[1,1])))"
   ]
  },
  {
   "cell_type": "code",
   "execution_count": 16,
   "metadata": {},
   "outputs": [
    {
     "data": {
      "image/png": "[encoded data removed]",
      "text/plain": [
       "<Figure size 864x432 with 2 Axes>"
      ]
     },
     "metadata": {},
     "output_type": "display_data"
    }
   ],
   "source": [
    "processor.plot_pulses(use_control_latex=False)\n",
    "plt.show()"
   ]
  },
  {
   "cell_type": "markdown",
   "metadata": {},
   "source": [
    "### Define your own gate\n",
    "The number of predefined gates in qutip is limited, hence you are encouraged to define your own gate. Here we show how to define a parametrized gate. First, you will need to define a gate function:"
   ]
  },
  {
   "cell_type": "code",
   "execution_count": 17,
   "metadata": {},
   "outputs": [
    {
     "name": "stderr",
     "output_type": "stream",
     "text": [
      "E:\\Miniconda3\\envs\\notebook\\lib\\site-packages\\qutip_qip\\operations\\gates.py:463: UserWarning: Unknown gate MYGATE\n",
      "  warnings.warn(\"Unknown gate %s\" % name)\n"
     ]
    },
    {
     "data": {
      "image/png": "[encoded data removed]",
      "text/plain": [
       "<qutip_qip.circuit.QubitCircuit at 0x22d94e84640>"
      ]
     },
     "execution_count": 17,
     "metadata": {},
     "output_type": "execute_result"
    }
   ],
   "source": [
    "def mygate(theta = None):\n",
    "    # We just call the Molmer Sorensen gate as an example.\n",
    "    # If you do not want to run the circuit at the gate matrix level (circuit.run), no need for this function,\n",
    "    # otherwise you will need to define this python function that returns the Qobj of the gate.)\n",
    "    from qutip_qip.operations import molmer_sorensen\n",
    "    return molmer_sorensen(theta, 2, targets=[0, 1])\n",
    "circuit = QubitCircuit(2)\n",
    "circuit.user_gates = {\"MYGATE\": mygate}  # no need for this if you don't use circuit.run\n",
    "circuit.add_gate(\"X\", targets=1)\n",
    "circuit.add_gate(\"MYGATE\", targets=[0,1], arg_value=3*np.pi/2)\n",
    "circuit.add_gate(\"X\", targets=0)\n",
    "circuit\n",
    "# You may see a warning because MYGATE is not found in defined LaTeX gate names, just ignore it."
   ]
  },
  {
   "cell_type": "code",
   "execution_count": 18,
   "metadata": {},
   "outputs": [
    {
     "data": {
      "text/latex": [
       "Quantum object: dims = [[2, 2], [1, 1]], shape = (4, 1), type = ket\\begin{equation*}\\left(\\begin{array}{*{11}c}-0.707j\\\\0.0\\\\0.0\\\\-0.707\\\\\\end{array}\\right)\\end{equation*}"
      ],
      "text/plain": [
       "Quantum object: dims = [[2, 2], [1, 1]], shape = (4, 1), type = ket\n",
       "Qobj data =\n",
       "[[ 0.        -0.70710678j]\n",
       " [ 0.        +0.j        ]\n",
       " [ 0.        +0.j        ]\n",
       " [-0.70710678+0.j        ]]"
      ]
     },
     "execution_count": 18,
     "metadata": {},
     "output_type": "execute_result"
    }
   ],
   "source": [
    "circuit.run(basis([2,2],[0,0]))"
   ]
  },
  {
   "cell_type": "markdown",
   "metadata": {},
   "source": [
    "The next step is to define a compiler function for it. Since compiling a real MS gate is rather complicated, we here just use a dummy triangular pulse. The goal is to show how to get access to the parameter `theta` during the compiling."
   ]
  },
  {
   "cell_type": "code",
   "execution_count": 19,
   "metadata": {},
   "outputs": [],
   "source": [
    "def mygate_compiler(gate, args):\n",
    "    targets = gate.targets  # target qubit\n",
    "    parameters = args[\"params\"]\n",
    "    \n",
    "    theta = gate.arg_value\n",
    "    coeff1 = np.concatenate([np.linspace(0,10,50), np.linspace(10,0,50), [0]]) / 50\n",
    "    coeff2 = np.concatenate([np.linspace(0,10,50), np.linspace(10,0,50), [0]]) / 50\n",
    "    pulse_info = [(\"sx\" + str(targets[0]), theta * coeff1),\n",
    "                  (\"sx\" + str(targets[1]), theta * coeff2)\n",
    "                 ]  #  save the information in a tuple (pulse_name, coeff)\n",
    "    tlist = np.linspace(0, 1, len(coeff1))\n",
    "    return [Instruction(gate, tlist, pulse_info)]"
   ]
  },
  {
   "cell_type": "code",
   "execution_count": 20,
   "metadata": {},
   "outputs": [
    {
     "data": {
      "image/png": "[encoded data removed]",
      "text/plain": [
       "<Figure size 864x432 with 5 Axes>"
      ]
     },
     "metadata": {},
     "output_type": "display_data"
    }
   ],
   "source": [
    "gauss_compiler = MyCompiler(processor.num_qubits, processor.params)\n",
    "processor = ModelProcessor(model=MyModel(num_qubits, h_x=1.0, h_z=1.0, g=0.1, t1=300))\n",
    "gauss_compiler.gate_compiler[\"MYGATE\"] = mygate_compiler\n",
    "processor.pulse_mode = \"continuous\"\n",
    "tlist, coeff = processor.load_circuit(circuit, compiler=gauss_compiler)\n",
    "processor.plot_pulses()\n",
    "plt.show()"
   ]
  },
  {
   "cell_type": "markdown",
   "metadata": {},
   "source": [
    "## Customizing the noise\n",
    "Apart from pre-defined noise such as T1, T2 noise and random noise in the control pulse amplitude (see this [notebook](qip-noisy-device-simulator.ipynb), one can also define custom noise. Here we will see two examples of customizing noise, one systematic (pulse-independent) noise and one pulse-dependent noise. \n",
    "\n",
    "To understand how noise is processed, we briefly introduced the data structure of the simulation framework. The control elements are stored as a list of `Pulse` objects in the Processor. In each Pulse contains the idea pulse, the control noise part and the decoherence part. For systematic noise, it is saved under the `Pulse` representation labelled `\"system\"`, which represents the intrinsic dynamics of the quantum system. For pulse-dependent noise, we will add them to their corresponding control `Pulse`. \n",
    "\n",
    "The definition of noise is realized by a subclass of `UserNoise`, including two methods: \n",
    "- the initialization method containing the property of the noise, such as frequency or amplitude.\n",
    "- the method `get_noisy_dynamics` that takes all the control pulse `pulses`, a dummy `Pulse` object representing systematic noise and the dimension of the system (here two qubits `[2,2]`).\n"
   ]
  },
  {
   "cell_type": "code",
   "execution_count": 21,
   "metadata": {},
   "outputs": [],
   "source": [
    "class Extral_decay(Noise):\n",
    "    def __init__(self, arg):\n",
    "        self.arg = arg\n",
    "        pass\n",
    "\n",
    "    def get_noisy_dynamics(self, dims, pulses, systematic_noise):\n",
    "        pass"
   ]
  },
  {
   "cell_type": "markdown",
   "metadata": {},
   "source": [
    "### Systematic noise\n",
    "\n",
    "We first show an example of systematic noise. Here, we introduce a ZZ crosstalk noise between neighbouring qubits with a constant strength. It is done in three steps:\n",
    "\n",
    "- Define the noise class.\n",
    "- Initialize the noise object with given coupling strength.\n",
    "- Define the Processor as usual and add the noise to the processor.\n",
    "\n",
    "In the following example, we check the fidelity of the same circuit of two X gates, but now with this additional noise."
   ]
  },
  {
   "cell_type": "code",
   "execution_count": 22,
   "metadata": {},
   "outputs": [],
   "source": [
    "circuit = QubitCircuit(2)\n",
    "circuit.add_gate(\"X\", targets=1)\n",
    "circuit.add_gate(\"X\", targets=0)"
   ]
  },
  {
   "cell_type": "code",
   "execution_count": 23,
   "metadata": {},
   "outputs": [],
   "source": [
    "from qutip import sigmaz\n",
    "from qutip_qip.operations import expand_operator\n",
    "from qutip_qip.pulse import Pulse\n",
    "from qutip_qip.noise import Noise\n",
    "\n",
    "class ZZ_crosstalk(Noise):\n",
    "    def __init__(self, strength):\n",
    "        self.strength = strength\n",
    "\n",
    "    def get_noisy_dynamics(self, dims, pulses, systematic_noise):\n",
    "        zz_operator = tensor([sigmaz(), sigmaz()])\n",
    "        for i in range(len(dims)-1):\n",
    "            systematic_noise.add_control_noise(\n",
    "                self.strength * zz_operator, targets=[i,i+1], tlist=None, coeff=True)  # constant, always 1\n",
    "\n",
    "crosstalk_noise = ZZ_crosstalk(strength=1.0)"
   ]
  },
  {
   "cell_type": "code",
   "execution_count": 24,
   "metadata": {},
   "outputs": [
    {
     "name": "stdout",
     "output_type": "stream",
     "text": [
      "Final fidelity with ZZ crosstalk: 0.9899565784438967\n"
     ]
    }
   ],
   "source": [
    "processor = ModelProcessor(model=MyModel(num_qubits, h_x=1.0, h_z=1.0, g=0.1))\n",
    "processor.add_noise(crosstalk_noise)  # The noise is added to the processor\n",
    "gauss_compiler = MyCompiler(processor.num_qubits, processor.params)\n",
    "tlist, coeff = processor.load_circuit(circuit, compiler=gauss_compiler);\n",
    "\n",
    "result = processor.run_state(init_state = basis([2,2], [0,0]))\n",
    "print(\"Final fidelity with ZZ crosstalk:\", fidelity(result.states[-1],basis([2,2],[1,1])))"
   ]
  },
  {
   "cell_type": "markdown",
   "metadata": {},
   "source": [
    "### Pulse dependent noise\n",
    "In this second example, we demonstrate how to add an additional amplitude damping channel on the qubits. The amplitude of this decay is linearly dependent on the control pulse \"sx\", i.e. whenever the pulse \"sx\" is turned on, the decoherence is also turned on. The corresponding annihilation operator has a coefficient proportional to the control pulse amplitude. This noise can be added on top of the default T1, T2 noise."
   ]
  },
  {
   "cell_type": "code",
   "execution_count": 25,
   "metadata": {},
   "outputs": [],
   "source": [
    "from qutip_qip.pulse import Pulse\n",
    "class Extral_decay(Noise):\n",
    "    def __init__(self, ratio):\n",
    "        self.ratio = ratio\n",
    "\n",
    "    def get_noisy_dynamics(self, dims, pulses, systematic_noise):\n",
    "        from qutip import destroy\n",
    "        op = destroy(2)\n",
    "        for pulse in pulses:   # iterate for all pulses\n",
    "            if \"sx\" in pulse.label and pulse.coeff is not None:   # if it is a sigma-x pulse and is not empty\n",
    "                pulse.add_lindblad_noise(op, targets=pulse.targets, tlist=pulse.tlist, coeff=self.ratio * pulse.coeff)\n",
    "                # One can also use add_control_noise here to add addtional hamiltonian as noise (see next example).\n",
    "\n",
    "extral_decay = Extral_decay(0.3)"
   ]
  },
  {
   "cell_type": "code",
   "execution_count": 26,
   "metadata": {},
   "outputs": [
    {
     "name": "stdout",
     "output_type": "stream",
     "text": [
      "Final fidelity with pulse dependent decoherence: 0.9939250019133458\n"
     ]
    }
   ],
   "source": [
    "processor = ModelProcessor(model=MyModel(num_qubits, h_x=1.0, h_z=1.0, g=0.1))\n",
    "processor.add_noise(extral_decay)\n",
    "gauss_compiler = MyCompiler(processor.num_qubits, processor.params)\n",
    "tlist, coeff = processor.load_circuit(circuit, compiler=gauss_compiler);\n",
    "\n",
    "result = processor.run_state(init_state = basis([2,2], [0,0]))\n",
    "print(\"Final fidelity with pulse dependent decoherence:\", fidelity(result.states[-1],basis([2,2],[1,1])))"
   ]
  },
  {
   "cell_type": "code",
   "execution_count": 27,
   "metadata": {},
   "outputs": [
    {
     "name": "stdout",
     "output_type": "stream",
     "text": [
      "0.2.0\n"
     ]
    },
    {
     "data": {
      "text/html": [
       "<table><tr><th>Software</th><th>Version</th></tr><tr><td>QuTiP</td><td>4.6.3</td></tr><tr><td>Numpy</td><td>1.22.2</td></tr><tr><td>SciPy</td><td>1.8.0</td></tr><tr><td>matplotlib</td><td>3.5.1</td></tr><tr><td>Cython</td><td>0.29.27</td></tr><tr><td>Number of CPUs</td><td>12</td></tr><tr><td>BLAS Info</td><td>OPENBLAS</td></tr><tr><td>IPython</td><td>8.0.1</td></tr><tr><td>Python</td><td>3.9.0 | packaged by conda-forge | (default, Nov 26 2020, 07:53:15) [MSC v.1916 64 bit (AMD64)]</td></tr><tr><td>OS</td><td>nt [win32]</td></tr><tr><td colspan='2'>Sat Feb 12 23:26:05 2022 W. Europe Standard Time</td></tr></table>"
      ],
      "text/plain": [
       "<IPython.core.display.HTML object>"
      ]
     },
     "execution_count": 27,
     "metadata": {},
     "output_type": "execute_result"
    }
   ],
   "source": [
    "import qutip_qip\n",
    "print(qutip_qip.version.version)\n",
    "from qutip.ipynbtools import version_table\n",
    "version_table()"
   ]
  }
 ],
 "metadata": {
  "kernelspec": {
   "display_name": "Python 3 (ipykernel)",
   "language": "python",
   "name": "python3"
  },
  "language_info": {
   "codemirror_mode": {
    "name": "ipython",
    "version": 3
   },
   "file_extension": ".py",
   "mimetype": "text/x-python",
   "name": "python",
   "nbconvert_exporter": "python",
   "pygments_lexer": "ipython3",
   "version": "3.9.0"
  }
 },
 "nbformat": 4,
 "nbformat_minor": 4
}
