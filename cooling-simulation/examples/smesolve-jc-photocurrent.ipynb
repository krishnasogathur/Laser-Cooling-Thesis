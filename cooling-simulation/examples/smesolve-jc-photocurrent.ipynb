{
 "cells": [
  {
   "cell_type": "markdown",
   "metadata": {},
   "source": [
    "# Stochastic photo-current detection in a JC model"
   ]
  },
  {
   "cell_type": "markdown",
   "metadata": {},
   "source": [
    "## Mixing stochastic and deterministic master equations"
   ]
  },
  {
   "cell_type": "markdown",
   "metadata": {},
   "source": [
    "Copyright (C) 2011 and later, Paul D. Nation & Robert J. Johansson"
   ]
  },
  {
   "cell_type": "code",
   "execution_count": 1,
   "metadata": {},
   "outputs": [],
   "source": [
    "%matplotlib inline\n",
    "import matplotlib.pyplot as plt"
   ]
  },
  {
   "cell_type": "code",
   "execution_count": 2,
   "metadata": {},
   "outputs": [],
   "source": [
    "import numpy as np\n",
    "import qutip.settings \n",
    "from qutip import *"
   ]
  },
  {
   "cell_type": "code",
   "execution_count": 3,
   "metadata": {},
   "outputs": [],
   "source": [
    "from qutip.ipynbtools import HTMLProgressBar"
   ]
  },
  {
   "cell_type": "code",
   "execution_count": 4,
   "metadata": {},
   "outputs": [],
   "source": [
    "from matplotlib import rcParams\n",
    "rcParams['font.family'] = 'STIXGeneral'\n",
    "rcParams['mathtext.fontset'] = 'stix'\n",
    "rcParams['font.size'] = '14'"
   ]
  },
  {
   "cell_type": "code",
   "execution_count": 5,
   "metadata": {},
   "outputs": [],
   "source": [
    "N = 15\n",
    "w0 = 1.0 * 2 * np.pi\n",
    "g = 0.2 * 2 * np.pi\n",
    "times = np.linspace(0, 15, 150)\n",
    "dt = times[1] - times[0]\n",
    "gamma = 0.01\n",
    "kappa = 0.1\n",
    "ntraj = 150"
   ]
  },
  {
   "cell_type": "code",
   "execution_count": 6,
   "metadata": {},
   "outputs": [],
   "source": [
    "a = tensor(destroy(N), identity(2))\n",
    "sm = tensor(identity(N), destroy(2))"
   ]
  },
  {
   "cell_type": "code",
   "execution_count": 7,
   "metadata": {},
   "outputs": [],
   "source": [
    "H = w0 * a.dag() * a + w0 * sm.dag() * sm + g * (sm * a.dag() + sm.dag() * a)"
   ]
  },
  {
   "cell_type": "code",
   "execution_count": 8,
   "metadata": {},
   "outputs": [],
   "source": [
    "rho0 = tensor(fock(N, 5), fock(2, 0))"
   ]
  },
  {
   "cell_type": "code",
   "execution_count": 9,
   "metadata": {},
   "outputs": [],
   "source": [
    "e_ops = [a.dag() * a, a + a.dag(), sm.dag() * sm]"
   ]
  },
  {
   "cell_type": "markdown",
   "metadata": {},
   "source": [
    "### Highly efficient detection"
   ]
  },
  {
   "cell_type": "code",
   "execution_count": 10,
   "metadata": {},
   "outputs": [],
   "source": [
    "c_ops = [np.sqrt(gamma) * sm]  # collapse operator for qubit\n",
    "sc_ops = [np.sqrt(kappa) * a]  # stochastic collapse for resonator"
   ]
  },
  {
   "cell_type": "code",
   "execution_count": 11,
   "metadata": {},
   "outputs": [],
   "source": [
    "result_ref = mesolve(H, rho0, times, c_ops+sc_ops, e_ops)"
   ]
  },
  {
   "cell_type": "code",
   "execution_count": 12,
   "metadata": {},
   "outputs": [
    {
     "name": "stdout",
     "output_type": "stream",
     "text": [
      "Total run time:   3.41s\n"
     ]
    }
   ],
   "source": [
    "result1 = photocurrent_mesolve(H, rho0, times, c_ops=c_ops, sc_ops=sc_ops, e_ops=e_ops, \n",
    "                   ntraj=1, nsubsteps=100, \n",
    "                   store_measurement=True,\n",
    "                   options=Options(store_states=True))"
   ]
  },
  {
   "cell_type": "markdown",
   "metadata": {},
   "source": [
    "Run the `smesolve` solver in parallel by passing the keyword argument `map_func=parallel_map`:"
   ]
  },
  {
   "cell_type": "code",
   "execution_count": 13,
   "metadata": {},
   "outputs": [
    {
     "data": {
      "text/html": [
       "<div style=\"border: 2px solid grey; width: 600px\">\n",
       "  <div id=\"4e057dc2-d05f-4357-92bf-f33be94685fe\" style=\"background-color: rgba(121,195,106,0.75); width:0%\">&nbsp;</div>\n",
       "</div>\n",
       "<p id=\"5e71edbb-7326-46a5-ad16-857e1bb7620b\"></p>\n"
      ],
      "text/plain": [
       "<IPython.core.display.HTML object>"
      ]
     },
     "metadata": {},
     "output_type": "display_data"
    },
    {
     "data": {
      "application/javascript": "$('div#4e057dc2-d05f-4357-92bf-f33be94685fe').width('1%');$('p#5e71edbb-7326-46a5-ad16-857e1bb7620b').text('Elapsed time:   3.61s. Est. remaining time: 00:00:04:27.');",
      "text/plain": [
       "<IPython.core.display.Javascript object>"
      ]
     },
     "metadata": {},
     "output_type": "display_data"
    },
    {
     "data": {
      "application/javascript": "$('div#4e057dc2-d05f-4357-92bf-f33be94685fe').width('2%');$('p#5e71edbb-7326-46a5-ad16-857e1bb7620b').text('Elapsed time:   5.24s. Est. remaining time: 00:00:04:16.');",
      "text/plain": [
       "<IPython.core.display.Javascript object>"
      ]
     },
     "metadata": {},
     "output_type": "display_data"
    },
    {
     "data": {
      "application/javascript": "$('div#4e057dc2-d05f-4357-92bf-f33be94685fe').width('3%');$('p#5e71edbb-7326-46a5-ad16-857e1bb7620b').text('Elapsed time:   9.04s. Est. remaining time: 00:00:04:22.');",
      "text/plain": [
       "<IPython.core.display.Javascript object>"
      ]
     },
     "metadata": {},
     "output_type": "display_data"
    },
    {
     "data": {
      "application/javascript": "$('div#4e057dc2-d05f-4357-92bf-f33be94685fe').width('4%');$('p#5e71edbb-7326-46a5-ad16-857e1bb7620b').text('Elapsed time:  10.82s. Est. remaining time: 00:00:04:19.');",
      "text/plain": [
       "<IPython.core.display.Javascript object>"
      ]
     },
     "metadata": {},
     "output_type": "display_data"
    },
    {
     "data": {
      "application/javascript": "$('div#4e057dc2-d05f-4357-92bf-f33be94685fe').width('5%');$('p#5e71edbb-7326-46a5-ad16-857e1bb7620b').text('Elapsed time:  15.28s. Est. remaining time: 00:00:04:31.');",
      "text/plain": [
       "<IPython.core.display.Javascript object>"
      ]
     },
     "metadata": {},
     "output_type": "display_data"
    },
    {
     "data": {
      "application/javascript": "$('div#4e057dc2-d05f-4357-92bf-f33be94685fe').width('6%');$('p#5e71edbb-7326-46a5-ad16-857e1bb7620b').text('Elapsed time:  17.26s. Est. remaining time: 00:00:04:30.');",
      "text/plain": [
       "<IPython.core.display.Javascript object>"
      ]
     },
     "metadata": {},
     "output_type": "display_data"
    },
    {
     "data": {
      "application/javascript": "$('div#4e057dc2-d05f-4357-92bf-f33be94685fe').width('7%');$('p#5e71edbb-7326-46a5-ad16-857e1bb7620b').text('Elapsed time:  23.33s. Est. remaining time: 00:00:04:54.');",
      "text/plain": [
       "<IPython.core.display.Javascript object>"
      ]
     },
     "metadata": {},
     "output_type": "display_data"
    },
    {
     "data": {
      "application/javascript": "$('div#4e057dc2-d05f-4357-92bf-f33be94685fe').width('8%');$('p#5e71edbb-7326-46a5-ad16-857e1bb7620b').text('Elapsed time:  26.31s. Est. remaining time: 00:00:05:02.');",
      "text/plain": [
       "<IPython.core.display.Javascript object>"
      ]
     },
     "metadata": {},
     "output_type": "display_data"
    },
    {
     "data": {
      "application/javascript": "$('div#4e057dc2-d05f-4357-92bf-f33be94685fe').width('9%');$('p#5e71edbb-7326-46a5-ad16-857e1bb7620b').text('Elapsed time:  32.39s. Est. remaining time: 00:00:05:14.');",
      "text/plain": [
       "<IPython.core.display.Javascript object>"
      ]
     },
     "metadata": {},
     "output_type": "display_data"
    },
    {
     "data": {
      "application/javascript": "$('div#4e057dc2-d05f-4357-92bf-f33be94685fe').width('10%');$('p#5e71edbb-7326-46a5-ad16-857e1bb7620b').text('Elapsed time:  35.48s. Est. remaining time: 00:00:05:19.');",
      "text/plain": [
       "<IPython.core.display.Javascript object>"
      ]
     },
     "metadata": {},
     "output_type": "display_data"
    },
    {
     "data": {
      "application/javascript": "$('div#4e057dc2-d05f-4357-92bf-f33be94685fe').width('11%');$('p#5e71edbb-7326-46a5-ad16-857e1bb7620b').text('Elapsed time:  43.02s. Est. remaining time: 00:00:05:36.');",
      "text/plain": [
       "<IPython.core.display.Javascript object>"
      ]
     },
     "metadata": {},
     "output_type": "display_data"
    },
    {
     "data": {
      "application/javascript": "$('div#4e057dc2-d05f-4357-92bf-f33be94685fe').width('12%');$('p#5e71edbb-7326-46a5-ad16-857e1bb7620b').text('Elapsed time:  46.75s. Est. remaining time: 00:00:05:42.');",
      "text/plain": [
       "<IPython.core.display.Javascript object>"
      ]
     },
     "metadata": {},
     "output_type": "display_data"
    },
    {
     "data": {
      "application/javascript": "$('div#4e057dc2-d05f-4357-92bf-f33be94685fe').width('13%');$('p#5e71edbb-7326-46a5-ad16-857e1bb7620b').text('Elapsed time:  52.93s. Est. remaining time: 00:00:05:44.');",
      "text/plain": [
       "<IPython.core.display.Javascript object>"
      ]
     },
     "metadata": {},
     "output_type": "display_data"
    },
    {
     "data": {
      "application/javascript": "$('div#4e057dc2-d05f-4357-92bf-f33be94685fe').width('14%');$('p#5e71edbb-7326-46a5-ad16-857e1bb7620b').text('Elapsed time:  55.44s. Est. remaining time: 00:00:05:40.');",
      "text/plain": [
       "<IPython.core.display.Javascript object>"
      ]
     },
     "metadata": {},
     "output_type": "display_data"
    },
    {
     "data": {
      "application/javascript": "$('div#4e057dc2-d05f-4357-92bf-f33be94685fe').width('15%');$('p#5e71edbb-7326-46a5-ad16-857e1bb7620b').text('Elapsed time:  60.53s. Est. remaining time: 00:00:05:34.');",
      "text/plain": [
       "<IPython.core.display.Javascript object>"
      ]
     },
     "metadata": {},
     "output_type": "display_data"
    },
    {
     "data": {
      "application/javascript": "$('div#4e057dc2-d05f-4357-92bf-f33be94685fe').width('16%');$('p#5e71edbb-7326-46a5-ad16-857e1bb7620b').text('Elapsed time:  63.66s. Est. remaining time: 00:00:05:34.');",
      "text/plain": [
       "<IPython.core.display.Javascript object>"
      ]
     },
     "metadata": {},
     "output_type": "display_data"
    },
    {
     "data": {
      "application/javascript": "$('div#4e057dc2-d05f-4357-92bf-f33be94685fe').width('17%');$('p#5e71edbb-7326-46a5-ad16-857e1bb7620b').text('Elapsed time:  69.90s. Est. remaining time: 00:00:05:33.');",
      "text/plain": [
       "<IPython.core.display.Javascript object>"
      ]
     },
     "metadata": {},
     "output_type": "display_data"
    },
    {
     "data": {
      "application/javascript": "$('div#4e057dc2-d05f-4357-92bf-f33be94685fe').width('18%');$('p#5e71edbb-7326-46a5-ad16-857e1bb7620b').text('Elapsed time:  72.15s. Est. remaining time: 00:00:05:28.');",
      "text/plain": [
       "<IPython.core.display.Javascript object>"
      ]
     },
     "metadata": {},
     "output_type": "display_data"
    },
    {
     "data": {
      "application/javascript": "$('div#4e057dc2-d05f-4357-92bf-f33be94685fe').width('19%');$('p#5e71edbb-7326-46a5-ad16-857e1bb7620b').text('Elapsed time:  76.51s. Est. remaining time: 00:00:05:19.');",
      "text/plain": [
       "<IPython.core.display.Javascript object>"
      ]
     },
     "metadata": {},
     "output_type": "display_data"
    },
    {
     "data": {
      "application/javascript": "$('div#4e057dc2-d05f-4357-92bf-f33be94685fe').width('20%');$('p#5e71edbb-7326-46a5-ad16-857e1bb7620b').text('Elapsed time:  78.66s. Est. remaining time: 00:00:05:14.');",
      "text/plain": [
       "<IPython.core.display.Javascript object>"
      ]
     },
     "metadata": {},
     "output_type": "display_data"
    },
    {
     "data": {
      "application/javascript": "$('div#4e057dc2-d05f-4357-92bf-f33be94685fe').width('21%');$('p#5e71edbb-7326-46a5-ad16-857e1bb7620b').text('Elapsed time:  83.20s. Est. remaining time: 00:00:05:06.');",
      "text/plain": [
       "<IPython.core.display.Javascript object>"
      ]
     },
     "metadata": {},
     "output_type": "display_data"
    },
    {
     "data": {
      "application/javascript": "$('div#4e057dc2-d05f-4357-92bf-f33be94685fe').width('22%');$('p#5e71edbb-7326-46a5-ad16-857e1bb7620b').text('Elapsed time:  85.98s. Est. remaining time: 00:00:05:04.');",
      "text/plain": [
       "<IPython.core.display.Javascript object>"
      ]
     },
     "metadata": {},
     "output_type": "display_data"
    },
    {
     "data": {
      "application/javascript": "$('div#4e057dc2-d05f-4357-92bf-f33be94685fe').width('23%');$('p#5e71edbb-7326-46a5-ad16-857e1bb7620b').text('Elapsed time:  91.41s. Est. remaining time: 00:00:05:00.');",
      "text/plain": [
       "<IPython.core.display.Javascript object>"
      ]
     },
     "metadata": {},
     "output_type": "display_data"
    },
    {
     "data": {
      "application/javascript": "$('div#4e057dc2-d05f-4357-92bf-f33be94685fe').width('24%');$('p#5e71edbb-7326-46a5-ad16-857e1bb7620b').text('Elapsed time:  93.66s. Est. remaining time: 00:00:04:56.');",
      "text/plain": [
       "<IPython.core.display.Javascript object>"
      ]
     },
     "metadata": {},
     "output_type": "display_data"
    },
    {
     "data": {
      "application/javascript": "$('div#4e057dc2-d05f-4357-92bf-f33be94685fe').width('25%');$('p#5e71edbb-7326-46a5-ad16-857e1bb7620b').text('Elapsed time:  99.32s. Est. remaining time: 00:00:04:52.');",
      "text/plain": [
       "<IPython.core.display.Javascript object>"
      ]
     },
     "metadata": {},
     "output_type": "display_data"
    },
    {
     "data": {
      "application/javascript": "$('div#4e057dc2-d05f-4357-92bf-f33be94685fe').width('26%');$('p#5e71edbb-7326-46a5-ad16-857e1bb7620b').text('Elapsed time: 102.62s. Est. remaining time: 00:00:04:52.');",
      "text/plain": [
       "<IPython.core.display.Javascript object>"
      ]
     },
     "metadata": {},
     "output_type": "display_data"
    },
    {
     "data": {
      "application/javascript": "$('div#4e057dc2-d05f-4357-92bf-f33be94685fe').width('27%');$('p#5e71edbb-7326-46a5-ad16-857e1bb7620b').text('Elapsed time: 108.43s. Est. remaining time: 00:00:04:48.');",
      "text/plain": [
       "<IPython.core.display.Javascript object>"
      ]
     },
     "metadata": {},
     "output_type": "display_data"
    },
    {
     "data": {
      "application/javascript": "$('div#4e057dc2-d05f-4357-92bf-f33be94685fe').width('28%');$('p#5e71edbb-7326-46a5-ad16-857e1bb7620b').text('Elapsed time: 111.33s. Est. remaining time: 00:00:04:46.');",
      "text/plain": [
       "<IPython.core.display.Javascript object>"
      ]
     },
     "metadata": {},
     "output_type": "display_data"
    },
    {
     "data": {
      "application/javascript": "$('div#4e057dc2-d05f-4357-92bf-f33be94685fe').width('29%');$('p#5e71edbb-7326-46a5-ad16-857e1bb7620b').text('Elapsed time: 116.15s. Est. remaining time: 00:00:04:39.');",
      "text/plain": [
       "<IPython.core.display.Javascript object>"
      ]
     },
     "metadata": {},
     "output_type": "display_data"
    },
    {
     "data": {
      "application/javascript": "$('div#4e057dc2-d05f-4357-92bf-f33be94685fe').width('30%');$('p#5e71edbb-7326-46a5-ad16-857e1bb7620b').text('Elapsed time: 118.51s. Est. remaining time: 00:00:04:36.');",
      "text/plain": [
       "<IPython.core.display.Javascript object>"
      ]
     },
     "metadata": {},
     "output_type": "display_data"
    },
    {
     "data": {
      "application/javascript": "$('div#4e057dc2-d05f-4357-92bf-f33be94685fe').width('31%');$('p#5e71edbb-7326-46a5-ad16-857e1bb7620b').text('Elapsed time: 123.20s. Est. remaining time: 00:00:04:29.');",
      "text/plain": [
       "<IPython.core.display.Javascript object>"
      ]
     },
     "metadata": {},
     "output_type": "display_data"
    },
    {
     "data": {
      "application/javascript": "$('div#4e057dc2-d05f-4357-92bf-f33be94685fe').width('32%');$('p#5e71edbb-7326-46a5-ad16-857e1bb7620b').text('Elapsed time: 125.50s. Est. remaining time: 00:00:04:26.');",
      "text/plain": [
       "<IPython.core.display.Javascript object>"
      ]
     },
     "metadata": {},
     "output_type": "display_data"
    },
    {
     "data": {
      "application/javascript": "$('div#4e057dc2-d05f-4357-92bf-f33be94685fe').width('33%');$('p#5e71edbb-7326-46a5-ad16-857e1bb7620b').text('Elapsed time: 130.17s. Est. remaining time: 00:00:04:20.');",
      "text/plain": [
       "<IPython.core.display.Javascript object>"
      ]
     },
     "metadata": {},
     "output_type": "display_data"
    },
    {
     "data": {
      "application/javascript": "$('div#4e057dc2-d05f-4357-92bf-f33be94685fe').width('34%');$('p#5e71edbb-7326-46a5-ad16-857e1bb7620b').text('Elapsed time: 132.55s. Est. remaining time: 00:00:04:17.');",
      "text/plain": [
       "<IPython.core.display.Javascript object>"
      ]
     },
     "metadata": {},
     "output_type": "display_data"
    },
    {
     "data": {
      "application/javascript": "$('div#4e057dc2-d05f-4357-92bf-f33be94685fe').width('35%');$('p#5e71edbb-7326-46a5-ad16-857e1bb7620b').text('Elapsed time: 137.41s. Est. remaining time: 00:00:04:11.');",
      "text/plain": [
       "<IPython.core.display.Javascript object>"
      ]
     },
     "metadata": {},
     "output_type": "display_data"
    },
    {
     "data": {
      "application/javascript": "$('div#4e057dc2-d05f-4357-92bf-f33be94685fe').width('36%');$('p#5e71edbb-7326-46a5-ad16-857e1bb7620b').text('Elapsed time: 140.34s. Est. remaining time: 00:00:04:09.');",
      "text/plain": [
       "<IPython.core.display.Javascript object>"
      ]
     },
     "metadata": {},
     "output_type": "display_data"
    },
    {
     "data": {
      "application/javascript": "$('div#4e057dc2-d05f-4357-92bf-f33be94685fe').width('37%');$('p#5e71edbb-7326-46a5-ad16-857e1bb7620b').text('Elapsed time: 146.21s. Est. remaining time: 00:00:04:05.');",
      "text/plain": [
       "<IPython.core.display.Javascript object>"
      ]
     },
     "metadata": {},
     "output_type": "display_data"
    },
    {
     "data": {
      "application/javascript": "$('div#4e057dc2-d05f-4357-92bf-f33be94685fe').width('38%');$('p#5e71edbb-7326-46a5-ad16-857e1bb7620b').text('Elapsed time: 149.09s. Est. remaining time: 00:00:04:03.');",
      "text/plain": [
       "<IPython.core.display.Javascript object>"
      ]
     },
     "metadata": {},
     "output_type": "display_data"
    },
    {
     "data": {
      "application/javascript": "$('div#4e057dc2-d05f-4357-92bf-f33be94685fe').width('39%');$('p#5e71edbb-7326-46a5-ad16-857e1bb7620b').text('Elapsed time: 155.00s. Est. remaining time: 00:00:03:59.');",
      "text/plain": [
       "<IPython.core.display.Javascript object>"
      ]
     },
     "metadata": {},
     "output_type": "display_data"
    },
    {
     "data": {
      "application/javascript": "$('div#4e057dc2-d05f-4357-92bf-f33be94685fe').width('40%');$('p#5e71edbb-7326-46a5-ad16-857e1bb7620b').text('Elapsed time: 157.92s. Est. remaining time: 00:00:03:56.');",
      "text/plain": [
       "<IPython.core.display.Javascript object>"
      ]
     },
     "metadata": {},
     "output_type": "display_data"
    },
    {
     "data": {
      "application/javascript": "$('div#4e057dc2-d05f-4357-92bf-f33be94685fe').width('41%');$('p#5e71edbb-7326-46a5-ad16-857e1bb7620b').text('Elapsed time: 164.15s. Est. remaining time: 00:00:03:52.');",
      "text/plain": [
       "<IPython.core.display.Javascript object>"
      ]
     },
     "metadata": {},
     "output_type": "display_data"
    },
    {
     "data": {
      "application/javascript": "$('div#4e057dc2-d05f-4357-92bf-f33be94685fe').width('42%');$('p#5e71edbb-7326-46a5-ad16-857e1bb7620b').text('Elapsed time: 167.06s. Est. remaining time: 00:00:03:50.');",
      "text/plain": [
       "<IPython.core.display.Javascript object>"
      ]
     },
     "metadata": {},
     "output_type": "display_data"
    },
    {
     "data": {
      "application/javascript": "$('div#4e057dc2-d05f-4357-92bf-f33be94685fe').width('43%');$('p#5e71edbb-7326-46a5-ad16-857e1bb7620b').text('Elapsed time: 173.03s. Est. remaining time: 00:00:03:46.');",
      "text/plain": [
       "<IPython.core.display.Javascript object>"
      ]
     },
     "metadata": {},
     "output_type": "display_data"
    },
    {
     "data": {
      "application/javascript": "$('div#4e057dc2-d05f-4357-92bf-f33be94685fe').width('44%');$('p#5e71edbb-7326-46a5-ad16-857e1bb7620b').text('Elapsed time: 175.91s. Est. remaining time: 00:00:03:43.');",
      "text/plain": [
       "<IPython.core.display.Javascript object>"
      ]
     },
     "metadata": {},
     "output_type": "display_data"
    },
    {
     "data": {
      "application/javascript": "$('div#4e057dc2-d05f-4357-92bf-f33be94685fe').width('45%');$('p#5e71edbb-7326-46a5-ad16-857e1bb7620b').text('Elapsed time: 181.72s. Est. remaining time: 00:00:03:39.');",
      "text/plain": [
       "<IPython.core.display.Javascript object>"
      ]
     },
     "metadata": {},
     "output_type": "display_data"
    },
    {
     "data": {
      "application/javascript": "$('div#4e057dc2-d05f-4357-92bf-f33be94685fe').width('46%');$('p#5e71edbb-7326-46a5-ad16-857e1bb7620b').text('Elapsed time: 184.61s. Est. remaining time: 00:00:03:36.');",
      "text/plain": [
       "<IPython.core.display.Javascript object>"
      ]
     },
     "metadata": {},
     "output_type": "display_data"
    },
    {
     "data": {
      "application/javascript": "$('div#4e057dc2-d05f-4357-92bf-f33be94685fe').width('47%');$('p#5e71edbb-7326-46a5-ad16-857e1bb7620b').text('Elapsed time: 190.43s. Est. remaining time: 00:00:03:31.');",
      "text/plain": [
       "<IPython.core.display.Javascript object>"
      ]
     },
     "metadata": {},
     "output_type": "display_data"
    },
    {
     "data": {
      "application/javascript": "$('div#4e057dc2-d05f-4357-92bf-f33be94685fe').width('48%');$('p#5e71edbb-7326-46a5-ad16-857e1bb7620b').text('Elapsed time: 193.50s. Est. remaining time: 00:00:03:29.');",
      "text/plain": [
       "<IPython.core.display.Javascript object>"
      ]
     },
     "metadata": {},
     "output_type": "display_data"
    },
    {
     "data": {
      "application/javascript": "$('div#4e057dc2-d05f-4357-92bf-f33be94685fe').width('49%');$('p#5e71edbb-7326-46a5-ad16-857e1bb7620b').text('Elapsed time: 198.98s. Est. remaining time: 00:00:03:24.');",
      "text/plain": [
       "<IPython.core.display.Javascript object>"
      ]
     },
     "metadata": {},
     "output_type": "display_data"
    },
    {
     "data": {
      "application/javascript": "$('div#4e057dc2-d05f-4357-92bf-f33be94685fe').width('50%');$('p#5e71edbb-7326-46a5-ad16-857e1bb7620b').text('Elapsed time: 201.50s. Est. remaining time: 00:00:03:21.');",
      "text/plain": [
       "<IPython.core.display.Javascript object>"
      ]
     },
     "metadata": {},
     "output_type": "display_data"
    },
    {
     "data": {
      "application/javascript": "$('div#4e057dc2-d05f-4357-92bf-f33be94685fe').width('51%');$('p#5e71edbb-7326-46a5-ad16-857e1bb7620b').text('Elapsed time: 206.70s. Est. remaining time: 00:00:03:15.');",
      "text/plain": [
       "<IPython.core.display.Javascript object>"
      ]
     },
     "metadata": {},
     "output_type": "display_data"
    },
    {
     "data": {
      "application/javascript": "$('div#4e057dc2-d05f-4357-92bf-f33be94685fe').width('52%');$('p#5e71edbb-7326-46a5-ad16-857e1bb7620b').text('Elapsed time: 209.14s. Est. remaining time: 00:00:03:13.');",
      "text/plain": [
       "<IPython.core.display.Javascript object>"
      ]
     },
     "metadata": {},
     "output_type": "display_data"
    },
    {
     "data": {
      "application/javascript": "$('div#4e057dc2-d05f-4357-92bf-f33be94685fe').width('53%');$('p#5e71edbb-7326-46a5-ad16-857e1bb7620b').text('Elapsed time: 214.05s. Est. remaining time: 00:00:03:07.');",
      "text/plain": [
       "<IPython.core.display.Javascript object>"
      ]
     },
     "metadata": {},
     "output_type": "display_data"
    },
    {
     "data": {
      "application/javascript": "$('div#4e057dc2-d05f-4357-92bf-f33be94685fe').width('54%');$('p#5e71edbb-7326-46a5-ad16-857e1bb7620b').text('Elapsed time: 216.49s. Est. remaining time: 00:00:03:04.');",
      "text/plain": [
       "<IPython.core.display.Javascript object>"
      ]
     },
     "metadata": {},
     "output_type": "display_data"
    },
    {
     "data": {
      "application/javascript": "$('div#4e057dc2-d05f-4357-92bf-f33be94685fe').width('55%');$('p#5e71edbb-7326-46a5-ad16-857e1bb7620b').text('Elapsed time: 221.39s. Est. remaining time: 00:00:02:58.');",
      "text/plain": [
       "<IPython.core.display.Javascript object>"
      ]
     },
     "metadata": {},
     "output_type": "display_data"
    },
    {
     "data": {
      "application/javascript": "$('div#4e057dc2-d05f-4357-92bf-f33be94685fe').width('56%');$('p#5e71edbb-7326-46a5-ad16-857e1bb7620b').text('Elapsed time: 223.79s. Est. remaining time: 00:00:02:55.');",
      "text/plain": [
       "<IPython.core.display.Javascript object>"
      ]
     },
     "metadata": {},
     "output_type": "display_data"
    },
    {
     "data": {
      "application/javascript": "$('div#4e057dc2-d05f-4357-92bf-f33be94685fe').width('57%');$('p#5e71edbb-7326-46a5-ad16-857e1bb7620b').text('Elapsed time: 228.63s. Est. remaining time: 00:00:02:50.');",
      "text/plain": [
       "<IPython.core.display.Javascript object>"
      ]
     },
     "metadata": {},
     "output_type": "display_data"
    },
    {
     "data": {
      "application/javascript": "$('div#4e057dc2-d05f-4357-92bf-f33be94685fe').width('58%');$('p#5e71edbb-7326-46a5-ad16-857e1bb7620b').text('Elapsed time: 233.50s. Est. remaining time: 00:00:02:44.');",
      "text/plain": [
       "<IPython.core.display.Javascript object>"
      ]
     },
     "metadata": {},
     "output_type": "display_data"
    },
    {
     "data": {
      "application/javascript": "$('div#4e057dc2-d05f-4357-92bf-f33be94685fe').width('59%');$('p#5e71edbb-7326-46a5-ad16-857e1bb7620b').text('Elapsed time: 235.95s. Est. remaining time: 00:00:02:41.');",
      "text/plain": [
       "<IPython.core.display.Javascript object>"
      ]
     },
     "metadata": {},
     "output_type": "display_data"
    },
    {
     "data": {
      "application/javascript": "$('div#4e057dc2-d05f-4357-92bf-f33be94685fe').width('60%');$('p#5e71edbb-7326-46a5-ad16-857e1bb7620b').text('Elapsed time: 238.41s. Est. remaining time: 00:00:02:38.');",
      "text/plain": [
       "<IPython.core.display.Javascript object>"
      ]
     },
     "metadata": {},
     "output_type": "display_data"
    },
    {
     "data": {
      "application/javascript": "$('div#4e057dc2-d05f-4357-92bf-f33be94685fe').width('61%');$('p#5e71edbb-7326-46a5-ad16-857e1bb7620b').text('Elapsed time: 243.25s. Est. remaining time: 00:00:02:33.');",
      "text/plain": [
       "<IPython.core.display.Javascript object>"
      ]
     },
     "metadata": {},
     "output_type": "display_data"
    },
    {
     "data": {
      "application/javascript": "$('div#4e057dc2-d05f-4357-92bf-f33be94685fe').width('62%');$('p#5e71edbb-7326-46a5-ad16-857e1bb7620b').text('Elapsed time: 245.70s. Est. remaining time: 00:00:02:30.');",
      "text/plain": [
       "<IPython.core.display.Javascript object>"
      ]
     },
     "metadata": {},
     "output_type": "display_data"
    },
    {
     "data": {
      "application/javascript": "$('div#4e057dc2-d05f-4357-92bf-f33be94685fe').width('63%');$('p#5e71edbb-7326-46a5-ad16-857e1bb7620b').text('Elapsed time: 250.56s. Est. remaining time: 00:00:02:25.');",
      "text/plain": [
       "<IPython.core.display.Javascript object>"
      ]
     },
     "metadata": {},
     "output_type": "display_data"
    },
    {
     "data": {
      "application/javascript": "$('div#4e057dc2-d05f-4357-92bf-f33be94685fe').width('64%');$('p#5e71edbb-7326-46a5-ad16-857e1bb7620b').text('Elapsed time: 253.00s. Est. remaining time: 00:00:02:22.');",
      "text/plain": [
       "<IPython.core.display.Javascript object>"
      ]
     },
     "metadata": {},
     "output_type": "display_data"
    },
    {
     "data": {
      "application/javascript": "$('div#4e057dc2-d05f-4357-92bf-f33be94685fe').width('65%');$('p#5e71edbb-7326-46a5-ad16-857e1bb7620b').text('Elapsed time: 257.84s. Est. remaining time: 00:00:02:16.');",
      "text/plain": [
       "<IPython.core.display.Javascript object>"
      ]
     },
     "metadata": {},
     "output_type": "display_data"
    },
    {
     "data": {
      "application/javascript": "$('div#4e057dc2-d05f-4357-92bf-f33be94685fe').width('66%');$('p#5e71edbb-7326-46a5-ad16-857e1bb7620b').text('Elapsed time: 260.25s. Est. remaining time: 00:00:02:14.');",
      "text/plain": [
       "<IPython.core.display.Javascript object>"
      ]
     },
     "metadata": {},
     "output_type": "display_data"
    },
    {
     "data": {
      "application/javascript": "$('div#4e057dc2-d05f-4357-92bf-f33be94685fe').width('67%');$('p#5e71edbb-7326-46a5-ad16-857e1bb7620b').text('Elapsed time: 265.07s. Est. remaining time: 00:00:02:08.');",
      "text/plain": [
       "<IPython.core.display.Javascript object>"
      ]
     },
     "metadata": {},
     "output_type": "display_data"
    },
    {
     "data": {
      "application/javascript": "$('div#4e057dc2-d05f-4357-92bf-f33be94685fe').width('68%');$('p#5e71edbb-7326-46a5-ad16-857e1bb7620b').text('Elapsed time: 267.63s. Est. remaining time: 00:00:02:05.');",
      "text/plain": [
       "<IPython.core.display.Javascript object>"
      ]
     },
     "metadata": {},
     "output_type": "display_data"
    },
    {
     "data": {
      "application/javascript": "$('div#4e057dc2-d05f-4357-92bf-f33be94685fe').width('69%');$('p#5e71edbb-7326-46a5-ad16-857e1bb7620b').text('Elapsed time: 272.64s. Est. remaining time: 00:00:02:00.');",
      "text/plain": [
       "<IPython.core.display.Javascript object>"
      ]
     },
     "metadata": {},
     "output_type": "display_data"
    },
    {
     "data": {
      "application/javascript": "$('div#4e057dc2-d05f-4357-92bf-f33be94685fe').width('70%');$('p#5e71edbb-7326-46a5-ad16-857e1bb7620b').text('Elapsed time: 275.16s. Est. remaining time: 00:00:01:57.');",
      "text/plain": [
       "<IPython.core.display.Javascript object>"
      ]
     },
     "metadata": {},
     "output_type": "display_data"
    },
    {
     "data": {
      "application/javascript": "$('div#4e057dc2-d05f-4357-92bf-f33be94685fe').width('71%');$('p#5e71edbb-7326-46a5-ad16-857e1bb7620b').text('Elapsed time: 280.11s. Est. remaining time: 00:00:01:52.');",
      "text/plain": [
       "<IPython.core.display.Javascript object>"
      ]
     },
     "metadata": {},
     "output_type": "display_data"
    },
    {
     "data": {
      "application/javascript": "$('div#4e057dc2-d05f-4357-92bf-f33be94685fe').width('72%');$('p#5e71edbb-7326-46a5-ad16-857e1bb7620b').text('Elapsed time: 282.78s. Est. remaining time: 00:00:01:49.');",
      "text/plain": [
       "<IPython.core.display.Javascript object>"
      ]
     },
     "metadata": {},
     "output_type": "display_data"
    },
    {
     "data": {
      "application/javascript": "$('div#4e057dc2-d05f-4357-92bf-f33be94685fe').width('73%');$('p#5e71edbb-7326-46a5-ad16-857e1bb7620b').text('Elapsed time: 287.96s. Est. remaining time: 00:00:01:44.');",
      "text/plain": [
       "<IPython.core.display.Javascript object>"
      ]
     },
     "metadata": {},
     "output_type": "display_data"
    },
    {
     "data": {
      "application/javascript": "$('div#4e057dc2-d05f-4357-92bf-f33be94685fe').width('74%');$('p#5e71edbb-7326-46a5-ad16-857e1bb7620b').text('Elapsed time: 290.56s. Est. remaining time: 00:00:01:42.');",
      "text/plain": [
       "<IPython.core.display.Javascript object>"
      ]
     },
     "metadata": {},
     "output_type": "display_data"
    },
    {
     "data": {
      "application/javascript": "$('div#4e057dc2-d05f-4357-92bf-f33be94685fe').width('75%');$('p#5e71edbb-7326-46a5-ad16-857e1bb7620b').text('Elapsed time: 295.87s. Est. remaining time: 00:00:01:36.');",
      "text/plain": [
       "<IPython.core.display.Javascript object>"
      ]
     },
     "metadata": {},
     "output_type": "display_data"
    },
    {
     "data": {
      "application/javascript": "$('div#4e057dc2-d05f-4357-92bf-f33be94685fe').width('76%');$('p#5e71edbb-7326-46a5-ad16-857e1bb7620b').text('Elapsed time: 298.78s. Est. remaining time: 00:00:01:34.');",
      "text/plain": [
       "<IPython.core.display.Javascript object>"
      ]
     },
     "metadata": {},
     "output_type": "display_data"
    },
    {
     "data": {
      "application/javascript": "$('div#4e057dc2-d05f-4357-92bf-f33be94685fe').width('77%');$('p#5e71edbb-7326-46a5-ad16-857e1bb7620b').text('Elapsed time: 304.77s. Est. remaining time: 00:00:01:29.');",
      "text/plain": [
       "<IPython.core.display.Javascript object>"
      ]
     },
     "metadata": {},
     "output_type": "display_data"
    },
    {
     "data": {
      "application/javascript": "$('div#4e057dc2-d05f-4357-92bf-f33be94685fe').width('78%');$('p#5e71edbb-7326-46a5-ad16-857e1bb7620b').text('Elapsed time: 307.67s. Est. remaining time: 00:00:01:26.');",
      "text/plain": [
       "<IPython.core.display.Javascript object>"
      ]
     },
     "metadata": {},
     "output_type": "display_data"
    },
    {
     "data": {
      "application/javascript": "$('div#4e057dc2-d05f-4357-92bf-f33be94685fe').width('79%');$('p#5e71edbb-7326-46a5-ad16-857e1bb7620b').text('Elapsed time: 313.72s. Est. remaining time: 00:00:01:21.');",
      "text/plain": [
       "<IPython.core.display.Javascript object>"
      ]
     },
     "metadata": {},
     "output_type": "display_data"
    },
    {
     "data": {
      "application/javascript": "$('div#4e057dc2-d05f-4357-92bf-f33be94685fe').width('80%');$('p#5e71edbb-7326-46a5-ad16-857e1bb7620b').text('Elapsed time: 316.71s. Est. remaining time: 00:00:01:19.');",
      "text/plain": [
       "<IPython.core.display.Javascript object>"
      ]
     },
     "metadata": {},
     "output_type": "display_data"
    },
    {
     "data": {
      "application/javascript": "$('div#4e057dc2-d05f-4357-92bf-f33be94685fe').width('81%');$('p#5e71edbb-7326-46a5-ad16-857e1bb7620b').text('Elapsed time: 322.71s. Est. remaining time: 00:00:01:14.');",
      "text/plain": [
       "<IPython.core.display.Javascript object>"
      ]
     },
     "metadata": {},
     "output_type": "display_data"
    },
    {
     "data": {
      "application/javascript": "$('div#4e057dc2-d05f-4357-92bf-f33be94685fe').width('82%');$('p#5e71edbb-7326-46a5-ad16-857e1bb7620b').text('Elapsed time: 325.74s. Est. remaining time: 00:00:01:11.');",
      "text/plain": [
       "<IPython.core.display.Javascript object>"
      ]
     },
     "metadata": {},
     "output_type": "display_data"
    },
    {
     "data": {
      "application/javascript": "$('div#4e057dc2-d05f-4357-92bf-f33be94685fe').width('83%');$('p#5e71edbb-7326-46a5-ad16-857e1bb7620b').text('Elapsed time: 331.92s. Est. remaining time: 00:00:01:06.');",
      "text/plain": [
       "<IPython.core.display.Javascript object>"
      ]
     },
     "metadata": {},
     "output_type": "display_data"
    },
    {
     "data": {
      "application/javascript": "$('div#4e057dc2-d05f-4357-92bf-f33be94685fe').width('84%');$('p#5e71edbb-7326-46a5-ad16-857e1bb7620b').text('Elapsed time: 335.10s. Est. remaining time: 00:00:01:03.');",
      "text/plain": [
       "<IPython.core.display.Javascript object>"
      ]
     },
     "metadata": {},
     "output_type": "display_data"
    },
    {
     "data": {
      "application/javascript": "$('div#4e057dc2-d05f-4357-92bf-f33be94685fe').width('85%');$('p#5e71edbb-7326-46a5-ad16-857e1bb7620b').text('Elapsed time: 341.13s. Est. remaining time: 00:00:00:58.');",
      "text/plain": [
       "<IPython.core.display.Javascript object>"
      ]
     },
     "metadata": {},
     "output_type": "display_data"
    },
    {
     "data": {
      "application/javascript": "$('div#4e057dc2-d05f-4357-92bf-f33be94685fe').width('86%');$('p#5e71edbb-7326-46a5-ad16-857e1bb7620b').text('Elapsed time: 344.14s. Est. remaining time: 00:00:00:56.');",
      "text/plain": [
       "<IPython.core.display.Javascript object>"
      ]
     },
     "metadata": {},
     "output_type": "display_data"
    },
    {
     "data": {
      "application/javascript": "$('div#4e057dc2-d05f-4357-92bf-f33be94685fe').width('87%');$('p#5e71edbb-7326-46a5-ad16-857e1bb7620b').text('Elapsed time: 350.23s. Est. remaining time: 00:00:00:50.');",
      "text/plain": [
       "<IPython.core.display.Javascript object>"
      ]
     },
     "metadata": {},
     "output_type": "display_data"
    },
    {
     "data": {
      "application/javascript": "$('div#4e057dc2-d05f-4357-92bf-f33be94685fe').width('88%');$('p#5e71edbb-7326-46a5-ad16-857e1bb7620b').text('Elapsed time: 353.28s. Est. remaining time: 00:00:00:48.');",
      "text/plain": [
       "<IPython.core.display.Javascript object>"
      ]
     },
     "metadata": {},
     "output_type": "display_data"
    },
    {
     "data": {
      "application/javascript": "$('div#4e057dc2-d05f-4357-92bf-f33be94685fe').width('89%');$('p#5e71edbb-7326-46a5-ad16-857e1bb7620b').text('Elapsed time: 359.34s. Est. remaining time: 00:00:00:42.');",
      "text/plain": [
       "<IPython.core.display.Javascript object>"
      ]
     },
     "metadata": {},
     "output_type": "display_data"
    },
    {
     "data": {
      "application/javascript": "$('div#4e057dc2-d05f-4357-92bf-f33be94685fe').width('90%');$('p#5e71edbb-7326-46a5-ad16-857e1bb7620b').text('Elapsed time: 362.29s. Est. remaining time: 00:00:00:40.');",
      "text/plain": [
       "<IPython.core.display.Javascript object>"
      ]
     },
     "metadata": {},
     "output_type": "display_data"
    },
    {
     "data": {
      "application/javascript": "$('div#4e057dc2-d05f-4357-92bf-f33be94685fe').width('91%');$('p#5e71edbb-7326-46a5-ad16-857e1bb7620b').text('Elapsed time: 368.35s. Est. remaining time: 00:00:00:34.');",
      "text/plain": [
       "<IPython.core.display.Javascript object>"
      ]
     },
     "metadata": {},
     "output_type": "display_data"
    },
    {
     "data": {
      "application/javascript": "$('div#4e057dc2-d05f-4357-92bf-f33be94685fe').width('92%');$('p#5e71edbb-7326-46a5-ad16-857e1bb7620b').text('Elapsed time: 371.34s. Est. remaining time: 00:00:00:32.');",
      "text/plain": [
       "<IPython.core.display.Javascript object>"
      ]
     },
     "metadata": {},
     "output_type": "display_data"
    },
    {
     "data": {
      "application/javascript": "$('div#4e057dc2-d05f-4357-92bf-f33be94685fe').width('93%');$('p#5e71edbb-7326-46a5-ad16-857e1bb7620b').text('Elapsed time: 377.61s. Est. remaining time: 00:00:00:26.');",
      "text/plain": [
       "<IPython.core.display.Javascript object>"
      ]
     },
     "metadata": {},
     "output_type": "display_data"
    },
    {
     "data": {
      "application/javascript": "$('div#4e057dc2-d05f-4357-92bf-f33be94685fe').width('94%');$('p#5e71edbb-7326-46a5-ad16-857e1bb7620b').text('Elapsed time: 380.85s. Est. remaining time: 00:00:00:24.');",
      "text/plain": [
       "<IPython.core.display.Javascript object>"
      ]
     },
     "metadata": {},
     "output_type": "display_data"
    },
    {
     "data": {
      "application/javascript": "$('div#4e057dc2-d05f-4357-92bf-f33be94685fe').width('95%');$('p#5e71edbb-7326-46a5-ad16-857e1bb7620b').text('Elapsed time: 387.26s. Est. remaining time: 00:00:00:18.');",
      "text/plain": [
       "<IPython.core.display.Javascript object>"
      ]
     },
     "metadata": {},
     "output_type": "display_data"
    },
    {
     "data": {
      "application/javascript": "$('div#4e057dc2-d05f-4357-92bf-f33be94685fe').width('96%');$('p#5e71edbb-7326-46a5-ad16-857e1bb7620b').text('Elapsed time: 390.01s. Est. remaining time: 00:00:00:16.');",
      "text/plain": [
       "<IPython.core.display.Javascript object>"
      ]
     },
     "metadata": {},
     "output_type": "display_data"
    },
    {
     "data": {
      "application/javascript": "$('div#4e057dc2-d05f-4357-92bf-f33be94685fe').width('97%');$('p#5e71edbb-7326-46a5-ad16-857e1bb7620b').text('Elapsed time: 395.45s. Est. remaining time: 00:00:00:10.');",
      "text/plain": [
       "<IPython.core.display.Javascript object>"
      ]
     },
     "metadata": {},
     "output_type": "display_data"
    },
    {
     "data": {
      "application/javascript": "$('div#4e057dc2-d05f-4357-92bf-f33be94685fe').width('98%');$('p#5e71edbb-7326-46a5-ad16-857e1bb7620b').text('Elapsed time: 398.18s. Est. remaining time: 00:00:00:08.');",
      "text/plain": [
       "<IPython.core.display.Javascript object>"
      ]
     },
     "metadata": {},
     "output_type": "display_data"
    },
    {
     "data": {
      "application/javascript": "$('div#4e057dc2-d05f-4357-92bf-f33be94685fe').width('99%');$('p#5e71edbb-7326-46a5-ad16-857e1bb7620b').text('Elapsed time: 403.99s. Est. remaining time: 00:00:00:02.');",
      "text/plain": [
       "<IPython.core.display.Javascript object>"
      ]
     },
     "metadata": {},
     "output_type": "display_data"
    },
    {
     "data": {
      "application/javascript": "$('div#4e057dc2-d05f-4357-92bf-f33be94685fe').width('100%');$('p#5e71edbb-7326-46a5-ad16-857e1bb7620b').text('Elapsed time: 407.56s. Est. remaining time: 00:00:00:00.');",
      "text/plain": [
       "<IPython.core.display.Javascript object>"
      ]
     },
     "metadata": {},
     "output_type": "display_data"
    },
    {
     "data": {
      "application/javascript": "$('div#4e057dc2-d05f-4357-92bf-f33be94685fe').width('100%');$('p#5e71edbb-7326-46a5-ad16-857e1bb7620b').text('Elapsed time: 407.66s');",
      "text/plain": [
       "<IPython.core.display.Javascript object>"
      ]
     },
     "metadata": {},
     "output_type": "display_data"
    }
   ],
   "source": [
    "result2 = photocurrent_mesolve(H, rho0, times, c_ops=c_ops, sc_ops=sc_ops, e_ops=e_ops, \n",
    "                   ntraj=ntraj, nsubsteps=100,\n",
    "                   store_measurement=True,\n",
    "                   options=Options(store_states=True),\n",
    "                   progress_bar=HTMLProgressBar(),\n",
    "                   map_func=parallel_map)"
   ]
  },
  {
   "cell_type": "raw",
   "metadata": {},
   "source": [
    "# alternative: use the parallel_map based on IPython.parallel\n",
    "from qutip.ipynbtools import parallel_map as ip_parallel_map\n",
    "result2 = smesolve(H, rho0, times, c_ops=c_ops, sc_ops=sc_ops, e_ops=e_ops, \n",
    "                   ntraj=ntraj, nsubsteps=100, method='photocurrent',\n",
    "                   store_measurement=True,\n",
    "                   options=Options(store_states=True),\n",
    "                   progress_bar=HTMLProgressBar(),\n",
    "                   map_func=ip_parallel_map)"
   ]
  },
  {
   "cell_type": "code",
   "execution_count": 14,
   "metadata": {},
   "outputs": [
    {
     "data": {
      "image/png": "[encoded data removed]",
      "text/plain": [
       "<Figure size 1152x576 with 6 Axes>"
      ]
     },
     "metadata": {
      "needs_background": "light"
     },
     "output_type": "display_data"
    }
   ],
   "source": [
    "fig, axes = plt.subplots(2, 3, figsize=(16, 8), sharex=True)\n",
    "\n",
    "axes[0,0].plot(times, result1.expect[0], label=r'Stochastic ME (ntraj = 1)', lw=2)\n",
    "axes[0,0].plot(times, result_ref.expect[0], label=r'Lindblad ME', lw=2)\n",
    "axes[0,0].set_title(\"Cavity photon number (ntraj = 1)\")\n",
    "axes[0,0].legend()\n",
    "\n",
    "axes[1,0].plot(times, result2.expect[0], label=r'Stochatic ME (ntraj = %d)' % ntraj, lw=2)\n",
    "axes[1,0].plot(times, result_ref.expect[0], label=r'Lindblad ME', lw=2)\n",
    "axes[1,0].set_title(\"Cavity photon number (ntraj = 10)\")\n",
    "axes[1,0].legend()\n",
    "\n",
    "\n",
    "axes[0,1].plot(times, result1.expect[2], label=r'Stochastic ME (ntraj = 1)', lw=2)\n",
    "axes[0,1].plot(times, result_ref.expect[2], label=r'Lindblad ME', lw=2)\n",
    "axes[0,1].set_title(\"Qubit excition probability (ntraj = 1)\")\n",
    "axes[0,1].legend()\n",
    "\n",
    "axes[1,1].plot(times, result2.expect[2], label=r'Stochatic ME (ntraj = %d)' % ntraj, lw=2)\n",
    "axes[1,1].plot(times, result_ref.expect[2], label=r'Lindblad ME', lw=2)\n",
    "axes[1,1].set_title(\"Qubit excition probability (ntraj = %d)\" % ntraj)\n",
    "axes[1,1].legend()\n",
    "\n",
    "\n",
    "axes[0,2].step(times, dt * np.cumsum(result1.measurement[0].real), lw=2)\n",
    "axes[0,2].set_title(\"Cummulative photon detections (ntraj = 1)\")\n",
    "axes[1,2].step(times, dt * np.cumsum(np.array(result2.measurement).sum(axis=0).real) / ntraj, lw=2)\n",
    "axes[1,2].set_title(\"Cummulative avg. photon detections (ntraj = %d)\" % ntraj)\n",
    "\n",
    "fig.tight_layout()"
   ]
  },
  {
   "cell_type": "markdown",
   "metadata": {},
   "source": [
    "## Versions"
   ]
  },
  {
   "cell_type": "code",
   "execution_count": 15,
   "metadata": {},
   "outputs": [
    {
     "data": {
      "text/html": [
       "<table><tr><th>Software</th><th>Version</th></tr><tr><td>QuTiP</td><td>4.4.0.dev0+ea5344d9</td></tr><tr><td>Numpy</td><td>1.16.0</td></tr><tr><td>SciPy</td><td>1.2.0</td></tr><tr><td>matplotlib</td><td>3.0.2</td></tr><tr><td>Cython</td><td>0.29.3</td></tr><tr><td>Number of CPUs</td><td>1</td></tr><tr><td>BLAS Info</td><td>OPENBLAS</td></tr><tr><td>IPython</td><td>7.2.0</td></tr><tr><td>Python</td><td>3.6.7 (default, Oct 22 2018, 11:32:17) \n",
       "[GCC 8.2.0]</td></tr><tr><td>OS</td><td>posix [linux]</td></tr><tr><td colspan='2'>Wed Jan 30 11:54:20 2019 JST</td></tr></table>"
      ],
      "text/plain": [
       "<IPython.core.display.HTML object>"
      ]
     },
     "execution_count": 15,
     "metadata": {},
     "output_type": "execute_result"
    }
   ],
   "source": [
    "from qutip.ipynbtools import version_table\n",
    "\n",
    "version_table()"
   ]
  }
 ],
 "metadata": {
  "kernelspec": {
   "display_name": ".venv",
   "language": "python",
   "name": "python3"
  },
  "language_info": {
   "codemirror_mode": {
    "name": "ipython",
    "version": 3
   },
   "file_extension": ".py",
   "mimetype": "text/x-python",
   "name": "python",
   "nbconvert_exporter": "python",
   "pygments_lexer": "ipython3",
   "version": "3.9.21"
  }
 },
 "nbformat": 4,
 "nbformat_minor": 1
}
