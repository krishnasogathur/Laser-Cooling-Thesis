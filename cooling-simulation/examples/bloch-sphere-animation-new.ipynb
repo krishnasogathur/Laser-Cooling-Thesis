{
 "cells": [
  {
   "cell_type": "markdown",
   "id": "78b1ca60",
   "metadata": {},
   "source": [
    "# QuTiP example: Bloch sphere animation"
   ]
  },
  {
   "cell_type": "markdown",
   "id": "d327f3be",
   "metadata": {},
   "source": [
    "J.R. Johansson and P.D. Nation\n",
    "\n",
    "For more information about QuTiP see [http://qutip.org](http://qutip.org)"
   ]
  },
  {
   "cell_type": "markdown",
   "id": "cb3f41cd",
   "metadata": {},
   "source": [
    "Animation with qutip and matplotlib: decaying qubit visualized in a Bloch sphere.\n",
    "(Animation with matplotlib does not work yet in python3)"
   ]
  },
  {
   "cell_type": "code",
   "execution_count": 1,
   "id": "2b83fc86",
   "metadata": {},
   "outputs": [
    {
     "name": "stdout",
     "output_type": "stream",
     "text": [
      "/home/bond007/Desktop/thesis/qutip-notebooks/examples/.venv/bin/python\n"
     ]
    }
   ],
   "source": [
    "!which python"
   ]
  },
  {
   "cell_type": "code",
   "execution_count": 2,
   "id": "3d77ac29",
   "metadata": {},
   "outputs": [],
   "source": [
    "%matplotlib notebook\n",
    "import matplotlib\n",
    "import matplotlib.pyplot as plt\n",
    "matplotlib.use('Agg')\n",
    "\n",
    "from qutip import *\n",
    "from qutip.ipynbtools import plot_animation\n",
    "\n",
    "import numpy as np\n",
    "\n",
    "\n",
    "import matplotlib.animation as animation\n",
    "from mpl_toolkits.mplot3d import Axes3D"
   ]
  },
  {
   "cell_type": "code",
   "execution_count": 3,
   "id": "b9b1e974",
   "metadata": {
    "collapsed": false
   },
   "outputs": [],
   "source": [
    "def qubit_integrate(w, theta, gamma1, gamma2, psi0, tlist):\n",
    "    # operators and the hamiltonian\n",
    "    sx = sigmax(); sy = sigmay(); sz = sigmaz(); sm = sigmam()\n",
    "    H = w * (np.cos(theta) * sz + np.sin(theta) * sx)\n",
    "    # collapse operators\n",
    "    c_op_list = []\n",
    "    n_th = 0.5 # temperature\n",
    "    rate = gamma1 * (n_th + 1)\n",
    "    if rate > 0.0: c_op_list.append(np.sqrt(rate) * sm)\n",
    "    rate = gamma1 * n_th\n",
    "    if rate > 0.0: c_op_list.append(np.sqrt(rate) * sm.dag())\n",
    "    rate = gamma2\n",
    "    if rate > 0.0: c_op_list.append(np.sqrt(rate) * sz)\n",
    "\n",
    "\n",
    "    # evolve and calculate expectation values\n",
    "    output = mesolve(H, psi0, tlist, c_op_list, [sx, sy, sz])  \n",
    "    return output"
   ]
  },
  {
   "cell_type": "code",
   "execution_count": 4,
   "id": "35f8618f",
   "metadata": {
    "collapsed": false
   },
   "outputs": [],
   "source": [
    "w     = 1.0 * 2 * np.pi  # qubit angular frequency\n",
    "theta = 0.2 * np.pi      # qubit angle from sigma_z axis (toward sigma_x axis)\n",
    "gamma1 = 0.5             # qubit relaxation rate\n",
    "gamma2 = 0.2             # qubit dephasing rate\n",
    "# initial state\n",
    "a = 1.0\n",
    "psi0 = (a* basis(2,0) + (1-a)*basis(2,1))/(np.sqrt(a**2 + (1-a)**2))\n",
    "tlist = np.linspace(0, 4, 150)"
   ]
  },
  {
   "cell_type": "code",
   "execution_count": 5,
   "id": "5a72d91e",
   "metadata": {
    "collapsed": false
   },
   "outputs": [],
   "source": [
    "result = qubit_integrate(w, theta, gamma1, gamma2, psi0, tlist)"
   ]
  },
  {
   "cell_type": "code",
   "execution_count": 6,
   "id": "88c0dffe",
   "metadata": {
    "collapsed": false
   },
   "outputs": [],
   "source": [
    "def plot_setup(result):    \n",
    "    \n",
    "    fig = plt.figure(figsize=(8,8))\n",
    "    axes = Axes3D(fig, azim=-40,elev=30)\n",
    "\n",
    "    return fig, axes"
   ]
  },
  {
   "cell_type": "code",
   "execution_count": 7,
   "id": "e5fb0703",
   "metadata": {
    "collapsed": false
   },
   "outputs": [],
   "source": [
    "sphere = None\n",
    "\n",
    "def plot_result(result, n, fig=None, axes=None):\n",
    "\n",
    "    global sphere\n",
    "    \n",
    "    if fig is None or axes is None:\n",
    "        fig, axes = plot_setup(result)\n",
    "\n",
    "    if not sphere:\n",
    "        sphere = Bloch(axes=axes)\n",
    "        sphere.vector_color = ['r']\n",
    "        \n",
    "    sphere.clear()\n",
    "    sphere.add_vectors([np.sin(theta), 0, np.cos(theta)])\n",
    "    sphere.add_points([result.expect[0][:n+1], result.expect[1][:n+1], result.expect[2][:n+1]], meth='l')\n",
    "    sphere.make_sphere()\n",
    "\n",
    "    return fig, axes"
   ]
  },
  {
   "cell_type": "code",
   "execution_count": null,
   "id": "5e832de1",
   "metadata": {
    "collapsed": false
   },
   "outputs": [],
   "source": [
    "plot_animation(plot_setup, plot_result, result)"
   ]
  },
  {
   "cell_type": "markdown",
   "id": "ab98c609",
   "metadata": {},
   "source": [
    "## Versions"
   ]
  },
  {
   "cell_type": "code",
   "execution_count": 21,
   "id": "6363521e",
   "metadata": {
    "collapsed": false
   },
   "outputs": [
    {
     "data": {
      "text/html": [
       "<table><tr><th>Software</th><th>Version</th></tr><tr><td>QuTiP</td><td>5.0.4</td></tr><tr><td>Numpy</td><td>2.0.2</td></tr><tr><td>SciPy</td><td>1.13.1</td></tr><tr><td>matplotlib</td><td>3.9.4</td></tr><tr><td>Number of CPUs</td><td>16</td></tr><tr><td>BLAS Info</td><td>Generic</td></tr><tr><td>IPython</td><td>8.18.1</td></tr><tr><td>Python</td><td>3.9.21 (main, Dec  4 2024, 08:53:34) \n",
       "[GCC 9.4.0]</td></tr><tr><td>OS</td><td>posix [linux]</td></tr><tr><td colspan='2'>Wed Jan 15 15:22:17 2025 IST</td></tr></table>"
      ],
      "text/plain": [
       "<IPython.core.display.HTML object>"
      ]
     },
     "execution_count": 21,
     "metadata": {},
     "output_type": "execute_result"
    }
   ],
   "source": [
    "from qutip.ipynbtools import version_table\n",
    "\n",
    "version_table()"
   ]
  },
  {
   "cell_type": "code",
   "execution_count": null,
   "id": "2ea99ade",
   "metadata": {},
   "outputs": [],
   "source": []
  }
 ],
 "metadata": {
  "kernelspec": {
   "display_name": ".venv",
   "language": "python",
   "name": "python3"
  },
  "language_info": {
   "codemirror_mode": {
    "name": "ipython",
    "version": 3
   },
   "file_extension": ".py",
   "mimetype": "text/x-python",
   "name": "python",
   "nbconvert_exporter": "python",
   "pygments_lexer": "ipython3",
   "version": "3.9.21"
  }
 },
 "nbformat": 4,
 "nbformat_minor": 5
}
