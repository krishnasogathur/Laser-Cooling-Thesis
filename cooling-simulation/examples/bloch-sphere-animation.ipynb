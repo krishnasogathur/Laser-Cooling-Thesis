{
 "cells": [
  {
   "cell_type": "markdown",
   "id": "2de8e454",
   "metadata": {},
   "source": [
    "# QuTiP example: Bloch sphere animation"
   ]
  },
  {
   "cell_type": "markdown",
   "id": "44bb93bc",
   "metadata": {},
   "source": [
    "J.R. Johansson and P.D. Nation\n",
    "\n",
    "For more information about QuTiP see [http://qutip.org](http://qutip.org)"
   ]
  },
  {
   "cell_type": "markdown",
   "id": "ce550ee1",
   "metadata": {},
   "source": [
    "Animation with qutip and matplotlib: decaying qubit visualized in a Bloch sphere.\n",
    "(Animation with matplotlib does not work yet in python3)"
   ]
  },
  {
   "cell_type": "code",
   "execution_count": 3,
   "id": "feaed87a-8d18-4c7f-8cd6-f1d164dd0bb1",
   "metadata": {},
   "outputs": [
    {
     "name": "stdout",
     "output_type": "stream",
     "text": [
      "Collecting matplotlib\n",
      "  Using cached matplotlib-3.9.4-cp39-cp39-manylinux_2_17_x86_64.manylinux2014_x86_64.whl (8.3 MB)\n",
      "Requirement already satisfied: qutip in /usr/lib/python3/dist-packages (5.0.4)\n",
      "Requirement already satisfied: pyparsing>=2.3.1 in /usr/lib/python3/dist-packages (from matplotlib) (2.4.6)\n",
      "Requirement already satisfied: cycler>=0.10 in /usr/lib/python3/dist-packages (from matplotlib) (0.10.0)\n",
      "Collecting kiwisolver>=1.3.1\n",
      "  Using cached kiwisolver-1.4.7-cp39-cp39-manylinux_2_12_x86_64.manylinux2010_x86_64.whl (1.6 MB)\n",
      "Requirement already satisfied: numpy>=1.23 in /home/bond007/.local/lib/python3.9/site-packages (from matplotlib) (2.0.2)\n",
      "Collecting importlib-resources>=3.2.0; python_version < \"3.10\"\n",
      "  Using cached importlib_resources-6.5.2-py3-none-any.whl (37 kB)\n",
      "Collecting contourpy>=1.0.1\n",
      "  Using cached contourpy-1.3.0-cp39-cp39-manylinux_2_17_x86_64.manylinux2014_x86_64.whl (321 kB)\n",
      "Collecting pillow>=8\n",
      "  Using cached pillow-11.1.0-cp39-cp39-manylinux_2_17_x86_64.manylinux2014_x86_64.whl (4.4 MB)\n",
      "Requirement already satisfied: python-dateutil>=2.7 in /home/bond007/.local/lib/python3.9/site-packages (from matplotlib) (2.9.0.post0)\n",
      "Collecting fonttools>=4.22.0\n",
      "  Using cached fonttools-4.55.3-cp39-cp39-manylinux_2_17_x86_64.manylinux2014_x86_64.whl (4.6 MB)\n",
      "Requirement already satisfied: packaging>=20.0 in /usr/lib/python3/dist-packages (from matplotlib) (24.2)\n",
      "Requirement already satisfied: scipy>=1.9 in /usr/lib/python3/dist-packages (from qutip) (1.13.1)\n",
      "Requirement already satisfied: zipp>=3.1.0; python_version < \"3.10\" in /home/bond007/.local/lib/python3.9/site-packages (from importlib-resources>=3.2.0; python_version < \"3.10\"->matplotlib) (3.21.0)\n",
      "Requirement already satisfied: six>=1.5 in /usr/lib/python3/dist-packages (from python-dateutil>=2.7->matplotlib) (1.14.0)\n",
      "Installing collected packages: kiwisolver, importlib-resources, contourpy, pillow, fonttools, matplotlib\n",
      "Successfully installed contourpy-1.3.0 fonttools-4.55.3 importlib-resources-6.5.2 kiwisolver-1.4.7 matplotlib-3.9.4 pillow-11.1.0\n"
     ]
    }
   ],
   "source": [
    "!pip install matplotlib qutip "
   ]
  },
  {
   "cell_type": "code",
   "execution_count": 4,
   "id": "c1951f57",
   "metadata": {
    "collapsed": false,
    "jupyter": {
     "outputs_hidden": false
    }
   },
   "outputs": [],
   "source": [
    "%matplotlib inline\n",
    "import matplotlib.pyplot as plt"
   ]
  },
  {
   "cell_type": "code",
   "execution_count": 5,
   "id": "e73584fc",
   "metadata": {
    "collapsed": false,
    "jupyter": {
     "outputs_hidden": false
    }
   },
   "outputs": [],
   "source": [
    "import numpy as np"
   ]
  },
  {
   "cell_type": "code",
   "execution_count": 6,
   "id": "081652ad",
   "metadata": {
    "collapsed": false,
    "jupyter": {
     "outputs_hidden": false
    }
   },
   "outputs": [],
   "source": [
    "import matplotlib.animation as animation\n",
    "from mpl_toolkits.mplot3d import Axes3D"
   ]
  },
  {
   "cell_type": "code",
   "execution_count": 7,
   "id": "86fcf210",
   "metadata": {
    "collapsed": false,
    "jupyter": {
     "outputs_hidden": false
    }
   },
   "outputs": [],
   "source": [
    "from qutip import *\n",
    "from qutip.ipynbtools import plot_animation"
   ]
  },
  {
   "cell_type": "code",
   "execution_count": 8,
   "id": "56600b55",
   "metadata": {
    "collapsed": false,
    "jupyter": {
     "outputs_hidden": false
    }
   },
   "outputs": [],
   "source": [
    "def qubit_integrate(w, theta, gamma1, gamma2, psi0, tlist):\n",
    "    # operators and the hamiltonian\n",
    "    sx = sigmax(); sy = sigmay(); sz = sigmaz(); sm = sigmam()\n",
    "    H = w * (np.cos(theta) * sz + np.sin(theta) * sx)\n",
    "    # collapse operators\n",
    "    c_op_list = []\n",
    "    n_th = 0.5 # temperature\n",
    "    rate = gamma1 * (n_th + 1)\n",
    "    if rate > 0.0: c_op_list.append(np.sqrt(rate) * sm)\n",
    "    rate = gamma1 * n_th\n",
    "    if rate > 0.0: c_op_list.append(np.sqrt(rate) * sm.dag())\n",
    "    rate = gamma2\n",
    "    if rate > 0.0: c_op_list.append(np.sqrt(rate) * sz)\n",
    "\n",
    "\n",
    "    # evolve and calculate expectation values\n",
    "    output = mesolve(H, psi0, tlist, c_op_list, [sx, sy, sz])  \n",
    "    return output"
   ]
  },
  {
   "cell_type": "code",
   "execution_count": 9,
   "id": "8cb0ad09",
   "metadata": {
    "collapsed": false,
    "jupyter": {
     "outputs_hidden": false
    }
   },
   "outputs": [],
   "source": [
    "w     = 1.0 * 2 * np.pi  # qubit angular frequency\n",
    "theta = 0.2 * np.pi      # qubit angle from sigma_z axis (toward sigma_x axis)\n",
    "gamma1 = 0.5             # qubit relaxation rate\n",
    "gamma2 = 0.2             # qubit dephasing rate\n",
    "# initial state\n",
    "a = 1.0\n",
    "psi0 = (a* basis(2,0) + (1-a)*basis(2,1))/(np.sqrt(a**2 + (1-a)**2))\n",
    "tlist = np.linspace(0, 4, 150)"
   ]
  },
  {
   "cell_type": "code",
   "execution_count": 10,
   "id": "8a1e593b",
   "metadata": {
    "collapsed": false,
    "jupyter": {
     "outputs_hidden": false
    }
   },
   "outputs": [],
   "source": [
    "result = qubit_integrate(w, theta, gamma1, gamma2, psi0, tlist)"
   ]
  },
  {
   "cell_type": "code",
   "execution_count": 11,
   "id": "d28ab1c3",
   "metadata": {
    "collapsed": false,
    "jupyter": {
     "outputs_hidden": false
    }
   },
   "outputs": [],
   "source": [
    "def plot_setup(result):    \n",
    "    \n",
    "    fig = plt.figure(figsize=(8,8))\n",
    "    axes = Axes3D(fig, azim=-40,elev=30)\n",
    "\n",
    "    return fig, axes"
   ]
  },
  {
   "cell_type": "code",
   "execution_count": 12,
   "id": "53dac010",
   "metadata": {
    "collapsed": false,
    "jupyter": {
     "outputs_hidden": false
    }
   },
   "outputs": [],
   "source": [
    "sphere = None\n",
    "\n",
    "def plot_result(result, n, fig=None, axes=None):\n",
    "\n",
    "    global sphere\n",
    "    \n",
    "    if fig is None or axes is None:\n",
    "        fig, axes = plot_setup(result)\n",
    "\n",
    "    if not sphere:\n",
    "        sphere = Bloch(axes=axes)\n",
    "        sphere.vector_color = ['r']\n",
    "        \n",
    "    sphere.clear()\n",
    "    sphere.add_vectors([np.sin(theta), 0, np.cos(theta)])\n",
    "    sphere.add_points([result.expect[0][:n+1], result.expect[1][:n+1], result.expect[2][:n+1]], meth='l')\n",
    "    sphere.make_sphere()\n",
    "\n",
    "    return fig, axes"
   ]
  },
  {
   "cell_type": "code",
   "execution_count": 13,
   "id": "fc799945",
   "metadata": {
    "collapsed": false,
    "jupyter": {
     "outputs_hidden": false
    }
   },
   "outputs": [
    {
     "name": "stderr",
     "output_type": "stream",
     "text": [
      "MovieWriter avconv unavailable; using Pillow instead.\n"
     ]
    },
    {
     "ename": "ValueError",
     "evalue": "unknown file extension: .mp4",
     "output_type": "error",
     "traceback": [
      "\u001b[0;31m---------------------------------------------------------------------------\u001b[0m",
      "\u001b[0;31mKeyError\u001b[0m                                  Traceback (most recent call last)",
      "File \u001b[0;32m~/.local/lib/python3.9/site-packages/PIL/Image.py:2571\u001b[0m, in \u001b[0;36mImage.save\u001b[0;34m(self, fp, format, **params)\u001b[0m\n\u001b[1;32m   2570\u001b[0m \u001b[38;5;28;01mtry\u001b[39;00m:\n\u001b[0;32m-> 2571\u001b[0m     \u001b[38;5;28mformat\u001b[39m \u001b[38;5;241m=\u001b[39m \u001b[43mEXTENSION\u001b[49m\u001b[43m[\u001b[49m\u001b[43mext\u001b[49m\u001b[43m]\u001b[49m\n\u001b[1;32m   2572\u001b[0m \u001b[38;5;28;01mexcept\u001b[39;00m \u001b[38;5;167;01mKeyError\u001b[39;00m \u001b[38;5;28;01mas\u001b[39;00m e:\n",
      "\u001b[0;31mKeyError\u001b[0m: '.mp4'",
      "\nThe above exception was the direct cause of the following exception:\n",
      "\u001b[0;31mValueError\u001b[0m                                Traceback (most recent call last)",
      "Cell \u001b[0;32mIn[13], line 1\u001b[0m\n\u001b[0;32m----> 1\u001b[0m \u001b[43mplot_animation\u001b[49m\u001b[43m(\u001b[49m\u001b[43mplot_setup\u001b[49m\u001b[43m,\u001b[49m\u001b[43m \u001b[49m\u001b[43mplot_result\u001b[49m\u001b[43m,\u001b[49m\u001b[43m \u001b[49m\u001b[43mresult\u001b[49m\u001b[43m)\u001b[49m\n",
      "File \u001b[0;32m/usr/lib/python3/dist-packages/qutip/ipynbtools.py:318\u001b[0m, in \u001b[0;36mplot_animation\u001b[0;34m(plot_setup_func, plot_func, result, name, writer, codec, verbose)\u001b[0m\n\u001b[1;32m    313\u001b[0m     \u001b[38;5;28;01mreturn\u001b[39;00m plot_func(result, n, fig\u001b[38;5;241m=\u001b[39mfig, axes\u001b[38;5;241m=\u001b[39maxes)\n\u001b[1;32m    315\u001b[0m anim \u001b[38;5;241m=\u001b[39m animation\u001b[38;5;241m.\u001b[39mFuncAnimation(\n\u001b[1;32m    316\u001b[0m     fig, update, frames\u001b[38;5;241m=\u001b[39m\u001b[38;5;28mlen\u001b[39m(result\u001b[38;5;241m.\u001b[39mtimes), blit\u001b[38;5;241m=\u001b[39m\u001b[38;5;28;01mTrue\u001b[39;00m)\n\u001b[0;32m--> 318\u001b[0m \u001b[43manim\u001b[49m\u001b[38;5;241;43m.\u001b[39;49m\u001b[43msave\u001b[49m\u001b[43m(\u001b[49m\u001b[43mname\u001b[49m\u001b[43m \u001b[49m\u001b[38;5;241;43m+\u001b[39;49m\u001b[43m \u001b[49m\u001b[38;5;124;43m'\u001b[39;49m\u001b[38;5;124;43m.mp4\u001b[39;49m\u001b[38;5;124;43m'\u001b[39;49m\u001b[43m,\u001b[49m\u001b[43m \u001b[49m\u001b[43mfps\u001b[49m\u001b[38;5;241;43m=\u001b[39;49m\u001b[38;5;241;43m10\u001b[39;49m\u001b[43m,\u001b[49m\u001b[43m \u001b[49m\u001b[43mwriter\u001b[49m\u001b[38;5;241;43m=\u001b[39;49m\u001b[43mwriter\u001b[49m\u001b[43m,\u001b[49m\u001b[43m \u001b[49m\u001b[43mcodec\u001b[49m\u001b[38;5;241;43m=\u001b[39;49m\u001b[43mcodec\u001b[49m\u001b[43m)\u001b[49m\n\u001b[1;32m    320\u001b[0m plt\u001b[38;5;241m.\u001b[39mclose(fig)\n\u001b[1;32m    322\u001b[0m \u001b[38;5;28;01mif\u001b[39;00m verbose:\n",
      "File \u001b[0;32m~/.local/lib/python3.9/site-packages/matplotlib/animation.py:1089\u001b[0m, in \u001b[0;36mAnimation.save\u001b[0;34m(self, filename, writer, fps, dpi, codec, bitrate, extra_args, metadata, extra_anim, savefig_kwargs, progress_callback)\u001b[0m\n\u001b[1;32m   1087\u001b[0m         progress_callback(frame_number, total_frames)\n\u001b[1;32m   1088\u001b[0m         frame_number \u001b[38;5;241m+\u001b[39m\u001b[38;5;241m=\u001b[39m \u001b[38;5;241m1\u001b[39m\n\u001b[0;32m-> 1089\u001b[0m writer\u001b[38;5;241m.\u001b[39mgrab_frame(\u001b[38;5;241m*\u001b[39m\u001b[38;5;241m*\u001b[39msavefig_kwargs)\n",
      "File \u001b[0;32m/usr/lib/python3.9/contextlib.py:126\u001b[0m, in \u001b[0;36m_GeneratorContextManager.__exit__\u001b[0;34m(self, typ, value, traceback)\u001b[0m\n\u001b[1;32m    124\u001b[0m \u001b[38;5;28;01mif\u001b[39;00m typ \u001b[38;5;129;01mis\u001b[39;00m \u001b[38;5;28;01mNone\u001b[39;00m:\n\u001b[1;32m    125\u001b[0m     \u001b[38;5;28;01mtry\u001b[39;00m:\n\u001b[0;32m--> 126\u001b[0m         \u001b[38;5;28;43mnext\u001b[39;49m\u001b[43m(\u001b[49m\u001b[38;5;28;43mself\u001b[39;49m\u001b[38;5;241;43m.\u001b[39;49m\u001b[43mgen\u001b[49m\u001b[43m)\u001b[49m\n\u001b[1;32m    127\u001b[0m     \u001b[38;5;28;01mexcept\u001b[39;00m \u001b[38;5;167;01mStopIteration\u001b[39;00m:\n\u001b[1;32m    128\u001b[0m         \u001b[38;5;28;01mreturn\u001b[39;00m \u001b[38;5;28;01mFalse\u001b[39;00m\n",
      "File \u001b[0;32m~/.local/lib/python3.9/site-packages/matplotlib/animation.py:225\u001b[0m, in \u001b[0;36mAbstractMovieWriter.saving\u001b[0;34m(self, fig, outfile, dpi, *args, **kwargs)\u001b[0m\n\u001b[1;32m    223\u001b[0m     \u001b[38;5;28;01myield\u001b[39;00m \u001b[38;5;28mself\u001b[39m\n\u001b[1;32m    224\u001b[0m \u001b[38;5;28;01mfinally\u001b[39;00m:\n\u001b[0;32m--> 225\u001b[0m     \u001b[38;5;28;43mself\u001b[39;49m\u001b[38;5;241;43m.\u001b[39;49m\u001b[43mfinish\u001b[49m\u001b[43m(\u001b[49m\u001b[43m)\u001b[49m\n",
      "File \u001b[0;32m~/.local/lib/python3.9/site-packages/matplotlib/animation.py:495\u001b[0m, in \u001b[0;36mPillowWriter.finish\u001b[0;34m(self)\u001b[0m\n\u001b[1;32m    494\u001b[0m \u001b[38;5;28;01mdef\u001b[39;00m \u001b[38;5;21mfinish\u001b[39m(\u001b[38;5;28mself\u001b[39m):\n\u001b[0;32m--> 495\u001b[0m     \u001b[38;5;28;43mself\u001b[39;49m\u001b[38;5;241;43m.\u001b[39;49m\u001b[43m_frames\u001b[49m\u001b[43m[\u001b[49m\u001b[38;5;241;43m0\u001b[39;49m\u001b[43m]\u001b[49m\u001b[38;5;241;43m.\u001b[39;49m\u001b[43msave\u001b[49m\u001b[43m(\u001b[49m\n\u001b[1;32m    496\u001b[0m \u001b[43m        \u001b[49m\u001b[38;5;28;43mself\u001b[39;49m\u001b[38;5;241;43m.\u001b[39;49m\u001b[43moutfile\u001b[49m\u001b[43m,\u001b[49m\u001b[43m \u001b[49m\u001b[43msave_all\u001b[49m\u001b[38;5;241;43m=\u001b[39;49m\u001b[38;5;28;43;01mTrue\u001b[39;49;00m\u001b[43m,\u001b[49m\u001b[43m \u001b[49m\u001b[43mappend_images\u001b[49m\u001b[38;5;241;43m=\u001b[39;49m\u001b[38;5;28;43mself\u001b[39;49m\u001b[38;5;241;43m.\u001b[39;49m\u001b[43m_frames\u001b[49m\u001b[43m[\u001b[49m\u001b[38;5;241;43m1\u001b[39;49m\u001b[43m:\u001b[49m\u001b[43m]\u001b[49m\u001b[43m,\u001b[49m\n\u001b[1;32m    497\u001b[0m \u001b[43m        \u001b[49m\u001b[43mduration\u001b[49m\u001b[38;5;241;43m=\u001b[39;49m\u001b[38;5;28;43mint\u001b[39;49m\u001b[43m(\u001b[49m\u001b[38;5;241;43m1000\u001b[39;49m\u001b[43m \u001b[49m\u001b[38;5;241;43m/\u001b[39;49m\u001b[43m \u001b[49m\u001b[38;5;28;43mself\u001b[39;49m\u001b[38;5;241;43m.\u001b[39;49m\u001b[43mfps\u001b[49m\u001b[43m)\u001b[49m\u001b[43m,\u001b[49m\u001b[43m \u001b[49m\u001b[43mloop\u001b[49m\u001b[38;5;241;43m=\u001b[39;49m\u001b[38;5;241;43m0\u001b[39;49m\u001b[43m)\u001b[49m\n",
      "File \u001b[0;32m~/.local/lib/python3.9/site-packages/PIL/Image.py:2574\u001b[0m, in \u001b[0;36mImage.save\u001b[0;34m(self, fp, format, **params)\u001b[0m\n\u001b[1;32m   2572\u001b[0m     \u001b[38;5;28;01mexcept\u001b[39;00m \u001b[38;5;167;01mKeyError\u001b[39;00m \u001b[38;5;28;01mas\u001b[39;00m e:\n\u001b[1;32m   2573\u001b[0m         msg \u001b[38;5;241m=\u001b[39m \u001b[38;5;124mf\u001b[39m\u001b[38;5;124m\"\u001b[39m\u001b[38;5;124munknown file extension: \u001b[39m\u001b[38;5;132;01m{\u001b[39;00mext\u001b[38;5;132;01m}\u001b[39;00m\u001b[38;5;124m\"\u001b[39m\n\u001b[0;32m-> 2574\u001b[0m         \u001b[38;5;28;01mraise\u001b[39;00m \u001b[38;5;167;01mValueError\u001b[39;00m(msg) \u001b[38;5;28;01mfrom\u001b[39;00m \u001b[38;5;21;01me\u001b[39;00m\n\u001b[1;32m   2576\u001b[0m \u001b[38;5;28;01mif\u001b[39;00m \u001b[38;5;28mformat\u001b[39m\u001b[38;5;241m.\u001b[39mupper() \u001b[38;5;129;01mnot\u001b[39;00m \u001b[38;5;129;01min\u001b[39;00m SAVE:\n\u001b[1;32m   2577\u001b[0m     init()\n",
      "\u001b[0;31mValueError\u001b[0m: unknown file extension: .mp4"
     ]
    },
    {
     "data": {
      "text/plain": [
       "<Figure size 800x800 with 0 Axes>"
      ]
     },
     "metadata": {},
     "output_type": "display_data"
    }
   ],
   "source": [
    "plot_animation(plot_setup, plot_result, result)"
   ]
  },
  {
   "cell_type": "markdown",
   "id": "8d966dd1",
   "metadata": {},
   "source": [
    "## Versions"
   ]
  },
  {
   "cell_type": "code",
   "execution_count": 11,
   "id": "c1955254",
   "metadata": {
    "collapsed": false,
    "jupyter": {
     "outputs_hidden": false
    }
   },
   "outputs": [
    {
     "data": {
      "text/html": [
       "<table><tr><th>Software</th><th>Version</th></tr><tr><td>Cython</td><td>0.21.1</td></tr><tr><td>SciPy</td><td>0.14.0</td></tr><tr><td>QuTiP</td><td>3.1.0</td></tr><tr><td>Python</td><td>2.7.8 (default, Oct 20 2014, 15:05:19) \n",
       "[GCC 4.9.1]</td></tr><tr><td>IPython</td><td>2.3.0</td></tr><tr><td>OS</td><td>posix [linux2]</td></tr><tr><td>Numpy</td><td>1.9.0</td></tr><tr><td>matplotlib</td><td>1.4.2</td></tr><tr><td colspan='2'>Tue Jan 13 11:57:02 2015 JST</td></tr></table>"
      ],
      "text/plain": [
       "<IPython.core.display.HTML at 0x7fcf879aa210>"
      ]
     },
     "execution_count": 11,
     "metadata": {},
     "output_type": "execute_result"
    }
   ],
   "source": [
    "from qutip.ipynbtools import version_table\n",
    "\n",
    "version_table()"
   ]
  }
 ],
 "metadata": {
  "kernelspec": {
   "display_name": "Python 3 (ipykernel)",
   "language": "python",
   "name": "python3"
  },
  "language_info": {
   "codemirror_mode": {
    "name": "ipython",
    "version": 3
   },
   "file_extension": ".py",
   "mimetype": "text/x-python",
   "name": "python",
   "nbconvert_exporter": "python",
   "pygments_lexer": "ipython3",
   "version": "3.9.21"
  }
 },
 "nbformat": 4,
 "nbformat_minor": 5
}
